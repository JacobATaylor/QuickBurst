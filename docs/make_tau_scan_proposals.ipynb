{
 "cells": [
  {
   "cell_type": "code",
   "execution_count": null,
   "id": "dbd77300",
   "metadata": {},
   "outputs": [],
   "source": [
    "from IPython.core.display import display, HTML\n",
    "display(HTML(\"<style>.container { width:99% !important; }</style>\"))"
   ]
  },
  {
   "cell_type": "code",
   "execution_count": null,
   "id": "d63abdb1",
   "metadata": {},
   "outputs": [],
   "source": [
    "%matplotlib inline\n",
    "#%config InlineBackend.figure_format = 'retina'\n",
    "%load_ext autoreload\n",
    "\n",
    "%autoreload 2\n",
    "\n",
    "import numpy as np\n",
    "\n",
    "import matplotlib\n",
    "matplotlib.rcParams.update({'font.size': 19})\n",
    "\n",
    "import matplotlib.pyplot as plt\n",
    "import os, glob, json\n",
    "import scipy.linalg as sl\n",
    "import enterprise\n",
    "from enterprise.pulsar import Pulsar\n",
    "import enterprise.signals.parameter as parameter\n",
    "from enterprise.signals import utils\n",
    "from enterprise.signals import signal_base\n",
    "from enterprise.signals import selections\n",
    "from enterprise.signals.selections import Selection\n",
    "from enterprise.signals import white_signals\n",
    "from enterprise.signals import gp_signals\n",
    "from enterprise.signals import deterministic_signals\n",
    "import enterprise.constants as const\n",
    "\n",
    "import enterprise_extensions\n",
    "from enterprise_extensions import blocks\n",
    "\n",
    "from QuickBurst import QuickBurst_MCMC as QB_MCMC\n",
    "\n",
    "import healpy as hp\n",
    "\n",
    "import libstempo as T2\n",
    "import libstempo.toasim as LT\n",
    "import libstempo.plot as LP\n",
    "import re\n",
    "\n",
    "import pickle\n",
    "\n",
    "from QuickBurst import tau_scans_pta"
   ]
  },
  {
   "cell_type": "markdown",
   "id": "e30cc47d",
   "metadata": {},
   "source": [
    "# Setup"
   ]
  },
  {
   "cell_type": "code",
   "execution_count": null,
   "id": "5659e8d2",
   "metadata": {
    "scrolled": true
   },
   "outputs": [],
   "source": [
    "parDir = '/home/user/.../Pars/'\n",
    "timDir =  \"/home/user/.../Tims/\"\n",
    "\n",
    "parfiles = sorted(glob.glob(parDir + '*.par'))\n",
    "timfiles = sorted(glob.glob(timDir + \"*.tim\"))\n",
    "\n",
    "psrs = []\n",
    "for p, t in zip(parfiles, timfiles):\n",
    "    psr = Pulsar(p, t, ephem=None, clk=None)\n",
    "    psrs.append(psr)"
   ]
  },
  {
   "cell_type": "code",
   "execution_count": null,
   "id": "9bb3ad3e",
   "metadata": {},
   "outputs": [],
   "source": [
    "'''can save generated pulsars as a pickle for future use'''\n",
    "# pkl_path = \"/home/user/filepath.../\"\n",
    "# os.makedirs(pkl_path,exist_ok=True)\n",
    "# with open(pkl_path + \"Psrs_pkl.pkl\", 'wb') as f: #_old_pars\n",
    "#     pickle.dump(psrs, f)"
   ]
  },
  {
   "cell_type": "code",
   "execution_count": null,
   "id": "c816efb8",
   "metadata": {},
   "outputs": [],
   "source": [
    "'''Load in pulsar pickle files'''\n",
    "pkl_path = \"/home/reyna/15yr-v1.1/Data/Simple_test_data/20_pulsars/WN_only/Psrs.pkl\"\n",
    "with open(pkl_path , 'rb') as f:\n",
    "    psrs = pickle.load(f)"
   ]
  },
  {
   "cell_type": "code",
   "execution_count": null,
   "id": "59bd4411",
   "metadata": {
    "scrolled": true
   },
   "outputs": [],
   "source": [
    "### Visualize data\n",
    "min_toa = np.min([p.toas.min() for p in psrs])\n",
    "for i, psr in enumerate(psrs):\n",
    "    plt.figure(i)      \n",
    "    plt.errorbar((psr.toas-min_toa)/86400/365,\n",
    "            psr.residuals,\n",
    "            yerr=0.5*10**(-6),#psr.toaerrs[mk],\n",
    "            markersize=8, ls='', marker='x', alpha=0.5)\n",
    "    plt.xlabel('Time [MJD]')\n",
    "    plt.ylabel(r'Residuals [$\\mu$s]')\n",
    "    plt.title('Pulsar {}'.format(psrs[i].name))\n",
    "    plt.show()"
   ]
  },
  {
   "cell_type": "code",
   "execution_count": null,
   "id": "f335d7cd-fd8a-495a-8299-d21ba5e8daaf",
   "metadata": {},
   "outputs": [],
   "source": [
    "#Quantifying data gaps in pulsars\n",
    "data_gaps = []\n",
    "for psr_idx, psr in enumerate(psrs):\n",
    "    psr_data_gaps = []\n",
    "    for toa_idx, toa in enumerate(psr.toas):\n",
    "        #Check if gaps are larger than 30 days\n",
    "        if (toa-psr.toas[toa_idx-1])/3600/24 > 110:\n",
    "            psr_data_gaps.append([psr.toas[toa_idx-1], toa])\n",
    "    data_gaps.append(psr_data_gaps)\n",
    "        "
   ]
  },
  {
   "cell_type": "code",
   "execution_count": null,
   "id": "f9758d9d-91f9-4b20-9332-a8a4dda4ff6c",
   "metadata": {},
   "outputs": [],
   "source": [
    "np.shape(data_gaps[20])"
   ]
  },
  {
   "cell_type": "code",
   "execution_count": null,
   "id": "ba2a1806-b103-4ee4-9fba-5fa413cfe5cd",
   "metadata": {},
   "outputs": [],
   "source": [
    "print(0.2*365, 0.38*365)"
   ]
  },
  {
   "cell_type": "code",
   "execution_count": null,
   "id": "3bec9981-3ca6-403b-8f40-780ce4b22850",
   "metadata": {
    "scrolled": true
   },
   "outputs": [],
   "source": [
    "for i in range(len(data_gaps)):\n",
    "    for gaps in data_gaps[i]:\n",
    "        print(gaps[0]/3600/24, gaps[1]/3600/24)\n",
    "        # print(gaps/3600/24)"
   ]
  },
  {
   "cell_type": "markdown",
   "id": "9ae4ece7",
   "metadata": {},
   "source": [
    "## generates shorted list of pulsars"
   ]
  },
  {
   "cell_type": "code",
   "execution_count": null,
   "id": "d878d02a",
   "metadata": {
    "scrolled": true
   },
   "outputs": [],
   "source": [
    "#Truncate PTA based on Tspan > 10 years\n",
    "keep_list = []\n",
    "for p in psrs:\n",
    "    if (p.toas.max()-p.toas.min())/86400/365 > 10:\n",
    "        print(p.name)\n",
    "        print((p.toas.max()-p.toas.min())/86400/365)\n",
    "        keep_list.append(p)\n",
    "print(len(keep_list))"
   ]
  },
  {
   "cell_type": "code",
   "execution_count": null,
   "id": "752d8b25",
   "metadata": {},
   "outputs": [],
   "source": [
    "# os.makedirs(pkl_path, exist_ok=True)\n",
    "# with open(pkl_path + \"Psrs_pkl_10yr.pkl\", 'wb') as f:\n",
    "#     pickle.dump(keep_list, f)"
   ]
  },
  {
   "cell_type": "code",
   "execution_count": null,
   "id": "4891c632",
   "metadata": {},
   "outputs": [],
   "source": [
    "# with open(\"home/user/filepath.../Psrs_pkl_10yrs.pkl\", 'rb') as f:\n",
    "#     psrs = pickle.load(f)"
   ]
  },
  {
   "cell_type": "code",
   "execution_count": null,
   "id": "d1692c64",
   "metadata": {
    "scrolled": true
   },
   "outputs": [],
   "source": [
    "#plotting for more complicated dataset pulsars\n",
    "ng_frontends=['327', '430', 'Rcvr_800', 'Rcvr1_2', 'L-wide', 'S-wide', '1.5GHz', '3GHz']\n",
    "for i, psr in enumerate(psrs):\n",
    "    fe_masks = {}\n",
    "    fe_resids = {}\n",
    "    psr_fe = np.unique(psr.flags['fe'])\n",
    "    resids = psr.residuals\n",
    "    #plt.plot(psr.toas(),resids)\n",
    "#     print(psr.name)\n",
    "    plt.figure(i)\n",
    "    for fe in ng_frontends:\n",
    "        if fe in psr_fe:\n",
    "            fe_masks[fe] = np.array(psr.flags['fe']==fe)\n",
    "            mk = fe_masks[fe]\n",
    "            plt.errorbar(psr.toas[mk],\n",
    "                    psr.residuals[mk]*1e6,\n",
    "                    yerr=0.0,#psr.toaerrs[mk],\n",
    "                    markersize=8, ls='', marker='x', label=fe, alpha=0.5)\n",
    "            plt.xlim(tref, maximum)\n",
    "            plt.title(psr.name)\n",
    "            #plt.axvline(psr.toas[0]+1423*(86400))\n",
    "    plt.legend()\n",
    "    plt.show()"
   ]
  },
  {
   "cell_type": "code",
   "execution_count": null,
   "id": "2add2eca",
   "metadata": {
    "scrolled": true
   },
   "outputs": [],
   "source": [
    "#load in noise file for dataset\n",
    "noise_file = \"/home/reyna/15yr-v1.1/Data/Simple_test_data/20_pulsars/WN_only/noise_dict.json\"\n",
    "with open(noise_file, 'r') as h:\n",
    "    noise_params = json.load(h)\n",
    "    \n",
    "### RUN IF INCLUDING CURN\n",
    "# gw_gamma = 13/3 \n",
    "# gw_amp = -14.6\n",
    "# noise_params['gw_crn_gamma'] = gw_gamma\n",
    "# noise_params['gw_crn_log10_A'] = gw_amp"
   ]
  },
  {
   "cell_type": "code",
   "execution_count": null,
   "id": "872d1fcd-e338-489f-b7fc-c1329ff2e19e",
   "metadata": {
    "scrolled": true
   },
   "outputs": [],
   "source": [
    "noise_params"
   ]
  },
  {
   "cell_type": "code",
   "execution_count": null,
   "id": "98212ec1",
   "metadata": {
    "scrolled": true
   },
   "outputs": [],
   "source": [
    "#Edit equad to have keys including 't2equad'\n",
    "#only needed for converting 12.5yr data to current enterprise structure\n",
    "noise_dict = {}\n",
    "for k, v in noise_params.items():\n",
    "    if 'equad' in k:\n",
    "        noise_dict[k[:-5] + 't2equad'] = v\n",
    "    else:\n",
    "        noise_dict[k] = v\n",
    "noise_params = noise_dict"
   ]
  },
  {
   "cell_type": "code",
   "execution_count": null,
   "id": "4c21e777",
   "metadata": {},
   "outputs": [],
   "source": [
    "#check noise parameters are what they should be\n",
    "noise_params"
   ]
  },
  {
   "cell_type": "markdown",
   "id": "168f78f6",
   "metadata": {},
   "source": [
    "# Individual glitch tau scans"
   ]
  },
  {
   "cell_type": "code",
   "execution_count": null,
   "id": "9d6ce696",
   "metadata": {},
   "outputs": [],
   "source": [
    "#Finding reference time for dataset\n",
    "maximum = 0\n",
    "minimum = np.inf\n",
    "for psr in psrs:\n",
    "    if psr.toas.max() > maximum:\n",
    "        maximum = psr.toas.max()\n",
    "    if psr.toas.min() < minimum:\n",
    "        minimum = psr.toas.min()\n",
    "\n",
    "\n",
    "#Sets reference time\n",
    "tref = minimum\n",
    "\n",
    "t0_max = (maximum - minimum)/365/24/3600\n",
    "print(t0_max)"
   ]
  },
  {
   "cell_type": "code",
   "execution_count": null,
   "id": "01ffc644",
   "metadata": {},
   "outputs": [],
   "source": [
    "#frequency range (Hz)\n",
    "f_max = 1e-7\n",
    "f_min = 3.5e-9\n",
    "\n",
    "#centrtal time range (years)\n",
    "t_max = t0_max\n",
    "t_min = 0.0\n",
    "\n",
    "#tau range (envelope size, years)\n",
    "tau_min = 0.05\n",
    "tau_max = 5.0"
   ]
  },
  {
   "cell_type": "code",
   "execution_count": null,
   "id": "7f0e7e12",
   "metadata": {},
   "outputs": [],
   "source": [
    "#frequency of wave with a period equal to envelope width\n",
    "1/(tau_max*365*24*3600)"
   ]
  },
  {
   "cell_type": "code",
   "execution_count": null,
   "id": "91bea741",
   "metadata": {},
   "outputs": [],
   "source": [
    "TS_all = {} #will hold individual pulsar Tau Scans\n",
    "tau_scan = 0\n",
    "for i in range(len(psrs)):\n",
    "    # generate a pta for each pulsar individualy\n",
    "    x = QB_MCMC.get_pta([psrs[i],], vary_white_noise=False, include_equad=True,\n",
    "                            include_ecorr = False, include_efac = True, \n",
    "                            wn_backend_selection=False, noisedict=noise_params, include_rn=False,\n",
    "                            vary_rn=False, include_per_psr_rn=False, vary_per_psr_rn=False,\n",
    "                            max_n_wavelet=5, efac_start = None, rn_amp_prior='log-uniform',\n",
    "                            rn_log_amp_range=[-18,-11], per_psr_rn_amp_prior='log-uniform',\n",
    "                            per_psr_rn_log_amp_range=[-18,-11], wavelet_amp_prior='uniform',\n",
    "                            wavelet_log_amp_range=[-10.0,-5], prior_recovery=False,\n",
    "                            max_n_glitch=1, glitch_amp_prior='uniform', glitch_log_amp_range=[-10.0,-5],\n",
    "                            t0_min=0.0, t0_max=t0_max, f0_min=f_min, f0_max=f_max,\n",
    "                            TF_prior=None, tref=tref)\n",
    "\n",
    "    #Performs tau scans for each pulsar individually (noise transients)\n",
    "\n",
    "    TauScan = tau_scans_pta.TauScan([psrs[i],], params=noise_params, pta=x[0])\n",
    "    TS_dict = tau_scans_pta.make_tau_scan_map(TauScan, f_min=f_min, f_max=f_max, t_min=t_min, t_max=t_max,\n",
    "                                tau_min=tau_min, tau_max=tau_max)\n",
    "    TS_all['tau_edges'] = TS_dict['tau_edges'] #why saved every time?\n",
    "    TS_all['t0_edges'] = TS_dict['t0_edges']\n",
    "    TS_all['f0_edges'] = TS_dict['f0_edges']\n",
    "    TS_all['tau_scan'+str(i)] = TS_dict['tau_scan']"
   ]
  },
  {
   "cell_type": "markdown",
   "id": "5b3996ac",
   "metadata": {},
   "source": [
    "## Saving individual glitch tau scans"
   ]
  },
  {
   "cell_type": "code",
   "execution_count": null,
   "id": "721e77bf",
   "metadata": {},
   "outputs": [],
   "source": [
    "with open(\"/home/reyna/15yr-v1.1/Data/Simple_test_data/20_pulsars/WN_only/Tau_scans/noise_transient.pkl\", 'wb') as f:\n",
    "    pickle.dump(TS_all, f)"
   ]
  },
  {
   "cell_type": "code",
   "execution_count": null,
   "id": "5931fca9",
   "metadata": {},
   "outputs": [],
   "source": [
    "with open(\"/home/reyna/15yr-v1.1/Script/QuickBurst/data/glitch_tau_scan_SNR99p.pkl\", 'rb') as f:\n",
    "    TS_all = pickle.load(f)"
   ]
  },
  {
   "cell_type": "markdown",
   "id": "ac562b48",
   "metadata": {},
   "source": [
    "## Plotting glitch tau scans"
   ]
  },
  {
   "cell_type": "code",
   "execution_count": null,
   "id": "aafed270-5f89-4f4c-b3c2-0eae4694022e",
   "metadata": {},
   "outputs": [],
   "source": [
    "data_gaps[0]"
   ]
  },
  {
   "cell_type": "code",
   "execution_count": null,
   "id": "cf3cc718-d5c7-49df-a5e3-e5edac46a0c9",
   "metadata": {},
   "outputs": [],
   "source": [
    "data_gaps[0][0][0]/24/3600"
   ]
  },
  {
   "cell_type": "markdown",
   "id": "5a83d940-dede-4233-bc8a-1e8207a369d7",
   "metadata": {},
   "source": [
    "# Plot noise transient tau scans with data gaps"
   ]
  },
  {
   "cell_type": "code",
   "execution_count": null,
   "id": "2a589553",
   "metadata": {
    "scrolled": true
   },
   "outputs": [],
   "source": [
    "import random\n",
    "tau_edges = TS_all['tau_edges']\n",
    "T0_list = TS_all['t0_edges']\n",
    "F0_list = TS_all['f0_edges']\n",
    "\n",
    "for i in range(len(psrs)):\n",
    "    print(i)\n",
    "    tau_scan = TS_all['tau_scan'+str(i)]\n",
    "    scan_max = max([np.nanmax(x) for x in tau_scan])\n",
    "    print(scan_max)\n",
    "    # os.makedirs(\"/home/reyna/15yr-v1.1/Script/QuickBurst/data/Tau_scan_plots/99p_SNR/CURN_included/glitch_tau_scans/pngs/{0}/\".format(psrs[i].name), exist_ok=True)\n",
    "    for l in range(tau_edges.size-1):\n",
    "        fig = plt.figure(l+i*(tau_edges.size-1))\n",
    "        c = plt.gca().pcolormesh(T0_list[l]/24/3600/365, F0_list[l]/1e-9 ,np.sqrt(tau_scan[l]), vmax=np.sqrt(scan_max), vmin=0.0)\n",
    "        if len(data_gaps[i]) > 0:\n",
    "            \n",
    "            for j in range(len(data_gaps[i])):\n",
    "                val_1 = random.uniform(0.5,1)\n",
    "                val_2 = random.uniform(0.5,1)\n",
    "                val_3 = random.uniform(0.5,1)\n",
    "                plt.gca().axvline((data_gaps[i][j][0]/3600/24/365 - minimum/3600/24/365), label = 'Data gap {}'.format(j), color= (val_1, val_2, val_3))\n",
    "                plt.gca().axvline((data_gaps[i][j][1]/3600/24/365 - minimum/3600/24/365), color = (val_1, val_2, val_3))\n",
    "        plt.colorbar(c)\n",
    "        plt.title(\"PSR{2:s} -- tau = {0:.2f} - {1:.2f} years\".format(tau_edges[l], tau_edges[l+1], psrs[i].name), size=15)\n",
    "        plt.xlabel(\"t [days]\")\n",
    "        plt.ylabel(\"f [nHz]\")\n",
    "        plt.tight_layout()\n",
    "        legend = plt.legend()\n",
    "        legend.get_frame().set_alpha(0.5)\n",
    "        \n",
    "        # plt.savefig(\"/home/reyna/15yr-v1.1/Script/QuickBurst/data/Tau_scan_plots/99p_SNR/CURN_included/glitch_tau_scans/pngs/{0}/tau_bin_{1:.2f}-{2:.2f}_years.png\".format(psrs[i].name, tau_edges[l], tau_edges[l+1]), dpi = 600)"
   ]
  },
  {
   "cell_type": "markdown",
   "id": "29fa8957-dfe0-4c4a-ab19-b8b97d4ec19e",
   "metadata": {},
   "source": [
    "# Plot all other noise transient tau scans"
   ]
  },
  {
   "cell_type": "code",
   "execution_count": null,
   "id": "bad73b49-7444-4637-a0d8-d610dc2a41e3",
   "metadata": {
    "scrolled": true
   },
   "outputs": [],
   "source": [
    "tau_edges = TS_all['tau_edges']\n",
    "T0_list = TS_all['t0_edges']\n",
    "F0_list = TS_all['f0_edges']\n",
    "\n",
    "for i in range(len(psrs)):\n",
    "    print(i)\n",
    "    tau_scan = TS_all['tau_scan'+str(i)]\n",
    "    scan_max = max([np.nanmax(x) for x in tau_scan])\n",
    "    print(scan_max)\n",
    "    for l in range(tau_edges.size-1):\n",
    "        fig = plt.figure(l+i*(tau_edges.size-1))\n",
    "        c = plt.gca().pcolormesh(T0_list[l]/24/3600, F0_list[l]/1e-9 ,np.sqrt(tau_scan[l]), vmax=np.sqrt(scan_max), vmin=0.0)\n",
    "        plt.colorbar(c)\n",
    "        plt.title(\"PSR{2:d} -- tau = {0:.2f} - {1:.2f} years\".format(tau_edges[l], tau_edges[l+1], i))\n",
    "        plt.xlabel(\"t [days]\")\n",
    "        plt.ylabel(\"f [nHz]\")"
   ]
  },
  {
   "cell_type": "code",
   "execution_count": null,
   "id": "77b59440-0c42-489e-b257-4373c92065b6",
   "metadata": {
    "scrolled": true
   },
   "outputs": [],
   "source": [
    "fig"
   ]
  },
  {
   "cell_type": "markdown",
   "id": "c0aaaa75",
   "metadata": {},
   "source": [
    "# Stitching together individual glitch tau scans and saving combined tau scan"
   ]
  },
  {
   "cell_type": "code",
   "execution_count": null,
   "id": "6a00adca",
   "metadata": {},
   "outputs": [],
   "source": [
    "TS_dict = {} #holds the wavelet tau scans (combination of all pulsars)\n",
    "\n",
    "for i in range(len(psrs)):\n",
    "    glitch_tau_scan_data = np.copy(TS_all['tau_scan{}'.format(i)])\n",
    "    \n",
    "    #Only populate tau edges, f0, t0 once. Same for all pulsars\n",
    "    print('Pulsar {}'.format(i))\n",
    "    if i==0:\n",
    "        TS_dict['tau_edges'] = TS_all['tau_edges']\n",
    "        TS_dict['f0_edges'] = TS_all['f0_edges']\n",
    "        TS_dict['t0_edges'] = TS_all['t0_edges']\n",
    "        TS_dict['tau_scan'] = glitch_tau_scan_data\n",
    "    \n",
    "    #Otherwise, stitch together tau scans for each pulsar to get wavelet tau scans\n",
    "    else:\n",
    "        for j in range(len(TS_dict['tau_scan'])):\n",
    "            ts = glitch_tau_scan_data\n",
    "            TS_dict['tau_scan'][j] += np.where(np.isnan(ts[j]), 0.0, ts[j])"
   ]
  },
  {
   "cell_type": "markdown",
   "id": "11cd7c4c",
   "metadata": {},
   "source": [
    "## Saving stitched together tau scans (i.e. Wavelet tau scans)"
   ]
  },
  {
   "cell_type": "code",
   "execution_count": null,
   "id": "cebf3eda",
   "metadata": {},
   "outputs": [],
   "source": [
    "# with open(\"/home/reyna/15yr-v1.1/Data/Simple_test_data/20_pulsars/WN_only/Tau_scans/GW_wavelet.pkl\", 'wb') as f:\n",
    "#     pickle.dump(TS_dict, f)"
   ]
  },
  {
   "cell_type": "code",
   "execution_count": null,
   "id": "40c71df7",
   "metadata": {},
   "outputs": [],
   "source": [
    "with open(\"/home/reyna/15yr-v1.1/Script/QuickBurst/data/wavelet_tau_scan_SNR99p.pkl\", 'rb') as f:\n",
    "    TS_dict = pickle.load(f)"
   ]
  },
  {
   "cell_type": "markdown",
   "id": "d90041ee",
   "metadata": {},
   "source": [
    "## Plotting wavelet tau scan"
   ]
  },
  {
   "cell_type": "code",
   "execution_count": null,
   "id": "f932c23a",
   "metadata": {},
   "outputs": [],
   "source": [
    "wavelet_tau_edges = TS_dict['tau_edges']\n",
    "wavelet_T0_list = TS_dict['t0_edges']\n",
    "wavelet_F0_list = TS_dict['f0_edges']\n",
    "wavelet_tau_scan = TS_dict['tau_scan']\n",
    "\n",
    "wavelet_scan_max = max([np.nanmax(x) for x in wavelet_tau_scan])\n",
    "print(wavelet_scan_max)\n",
    "i = 29\n",
    "for l in range(wavelet_tau_edges.size-1):\n",
    "    fig = plt.figure(l+i*(wavelet_tau_edges.size-1))\n",
    "    c = plt.gca().pcolormesh(wavelet_T0_list[l]/24/3600/365, wavelet_F0_list[l]/1e-9 ,np.sqrt(wavelet_tau_scan[l]), vmax=np.sqrt(wavelet_scan_max), vmin=0.0)\n",
    "    plt.colorbar(c)\n",
    "    plt.title(\"{2} -- tau = {0:.2f} - {1:.2f} years\".format(wavelet_tau_edges[l], wavelet_tau_edges[l+1], \"PTA tau scan\"), size = 15)\n",
    "    plt.xlabel(\"t [years]\")\n",
    "    plt.ylabel(\"f [nHz]\")\n",
    "    # plt.savefig(\"/home/reyna/15yr-v1.1/Script/QuickBurst/data/Tau_scan_plots/99p_SNR/CURN_included/wavelet_tau_scans/pngs/tau_bin_{0:.2f}-{1:.2f}_years.png\".format(wavelet_tau_edges[l], wavelet_tau_edges[l+1]))"
   ]
  },
  {
   "cell_type": "code",
   "execution_count": null,
   "id": "3f960694-51e6-4b2f-b4e7-b1d709478a2d",
   "metadata": {},
   "outputs": [],
   "source": []
  }
 ],
 "metadata": {
  "kernelspec": {
   "display_name": "Python 3 (ipykernel)",
   "language": "python",
   "name": "python3"
  },
  "language_info": {
   "codemirror_mode": {
    "name": "ipython",
    "version": 3
   },
   "file_extension": ".py",
   "mimetype": "text/x-python",
   "name": "python",
   "nbconvert_exporter": "python",
   "pygments_lexer": "ipython3",
   "version": "3.9.20"
  },
  "toc": {
   "base_numbering": 1,
   "nav_menu": {},
   "number_sections": true,
   "sideBar": true,
   "skip_h1_title": false,
   "title_cell": "Table of Contents",
   "title_sidebar": "Contents",
   "toc_cell": false,
   "toc_position": {},
   "toc_section_display": true,
   "toc_window_display": true
  }
 },
 "nbformat": 4,
 "nbformat_minor": 5
}
