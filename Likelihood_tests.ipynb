{
 "cells": [
  {
   "cell_type": "code",
   "execution_count": 1,
   "id": "3435406f",
   "metadata": {},
   "outputs": [
    {
     "name": "stderr",
     "output_type": "stream",
     "text": [
      "\n",
      "WARNING: version mismatch between CFITSIO header (v4.000999999999999) and linked library (v4.01).\n",
      "\n",
      "\n",
      "WARNING: version mismatch between CFITSIO header (v4.000999999999999) and linked library (v4.01).\n",
      "\n",
      "\n",
      "WARNING: version mismatch between CFITSIO header (v4.000999999999999) and linked library (v4.01).\n",
      "\n",
      "WARNING: AstropyDeprecationWarning: The private astropy._erfa module has been made into its own package, pyerfa, which is a dependency of astropy and can be imported directly using \"import erfa\" [astropy._erfa]\n"
     ]
    }
   ],
   "source": [
    "#chack for updated files\\n,\n",
    "%load_ext autoreload\n",
    "%autoreload 2\n",
    "#import packages\n",
    "from __future__ import division\n",
    "\n",
    "import numpy as np\n",
    "import glob, json\n",
    "import pickle\n",
    "import os as os_pack\n",
    "import matplotlib.pyplot as plt\n",
    "import corner\n",
    "#%matplotlib inline\\n\",\n",
    "%config InlineBackend.figure_format = 'retina'\n",
    "import healpy as hp\n",
    "import os, glob, json, pickle\n",
    "import matplotlib.pyplot as plt\n",
    "import numpy as np\n",
    "import scipy.linalg as sl\n",
    "import enterprise\n",
    "from enterprise.pulsar import Pulsar\n",
    "import enterprise.signals.parameter as parameter\n",
    "from enterprise.signals import utils\n",
    "from enterprise.signals import signal_base\n",
    "from enterprise.signals import selections\n",
    "from enterprise.signals.selections import Selection\n",
    "from enterprise.signals import white_signals\n",
    "from enterprise.signals import gp_signals\n",
    "from enterprise.signals import deterministic_signals\n",
    "import enterprise.constants as const\n",
    "from enterprise_extensions import blocks\n",
    "from enterprise_extensions import models as ee_models\n",
    "from enterprise_extensions import model_utils as ee_model_utils\n",
    "from enterprise_extensions import model_orfs\n",
    "from enterprise_extensions.frequentist import optimal_statistic as opt_stat\n",
    "from enterprise_extensions import sampler as ee_sampler\n",
    "from enterprise.signals.signal_base import LogLikelihood\n",
    "import enterprise_wavelets as models\n",
    "from enterprise.signals.deterministic_signals import Deterministic\n",
    "from enterprise.signals.parameter import function\n",
    "from la_forge.core import Core\n",
    "from la_forge.diagnostics import plot_chains\n",
    "from la_forge import rednoise\n",
    "import la_forge\n",
    "import corner\n",
    "from PTMCMCSampler.PTMCMCSampler import PTSampler as ptmcmc\n",
    "    #style"
   ]
  },
  {
   "cell_type": "code",
   "execution_count": 50,
   "id": "bc002bf6",
   "metadata": {
    "scrolled": true
   },
   "outputs": [
    {
     "name": "stdout",
     "output_type": "stream",
     "text": [
      "['J0030+0451', 'J0340+4130', 'J0406+3039', 'J0437-4715']\n",
      "15.460752938661816\n",
      "8.097196263848735\n",
      "3.5471797714338695\n",
      "4.73231500896138\n"
     ]
    }
   ],
   "source": [
    "#Loading in pickle and noise files\n",
    "pint_pickle = '/home/reyna/OS_15yr/15yr_data/v1p1_de440_pint_bipm2019.pkl'\n",
    "noise_file = '/home/reyna/OS_15yr/15yr_data/v1p1_wn_dict.json'\n",
    "#psrlist = np.loadtxt('/home/reyna/15yr_v1p0/15yr_v1-20211001T235643Z-001/15yr_v1/psrlist_15yr_pint.txt', dtype = str)\n",
    "with open(noise_file, 'r') as h:\n",
    "    noise_params = json.load(h)\n",
    "with open(pint_pickle,'rb') as f:\n",
    "    allpsrs = pickle.load(f)\n",
    "psrs = []\n",
    "for ii,p in enumerate(allpsrs):\n",
    "    psrs.append(p)\n",
    "#Temporary to get code to not crash\n",
    "psrs = psrs[4:8]\n",
    "psrlist = [psr.name for psr in psrs]\n",
    "print(psrlist)\n",
    "for i in range(len(psrs)):\n",
    "    print((max(psrs[i].toas) - min(psrs[i].toas))/(3.17*10**(7)))"
   ]
  },
  {
   "cell_type": "code",
   "execution_count": 51,
   "id": "ca824bd6",
   "metadata": {},
   "outputs": [],
   "source": [
    "glitches = []\n",
    "log10_f0 = parameter.Uniform(np.log10(3.5e-9), np.log10(1e-7))(\"Glitch_\"+str(1)+'_'+'log10_f0')\n",
    "phase0 = parameter.Uniform(0, 2*np.pi)(\"Glitch_\"+str(1)+'_'+'phase0')\n",
    "tau = parameter.Uniform(0.2, 5)(\"Glitch_\"+str(1)+'_'+'tau')\n",
    "t0 = parameter.Uniform(0.0, 10.0)(\"Glitch_\"+str(1)+'_'+'t0')\n",
    "psr_idx = parameter.Uniform(-0.5, len(psrs)-0.5)(\"Glitch_\"+str(1)+'_'+'psr_idx')\n",
    "log10_h = parameter.LinearExp(-6.5, -5)(\"Glitch_\"+str(1)+'_'+'log10_h')\n",
    "glitch_wf = models.glitch_delay(log10_h = log10_h, tau = tau, log10_f0 = log10_f0, t0 = t0, phase0 = phase0, tref=53000*86400,\n",
    "                                        psr_float_idx = psr_idx, pulsars=psrs)\n",
    "glitches.append(deterministic_signals.Deterministic(glitch_wf, name='Glitch'+str(1) ))"
   ]
  },
  {
   "cell_type": "code",
   "execution_count": 52,
   "id": "a75bcaec",
   "metadata": {},
   "outputs": [],
   "source": [
    "tm = gp_signals.TimingModel(use_svd=True)\n",
    "wn = blocks.white_noise_block(vary=False, inc_ecorr=False)\n",
    "#s = base_model\n",
    "s = tm + wn + glitches[0]\n",
    "model = []\n",
    "for p in psrs:\n",
    "    model.append(s(p))\n",
    "with open(noise_file, 'r') as fp:\n",
    "    noisedict = json.load(fp)\n",
    "    pta = signal_base.PTA(model)\n",
    "    pta.set_default_params(noisedict)"
   ]
  },
  {
   "cell_type": "code",
   "execution_count": 53,
   "id": "63e4a9b3",
   "metadata": {},
   "outputs": [],
   "source": [
    "d0 = parameter.sample(pta.params)\n",
    "x0 = np.array([d0[par.name] for par in pta.params])"
   ]
  },
  {
   "cell_type": "code",
   "execution_count": 54,
   "id": "b8472b00",
   "metadata": {},
   "outputs": [
    {
     "data": {
      "text/plain": [
       "449134.2142376422"
      ]
     },
     "execution_count": 54,
     "metadata": {},
     "output_type": "execute_result"
    }
   ],
   "source": [
    "pta.get_lnlikelihood(x0)"
   ]
  },
  {
   "cell_type": "code",
   "execution_count": 31,
   "id": "a89062ba",
   "metadata": {},
   "outputs": [
    {
     "data": {
      "text/plain": [
       "282505.0135900155"
      ]
     },
     "execution_count": 31,
     "metadata": {},
     "output_type": "execute_result"
    }
   ],
   "source": [
    "449120.3574538504\n",
    "449119.80307398614"
   ]
  },
  {
   "cell_type": "code",
   "execution_count": 58,
   "id": "55695754",
   "metadata": {},
   "outputs": [
    {
     "data": {
      "text/plain": [
       "{'Glitch_1_log10_f0': -8.150958196881906,\n",
       " 'Glitch_1_log10_h': -5.024028621193761,\n",
       " 'Glitch_1_phase0': 1.9205752139963215,\n",
       " 'Glitch_1_psr_idx': 3.4251082243738007,\n",
       " 'Glitch_1_t0': 1.2540172065765909,\n",
       " 'Glitch_1_tau': 4.866613926953403}"
      ]
     },
     "execution_count": 58,
     "metadata": {},
     "output_type": "execute_result"
    }
   ],
   "source": [
    "d0"
   ]
  },
  {
   "cell_type": "code",
   "execution_count": 55,
   "id": "a9edf197",
   "metadata": {},
   "outputs": [],
   "source": [
    "import Fast_Burst_likelihood as FB"
   ]
  },
  {
   "cell_type": "code",
   "execution_count": 56,
   "id": "ad173bda",
   "metadata": {},
   "outputs": [
    {
     "name": "stdout",
     "output_type": "stream",
     "text": [
      "Nvecs arary:  [[4.61695300e-12 5.66353407e-11 6.83697178e-12 ... 9.39287544e-12\n",
      " 1.01635764e-11 6.60318228e-12], [3.58685902e-11 2.77047195e-11 8.77407399e-11 ... 4.00248661e-11\n",
      " 7.61997117e-11 4.82576810e-11], [2.30848299e-11 2.25095542e-12 6.90732193e-12 ... 1.26507575e-11\n",
      " 3.65281122e-11 1.93290456e-11], [5.49729188e-12 4.98164427e-12 5.77752577e-12 ... 4.40088221e-12\n",
      " 4.86261323e-12 1.46668814e-09], ...]\n",
      "475710.6309232539\n",
      "logdet_phi:  27907.331327087828\n",
      "logdet_sigma:  8021.617645456276\n",
      "dotSigmaTNr:  6531.363363038373\n",
      "logdet_phi:  10960.30504265166\n",
      "logdet_sigma:  2874.207139480091\n",
      "dotSigmaTNr:  3.141037602664169\n",
      "logdet_phi:  4973.583800867136\n",
      "logdet_sigma:  1431.8168187786955\n",
      "dotSigmaTNr:  0.018103655871505017\n",
      "logdet_phi:  4513.066782268329\n",
      "logdet_sigma:  1402.6832939290277\n",
      "dotSigmaTNr:  2369.5424074152133\n",
      "449120.3574538504\n"
     ]
    }
   ],
   "source": [
    "FB1 = FB.FastBurst(pta = pta, psrs = psrs, params = d0, Npsr = len(psrs), tref=53000*86400)\n",
    "#FB2 = FB.FastBurst(pta = pta, psrs = psrs, params = d0, Npsr = len(psrs), tref=53000*86400)"
   ]
  },
  {
   "cell_type": "code",
   "execution_count": 57,
   "id": "5302d9d0",
   "metadata": {},
   "outputs": [
    {
     "name": "stdout",
     "output_type": "stream",
     "text": [
      "Amplitude:  9.46174803804544e-06\n",
      "Frequency:  7.063855442983834e-09\n",
      "glitch_index:  3.4251082243738007\n",
      "Old Sigma:  [0. 0.]\n",
      "New sigma:  [-3.24244730e-06 -8.88882509e-06]\n",
      "Old M and N:  [[0. 0.]\n",
      " [0. 0.]] [0. 0.]\n",
      "Input time:  457.1937732310488\n",
      "Cosine:  [0. 0. 0. ... 0. 0. 0.]\n",
      "Sine:  [0. 0. 0. ... 0. 0. 0.]\n",
      "MM matrix: [[[0. 0.]\n",
      "  [0. 0.]]\n",
      "\n",
      " [[0. 0.]\n",
      "  [0. 0.]]\n",
      "\n",
      " [[0. 0.]\n",
      "  [0. 0.]]\n",
      "\n",
      " [[0. 0.]\n",
      "  [0. 0.]]]\n",
      "NN matrix: [[0. 0.]\n",
      " [0. 0.]\n",
      " [0. 0.]\n",
      " [0. 0.]]\n",
      "Cosine:  [0. 0. 0. ... 0. 0. 0.]\n",
      "Sine:  [0. 0. 0. ... 0. 0. 0.]\n",
      "MM matrix: [[[0. 0.]\n",
      "  [0. 0.]]\n",
      "\n",
      " [[0. 0.]\n",
      "  [0. 0.]]\n",
      "\n",
      " [[0. 0.]\n",
      "  [0. 0.]]\n",
      "\n",
      " [[0. 0.]\n",
      "  [0. 0.]]]\n",
      "NN matrix: [[0. 0.]\n",
      " [0. 0.]\n",
      " [0. 0.]\n",
      " [0. 0.]]\n",
      "Cosine:  [0. 0. 0. ... 0. 0. 0.]\n",
      "Sine:  [0. 0. 0. ... 0. 0. 0.]\n",
      "MM matrix: [[[0. 0.]\n",
      "  [0. 0.]]\n",
      "\n",
      " [[0. 0.]\n",
      "  [0. 0.]]\n",
      "\n",
      " [[0. 0.]\n",
      "  [0. 0.]]\n",
      "\n",
      " [[0. 0.]\n",
      "  [0. 0.]]]\n",
      "NN matrix: [[0. 0.]\n",
      " [0. 0.]\n",
      " [0. 0.]\n",
      " [0. 0.]]\n",
      "Cosine:  [-3.26233207e-03 -3.26233207e-03 -3.26233207e-03 ... -4.17588904e-05\n",
      " -4.17588904e-05 -4.17588904e-05]\n",
      "Sine:  [1.06018413e-02 1.06018413e-02 1.06018413e-02 ... 5.23317604e-05\n",
      " 5.23317604e-05 5.23317604e-05]\n",
      "MM matrix: [[[0.00000000e+00 0.00000000e+00]\n",
      "  [0.00000000e+00 0.00000000e+00]]\n",
      "\n",
      " [[0.00000000e+00 0.00000000e+00]\n",
      "  [0.00000000e+00 0.00000000e+00]]\n",
      "\n",
      " [[0.00000000e+00 0.00000000e+00]\n",
      "  [0.00000000e+00 0.00000000e+00]]\n",
      "\n",
      " [[6.34139813e+07 5.57703946e+07]\n",
      "  [5.57703946e+07 1.60302544e+09]]]\n",
      "NN matrix: [[    0.             0.        ]\n",
      " [    0.             0.        ]\n",
      " [    0.             0.        ]\n",
      " [31393.97446847 43573.51194079]]\n",
      "New M and N:  [[0. 0.]\n",
      " [0. 0.]] [0. 0.]\n",
      "adding in resres_logdet 449120.3574538504\n",
      "LogL:  449120.3574538504\n",
      "LogL:  449120.3574538504\n",
      "LogL:  449120.3574538504\n",
      "LogL:  449119.80307398614\n"
     ]
    },
    {
     "data": {
      "text/plain": [
       "449119.80307398614"
      ]
     },
     "execution_count": 57,
     "metadata": {},
     "output_type": "execute_result"
    }
   ],
   "source": [
    "FB1.get_lnlikelihood(10**(x0[1]), x0[2], 10**(x0[0]), (3.15*10**7)*x0[5], (3.15*10**7)*x0[4], x0[3])"
   ]
  },
  {
   "cell_type": "code",
   "execution_count": 12,
   "id": "8604e45b",
   "metadata": {},
   "outputs": [
    {
     "data": {
      "text/plain": [
       "482127.23089051904"
      ]
     },
     "execution_count": 12,
     "metadata": {},
     "output_type": "execute_result"
    }
   ],
   "source": [
    "482127.23089051904 #Bence version"
   ]
  },
  {
   "cell_type": "code",
   "execution_count": 13,
   "id": "d72c342e",
   "metadata": {},
   "outputs": [
    {
     "data": {
      "text/plain": [
       "448629.5379522237"
      ]
     },
     "execution_count": 13,
     "metadata": {},
     "output_type": "execute_result"
    }
   ],
   "source": [
    "448629.5379522237 #Enterprise version"
   ]
  },
  {
   "cell_type": "code",
   "execution_count": 14,
   "id": "cd4f383e",
   "metadata": {},
   "outputs": [
    {
     "data": {
      "text/plain": [
       "447934.6153235128"
      ]
     },
     "execution_count": 14,
     "metadata": {},
     "output_type": "execute_result"
    }
   ],
   "source": [
    "LogL:  447940.2057596576\n",
    "LogL:  447934.2907498001\n",
    "LogL:  447934.2692285934\n",
    "LogL:  447934.6153235128\n",
    "447934.6153235128"
   ]
  }
 ],
 "metadata": {
  "kernelspec": {
   "display_name": "Python 3 (ipykernel)",
   "language": "python",
   "name": "python3"
  },
  "language_info": {
   "codemirror_mode": {
    "name": "ipython",
    "version": 3
   },
   "file_extension": ".py",
   "mimetype": "text/x-python",
   "name": "python",
   "nbconvert_exporter": "python",
   "pygments_lexer": "ipython3",
   "version": "3.9.12"
  }
 },
 "nbformat": 4,
 "nbformat_minor": 5
}
