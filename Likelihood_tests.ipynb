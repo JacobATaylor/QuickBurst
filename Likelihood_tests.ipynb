{
 "cells": [
  {
   "cell_type": "code",
   "execution_count": 1,
   "id": "3435406f",
   "metadata": {},
   "outputs": [
    {
     "name": "stderr",
     "output_type": "stream",
     "text": [
      "\n",
      "WARNING: version mismatch between CFITSIO header (v4.000999999999999) and linked library (v4.01).\n",
      "\n",
      "\n",
      "WARNING: version mismatch between CFITSIO header (v4.000999999999999) and linked library (v4.01).\n",
      "\n",
      "\n",
      "WARNING: version mismatch between CFITSIO header (v4.000999999999999) and linked library (v4.01).\n",
      "\n",
      "WARNING: AstropyDeprecationWarning: The private astropy._erfa module has been made into its own package, pyerfa, which is a dependency of astropy and can be imported directly using \"import erfa\" [astropy._erfa]\n"
     ]
    }
   ],
   "source": [
    "#chack for updated files\\n,\n",
    "%load_ext autoreload\n",
    "%autoreload 2\n",
    "#import packages\n",
    "from __future__ import division\n",
    "\n",
    "import numpy as np\n",
    "import glob, json\n",
    "import pickle\n",
    "import os as os_pack\n",
    "import matplotlib.pyplot as plt\n",
    "import corner\n",
    "#%matplotlib inline\\n\",\n",
    "%config InlineBackend.figure_format = 'retina'\n",
    "import healpy as hp\n",
    "import os, glob, json, pickle\n",
    "import matplotlib.pyplot as plt\n",
    "import numpy as np\n",
    "import scipy.linalg as sl\n",
    "import enterprise\n",
    "from enterprise.pulsar import Pulsar\n",
    "import enterprise.signals.parameter as parameter\n",
    "from enterprise.signals import utils\n",
    "from enterprise.signals import signal_base\n",
    "from enterprise.signals import selections\n",
    "from enterprise.signals.selections import Selection\n",
    "from enterprise.signals import white_signals\n",
    "from enterprise.signals import gp_signals\n",
    "from enterprise.signals import deterministic_signals\n",
    "import enterprise.constants as const\n",
    "from enterprise_extensions import blocks\n",
    "from enterprise_extensions import models as ee_models\n",
    "from enterprise_extensions import model_utils as ee_model_utils\n",
    "from enterprise_extensions import model_orfs\n",
    "from enterprise_extensions.frequentist import optimal_statistic as opt_stat\n",
    "from enterprise_extensions import sampler as ee_sampler\n",
    "from enterprise.signals.signal_base import LogLikelihood\n",
    "import enterprise_wavelets as models\n",
    "from enterprise.signals.deterministic_signals import Deterministic\n",
    "from enterprise.signals.parameter import function\n",
    "from la_forge.core import Core\n",
    "from la_forge.diagnostics import plot_chains\n",
    "from la_forge import rednoise\n",
    "import la_forge\n",
    "import corner\n",
    "from PTMCMCSampler.PTMCMCSampler import PTSampler as ptmcmc\n",
    "    #style"
   ]
  },
  {
   "cell_type": "code",
   "execution_count": 20,
   "id": "bc002bf6",
   "metadata": {
    "scrolled": true
   },
   "outputs": [
    {
     "name": "stdout",
     "output_type": "stream",
     "text": [
      "['B1855+09', 'B1937+21', 'B1953+29', 'J0023+0923']\n",
      "15.515060297068947\n",
      "15.802872967471835\n",
      "11.08458774068679\n",
      "8.97542529762611\n"
     ]
    }
   ],
   "source": [
    "#Loading in pickle and noise files\n",
    "pint_pickle = '/home/reyna/OS_15yr/15yr_data/v1p1_de440_pint_bipm2019.pkl'\n",
    "noise_file = '/home/reyna/OS_15yr/15yr_data/v1p1_wn_dict.json'\n",
    "#psrlist = np.loadtxt('/home/reyna/15yr_v1p0/15yr_v1-20211001T235643Z-001/15yr_v1/psrlist_15yr_pint.txt', dtype = str)\n",
    "with open(noise_file, 'r') as h:\n",
    "    noise_params = json.load(h)\n",
    "with open(pint_pickle,'rb') as f:\n",
    "    allpsrs = pickle.load(f)\n",
    "psrs = []\n",
    "for ii,p in enumerate(allpsrs):\n",
    "    psrs.append(p)\n",
    "#Temporary to get code to not crash\n",
    "psrs = psrs[0:4]\n",
    "psrlist = [psr.name for psr in psrs]\n",
    "print(psrlist)\n",
    "for i in range(len(psrs)):\n",
    "    print((max(psrs[i].toas) - min(psrs[i].toas))/(3.17*10**(7)))"
   ]
  },
  {
   "cell_type": "code",
   "execution_count": 21,
   "id": "ca824bd6",
   "metadata": {},
   "outputs": [],
   "source": [
    "glitches = []\n",
    "log10_f0 = parameter.Uniform(np.log10(3.5e-9), np.log10(1e-7))(\"Glitch_\"+str(1)+'_'+'log10_f0')\n",
    "phase0 = parameter.Uniform(0, 2*np.pi)(\"Glitch_\"+str(1)+'_'+'phase0')\n",
    "tau = parameter.Uniform(0.2, 5)(\"Glitch_\"+str(1)+'_'+'tau')\n",
    "t0 = parameter.Uniform(0.0, 10.0)(\"Glitch_\"+str(1)+'_'+'t0')\n",
    "psr_idx = parameter.Uniform(-0.5, len(psrs)-0.5)(\"Glitch_\"+str(1)+'_'+'psr_idx')\n",
    "log10_h = parameter.LinearExp(-6.5, -5)(\"Glitch_\"+str(1)+'_'+'log10_h')\n",
    "glitch_wf = models.glitch_delay(log10_h = log10_h, tau = tau, log10_f0 = log10_f0, t0 = t0, phase0 = phase0, tref=53000*86400,\n",
    "                                        psr_float_idx = psr_idx, pulsars=psrs)\n",
    "glitches.append(deterministic_signals.Deterministic(glitch_wf, name='Glitch'+str(1) ))"
   ]
  },
  {
   "cell_type": "code",
   "execution_count": 22,
   "id": "a75bcaec",
   "metadata": {},
   "outputs": [],
   "source": [
    "tm = gp_signals.TimingModel(use_svd=True)\n",
    "wn = blocks.white_noise_block(vary=False, inc_ecorr=False)\n",
    "#s = base_model\n",
    "s = tm + wn + glitches[0]\n",
    "model = []\n",
    "for p in psrs:\n",
    "    model.append(s(p))\n",
    "with open(noise_file, 'r') as fp:\n",
    "    noisedict = json.load(fp)\n",
    "    pta = signal_base.PTA(model)\n",
    "    pta.set_default_params(noisedict)"
   ]
  },
  {
   "cell_type": "code",
   "execution_count": 23,
   "id": "63e4a9b3",
   "metadata": {},
   "outputs": [],
   "source": [
    "d0 = parameter.sample(pta.params)\n",
    "x0 = np.array([d0[par.name] for par in pta.params])"
   ]
  },
  {
   "cell_type": "code",
   "execution_count": 24,
   "id": "b8472b00",
   "metadata": {},
   "outputs": [
    {
     "data": {
      "text/plain": [
       "282447.35928643856"
      ]
     },
     "execution_count": 24,
     "metadata": {},
     "output_type": "execute_result"
    }
   ],
   "source": [
    "pta.get_lnlikelihood(x0)"
   ]
  },
  {
   "cell_type": "code",
   "execution_count": 7,
   "id": "a89062ba",
   "metadata": {},
   "outputs": [
    {
     "data": {
      "text/plain": [
       "449134.63863715366"
      ]
     },
     "execution_count": 7,
     "metadata": {},
     "output_type": "execute_result"
    }
   ],
   "source": [
    "282055.80198464915\n",
    "281999.5402583812"
   ]
  },
  {
   "cell_type": "code",
   "execution_count": 25,
   "id": "a702b569",
   "metadata": {},
   "outputs": [
    {
     "data": {
      "text/plain": [
       "{'Glitch_1_log10_f0': -8.220438412567342,\n",
       " 'Glitch_1_log10_h': -5.484930699500834,\n",
       " 'Glitch_1_phase0': 4.685424855153569,\n",
       " 'Glitch_1_psr_idx': 2.4099188686936883,\n",
       " 'Glitch_1_t0': 8.761127447495467,\n",
       " 'Glitch_1_tau': 2.531727661210686}"
      ]
     },
     "execution_count": 25,
     "metadata": {},
     "output_type": "execute_result"
    }
   ],
   "source": [
    "d0"
   ]
  },
  {
   "cell_type": "code",
   "execution_count": 26,
   "id": "a9edf197",
   "metadata": {},
   "outputs": [],
   "source": [
    "import Fast_Burst_likelihood as FB"
   ]
  },
  {
   "cell_type": "code",
   "execution_count": 27,
   "id": "ad173bda",
   "metadata": {},
   "outputs": [
    {
     "name": "stdout",
     "output_type": "stream",
     "text": [
      "Nvecs arary:  [[1.69852389e-12 1.12772641e-10 3.26328092e-12 ... 4.85655692e-12\n",
      " 5.14669141e-13 1.79238956e-12], [6.95185145e-14 1.57784257e-13 2.75345324e-14 ... 1.37317696e-13\n",
      " 6.53510393e-13 3.42658995e-13], [4.94236756e-10 4.03404993e-10 7.90600715e-10 ... 2.03923984e-10\n",
      " 4.69194849e-10 4.02505715e-10], [1.78150121e-13 6.22555077e-13 1.41224754e-13 ... 4.44123286e-11\n",
      " 2.71409648e-11 3.12885720e-11], ...]\n",
      "-24156361.25289259\n",
      "logdet_phi:  15289.165017480458\n",
      "logdet_sigma:  4448.603620972838\n",
      "dotSigmaTNr:  6171.411084360541\n",
      "logdet_phi:  25604.746234093782\n",
      "logdet_sigma:  8639.86438247935\n",
      "dotSigmaTNr:  48950178.23814091\n",
      "logdet_phi:  10683.994831492373\n",
      "logdet_sigma:  2880.4602861880994\n",
      "dotSigmaTNr:  1739.6367892941803\n",
      "logdet_phi:  10591.89142777261\n",
      "logdet_sigma:  3117.0202293660345\n",
      "dotSigmaTNr:  0.5697697597075208\n",
      "282055.80198464915\n"
     ]
    }
   ],
   "source": [
    "FB1 = FB.FastBurst(pta = pta, psrs = psrs, params = d0, Npsr = len(psrs), tref=53000*86400)\n",
    "#FB2 = FB.FastBurst(pta = pta, psrs = psrs, params = d0, Npsr = len(psrs), tref=53000*86400)"
   ]
  },
  {
   "cell_type": "code",
   "execution_count": 28,
   "id": "5302d9d0",
   "metadata": {},
   "outputs": [
    {
     "name": "stdout",
     "output_type": "stream",
     "text": [
      "Amplitude:  3.273929328982241e-06\n",
      "Frequency:  6.019516197895964e-09\n",
      "glitch_index:  2.4099188686936883\n",
      "Old Sigma:  [0. 0.]\n",
      "New sigma:  [-8.82679434e-08  3.27273922e-06]\n",
      "Old M and N:  [[0. 0.]\n",
      " [0. 0.]] [0. 0.]\n",
      "Input time:  3194.1610485660553\n",
      "Cosine:  [0. 0. 0. ... 0. 0. 0.]\n",
      "Sine:  [0. 0. 0. ... 0. 0. 0.]\n",
      "0.0\n",
      "0.0\n",
      "0.0\n",
      "0.0\n",
      "MM matrix: [[[0. 0.]\n",
      "  [0. 0.]]\n",
      "\n",
      " [[0. 0.]\n",
      "  [0. 0.]]\n",
      "\n",
      " [[0. 0.]\n",
      "  [0. 0.]]\n",
      "\n",
      " [[0. 0.]\n",
      "  [0. 0.]]]\n",
      "0.0\n",
      "0.0\n",
      "NN matrix: [[0. 0.]\n",
      " [0. 0.]\n",
      " [0. 0.]\n",
      " [0. 0.]]\n",
      "Cosine:  [0. 0. 0. ... 0. 0. 0.]\n",
      "Sine:  [0. 0. 0. ... 0. 0. 0.]\n",
      "0.0\n",
      "0.0\n",
      "0.0\n",
      "0.0\n",
      "MM matrix: [[[0. 0.]\n",
      "  [0. 0.]]\n",
      "\n",
      " [[0. 0.]\n",
      "  [0. 0.]]\n",
      "\n",
      " [[0. 0.]\n",
      "  [0. 0.]]\n",
      "\n",
      " [[0. 0.]\n",
      "  [0. 0.]]]\n",
      "0.0\n",
      "0.0\n",
      "NN matrix: [[0. 0.]\n",
      " [0. 0.]\n",
      " [0. 0.]\n",
      " [0. 0.]]\n",
      "Cosine:  [-1.34472072e-01 -1.34472072e-01 -1.34472072e-01 ... -6.27768825e-05\n",
      " -6.27768824e-05 -6.27768823e-05]\n",
      "Sine:  [1.29426123e-01 1.29426123e-01 1.29426123e-01 ... 2.68815631e-06\n",
      " 2.68815626e-06 2.68815623e-06]\n",
      "10619574684376.854\n",
      "302341398420.4929\n",
      "302341398420.4925\n",
      "6752715038179.544\n",
      "MM matrix: [[[0.00000000e+00 0.00000000e+00]\n",
      "  [0.00000000e+00 0.00000000e+00]]\n",
      "\n",
      " [[0.00000000e+00 0.00000000e+00]\n",
      "  [0.00000000e+00 0.00000000e+00]]\n",
      "\n",
      " [[1.06195747e+13 3.02341398e+11]\n",
      "  [3.02341398e+11 6.75271504e+12]]\n",
      "\n",
      " [[0.00000000e+00 0.00000000e+00]\n",
      "  [0.00000000e+00 0.00000000e+00]]]\n",
      "14066632.128549268\n",
      "-5775742.525395088\n",
      "NN matrix: [[       0.                0.        ]\n",
      " [       0.                0.        ]\n",
      " [14066632.12854927 -5775742.52539509]\n",
      " [       0.                0.        ]]\n",
      "Cosine:  [0. 0. 0. ... 0. 0. 0.]\n",
      "Sine:  [0. 0. 0. ... 0. 0. 0.]\n",
      "0.0\n",
      "0.0\n",
      "0.0\n",
      "0.0\n",
      "MM matrix: [[[0.00000000e+00 0.00000000e+00]\n",
      "  [0.00000000e+00 0.00000000e+00]]\n",
      "\n",
      " [[0.00000000e+00 0.00000000e+00]\n",
      "  [0.00000000e+00 0.00000000e+00]]\n",
      "\n",
      " [[1.06195747e+13 3.02341398e+11]\n",
      "  [3.02341398e+11 6.75271504e+12]]\n",
      "\n",
      " [[0.00000000e+00 0.00000000e+00]\n",
      "  [0.00000000e+00 0.00000000e+00]]]\n",
      "0.0\n",
      "0.0\n",
      "NN matrix: [[       0.                0.        ]\n",
      " [       0.                0.        ]\n",
      " [14066632.12854927 -5775742.52539509]\n",
      " [       0.                0.        ]]\n",
      "New M and N:  [[0. 0.]\n",
      " [0. 0.]] [0. 0.]\n",
      "adding in resres_logdet 282055.80198464915\n",
      "LogL:  282055.80198464915\n",
      "LogL:  282055.80198464915\n",
      "LogL:  281999.5402583812\n",
      "LogL:  281999.5402583812\n"
     ]
    },
    {
     "data": {
      "text/plain": [
       "281999.5402583812"
      ]
     },
     "execution_count": 28,
     "metadata": {},
     "output_type": "execute_result"
    }
   ],
   "source": [
    "FB1.get_lnlikelihood(10**(x0[1]), x0[2], 10**(x0[0]), (3.15*10**7)*x0[5], (3.15*10**7)*x0[4], x0[3])"
   ]
  },
  {
   "cell_type": "code",
   "execution_count": 12,
   "id": "8604e45b",
   "metadata": {},
   "outputs": [
    {
     "data": {
      "text/plain": [
       "482127.23089051904"
      ]
     },
     "execution_count": 12,
     "metadata": {},
     "output_type": "execute_result"
    }
   ],
   "source": [
    "482127.23089051904 #Bence version"
   ]
  },
  {
   "cell_type": "code",
   "execution_count": 13,
   "id": "d72c342e",
   "metadata": {},
   "outputs": [
    {
     "data": {
      "text/plain": [
       "448629.5379522237"
      ]
     },
     "execution_count": 13,
     "metadata": {},
     "output_type": "execute_result"
    }
   ],
   "source": [
    "448629.5379522237 #Enterprise version"
   ]
  },
  {
   "cell_type": "code",
   "execution_count": 14,
   "id": "cd4f383e",
   "metadata": {},
   "outputs": [
    {
     "data": {
      "text/plain": [
       "447934.6153235128"
      ]
     },
     "execution_count": 14,
     "metadata": {},
     "output_type": "execute_result"
    }
   ],
   "source": [
    "LogL:  447940.2057596576\n",
    "LogL:  447934.2907498001\n",
    "LogL:  447934.2692285934\n",
    "LogL:  447934.6153235128\n",
    "447934.6153235128"
   ]
  }
 ],
 "metadata": {
  "kernelspec": {
   "display_name": "Python 3 (ipykernel)",
   "language": "python",
   "name": "python3"
  },
  "language_info": {
   "codemirror_mode": {
    "name": "ipython",
    "version": 3
   },
   "file_extension": ".py",
   "mimetype": "text/x-python",
   "name": "python",
   "nbconvert_exporter": "python",
   "pygments_lexer": "ipython3",
   "version": "3.9.12"
  }
 },
 "nbformat": 4,
 "nbformat_minor": 5
}
