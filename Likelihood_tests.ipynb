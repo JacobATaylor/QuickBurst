{
 "cells": [
  {
   "cell_type": "code",
   "execution_count": 2,
   "id": "3435406f",
   "metadata": {},
   "outputs": [
    {
     "name": "stderr",
     "output_type": "stream",
     "text": [
      "\n",
      "WARNING: version mismatch between CFITSIO header (v4.000999999999999) and linked library (v4.01).\n",
      "\n",
      "\n",
      "WARNING: version mismatch between CFITSIO header (v4.000999999999999) and linked library (v4.01).\n",
      "\n",
      "\n",
      "WARNING: version mismatch between CFITSIO header (v4.000999999999999) and linked library (v4.01).\n",
      "\n",
      "WARNING: AstropyDeprecationWarning: The private astropy._erfa module has been made into its own package, pyerfa, which is a dependency of astropy and can be imported directly using \"import erfa\" [astropy._erfa]\n"
     ]
    }
   ],
   "source": [
    "#chack for updated files\\n,\n",
    "%load_ext autoreload\n",
    "%autoreload 2\n",
    "#import packages\n",
    "from __future__ import division\n",
    "\n",
    "import numpy as np\n",
    "import glob, json\n",
    "import pickle\n",
    "import os as os_pack\n",
    "import matplotlib.pyplot as plt\n",
    "import corner\n",
    "#%matplotlib inline\\n\",\n",
    "%config InlineBackend.figure_format = 'retina'\n",
    "import healpy as hp\n",
    "import os, glob, json, pickle\n",
    "import matplotlib.pyplot as plt\n",
    "import numpy as np\n",
    "import scipy.linalg as sl\n",
    "import enterprise\n",
    "from enterprise.pulsar import Pulsar\n",
    "import enterprise.signals.parameter as parameter\n",
    "from enterprise.signals import utils\n",
    "from enterprise.signals import signal_base\n",
    "from enterprise.signals import selections\n",
    "from enterprise.signals.selections import Selection\n",
    "from enterprise.signals import white_signals\n",
    "from enterprise.signals import gp_signals\n",
    "from enterprise.signals import deterministic_signals\n",
    "import enterprise.constants as const\n",
    "from enterprise_extensions import blocks\n",
    "from enterprise_extensions import models as ee_models\n",
    "from enterprise_extensions import model_utils as ee_model_utils\n",
    "from enterprise_extensions import model_orfs\n",
    "from enterprise_extensions.frequentist import optimal_statistic as opt_stat\n",
    "from enterprise_extensions import sampler as ee_sampler\n",
    "from enterprise.signals.signal_base import LogLikelihood\n",
    "import enterprise_wavelets as models\n",
    "from enterprise.signals.deterministic_signals import Deterministic\n",
    "from enterprise.signals.parameter import function\n",
    "from la_forge.core import Core\n",
    "from la_forge.diagnostics import plot_chains\n",
    "from la_forge import rednoise\n",
    "import la_forge\n",
    "import corner\n",
    "from PTMCMCSampler.PTMCMCSampler import PTSampler as ptmcmc\n",
    "    #style"
   ]
  },
  {
   "cell_type": "code",
   "execution_count": 12,
   "id": "bc002bf6",
   "metadata": {
    "scrolled": true
   },
   "outputs": [
    {
     "name": "stdout",
     "output_type": "stream",
     "text": [
      "['B1855+09', 'B1937+21', 'B1953+29', 'J0023+0923']\n",
      "15.515060297068947\n",
      "15.802872967471835\n",
      "11.08458774068679\n",
      "8.97542529762611\n"
     ]
    }
   ],
   "source": [
    "#Loading in pickle and noise files\n",
    "pint_pickle = '/home/gia/Jacob_Taylor/15yr_v1.1/Data/PINT/v1p1_de440_pint_bipm2019.pkl'\n",
    "#load noise dictionary\n",
    "noise_file = '/home/gia/Jacob_Taylor/15yr_v1.1/Data/PINT/v1p1_wn_dict.json'\n",
    "#psrlist = np.loadtxt('/home/reyna/15yr_v1p0/15yr_v1-20211001T235643Z-001/15yr_v1/psrlist_15yr_pint.txt', dtype = str)\n",
    "with open(noise_file, 'r') as h:\n",
    "    noise_params = json.load(h)\n",
    "with open(pint_pickle,'rb') as f:\n",
    "    allpsrs = pickle.load(f)\n",
    "psrs = []\n",
    "for ii,p in enumerate(allpsrs):\n",
    "    psrs.append(p)\n",
    "#Temporary to get code to not crash\n",
    "psrs = psrs[0:4]\n",
    "psrlist = [psr.name for psr in psrs]\n",
    "print(psrlist)\n",
    "for i in range(len(psrs)):\n",
    "    print((max(psrs[i].toas) - min(psrs[i].toas))/(3.17*10**(7)))"
   ]
  },
  {
   "cell_type": "code",
   "execution_count": 20,
   "id": "ca824bd6",
   "metadata": {},
   "outputs": [],
   "source": [
    "glitches = []\n",
    "log10_f0 = parameter.Uniform(np.log10(3.5e-9), np.log10(1e-7))(\"Glitch_\"+str(1)+'_'+'log10_f0')\n",
    "phase0 = parameter.Uniform(0, 2*np.pi)(\"Glitch_\"+str(1)+'_'+'phase0')\n",
    "tau = parameter.Uniform(0.2, 5)(\"Glitch_\"+str(1)+'_'+'tau')\n",
    "t0 = parameter.Uniform(0.0, 10.0)(\"Glitch_\"+str(1)+'_'+'t0')\n",
    "psr_idx = parameter.Uniform(-0.5, len(psrs)-0.5)(\"Glitch_\"+str(1)+'_'+'psr_idx')\n",
    "log10_h = parameter.LinearExp(-6.5, -5)(\"Glitch_\"+str(1)+'_'+'log10_h')\n",
    "glitch_wf = models.glitch_delay(log10_h = log10_h, tau = tau, log10_f0 = log10_f0, t0 = t0, phase0 = phase0, tref=53000*86400,\n",
    "                                        psr_float_idx = psr_idx, pulsars=psrs)\n",
    "glitches.append(deterministic_signals.Deterministic(glitch_wf, name='Glitch'+str(1) ))"
   ]
  },
  {
   "cell_type": "code",
   "execution_count": 21,
   "id": "a75bcaec",
   "metadata": {},
   "outputs": [],
   "source": [
    "tm = gp_signals.TimingModel(use_svd=True)\n",
    "wn = blocks.white_noise_block(vary=False, inc_ecorr=False)\n",
    "#s = base_model\n",
    "s = tm + wn + glitches[0]\n",
    "model = []\n",
    "for p in psrs:\n",
    "    model.append(s(p))\n",
    "with open(noise_file, 'r') as fp:\n",
    "    noisedict = json.load(fp)\n",
    "    pta = signal_base.PTA(model)\n",
    "    pta.set_default_params(noisedict)"
   ]
  },
  {
   "cell_type": "code",
   "execution_count": 22,
   "id": "63e4a9b3",
   "metadata": {},
   "outputs": [],
   "source": [
    "d0 = parameter.sample(pta.params)\n",
    "x0 = np.array([d0[par.name] for par in pta.params])"
   ]
  },
  {
   "cell_type": "code",
   "execution_count": 23,
   "id": "b8472b00",
   "metadata": {},
   "outputs": [
    {
     "name": "stdout",
     "output_type": "stream",
     "text": [
      "phiinv_method  cliques\n",
      "resres_logdet  -24150738.692848988\n",
      "resres_logdet+logsigprior -24150738.692848988\n",
      "resres_logdet+logsigprior+Tnr_sigma_phi2 -24157521.871626034\n",
      "logdet_phi:  15289.165017480458\n",
      "logdet_sigma 4448.603620972838\n",
      "resres_logdet+logsigprior+Tnr_sigma_phi2 292923.58086034283\n",
      "logdet_phi:  25604.746234093782\n",
      "logdet_sigma 8639.86438247935\n",
      "resres_logdet+logsigprior+Tnr_sigma_phi2 287011.1716961497\n",
      "logdet_phi:  10683.994831492373\n",
      "logdet_sigma 2880.4602861881\n",
      "resres_logdet+logsigprior+Tnr_sigma_phi2 280157.0007524602\n",
      "logdet_phi:  10591.89142777261\n",
      "logdet_sigma 3117.0202293660377\n"
     ]
    },
    {
     "data": {
      "text/plain": [
       "280157.0007524602"
      ]
     },
     "execution_count": 23,
     "metadata": {},
     "output_type": "execute_result"
    }
   ],
   "source": [
    "pta.get_lnlikelihood(x0)"
   ]
  },
  {
   "cell_type": "code",
   "execution_count": 57,
   "id": "a89062ba",
   "metadata": {},
   "outputs": [
    {
     "data": {
      "text/plain": [
       "441415.18743292545"
      ]
     },
     "execution_count": 57,
     "metadata": {},
     "output_type": "execute_result"
    }
   ],
   "source": [
    "285302.890035331\n",
    "logdet_phi:  15289.165017480458\n",
    "logdet_sigma 4448.60362097284\n",
    "logdet_phi:  25604.746234093782\n",
    "logdet_sigma 8639.86438247935\n",
    "logdet_phi:  10683.994831492373\n",
    "logdet_sigma 2880.4602861881012\n",
    "logdet_phi:  10591.89142777261\n",
    "logdet_sigma 3117.0202293660386"
   ]
  },
  {
   "cell_type": "code",
   "execution_count": 113,
   "id": "204eb6e6",
   "metadata": {},
   "outputs": [
    {
     "data": {
      "text/plain": [
       "[Glitch_1_log10_f0:Uniform(pmin=-8.455931955649724, pmax=-7.0),\n",
       " Glitch_1_log10_h:LinearExp(pmin=-10, pmax=-9),\n",
       " Glitch_1_phase0:Uniform(pmin=0, pmax=6.283185307179586),\n",
       " Glitch_1_psr_idx:Uniform(pmin=-0.5, pmax=66.5),\n",
       " Glitch_1_t0:Uniform(pmin=0.0, pmax=10.0),\n",
       " Glitch_1_tau:Uniform(pmin=0.2, pmax=5)]"
      ]
     },
     "execution_count": 113,
     "metadata": {},
     "output_type": "execute_result"
    }
   ],
   "source": [
    "pta.params"
   ]
  },
  {
   "cell_type": "code",
   "execution_count": 26,
   "id": "2080c190",
   "metadata": {},
   "outputs": [
    {
     "name": "stdout",
     "output_type": "stream",
     "text": [
      "[array([-1.57059796e-06, -1.71515979e-06, -8.36003331e-07, ...,\n",
      "        2.22050960e-06,  1.93448212e-06,  2.50537850e-06]), array([7.58853171e-06, 7.79146086e-06, 7.64545029e-06, ...,\n",
      "       7.36077832e-06, 6.86636193e-06, 6.64400339e-06]), array([-1.70031432e-05, -1.55066449e-05, -1.01133242e-05, ...,\n",
      "       -5.89991309e-06, -5.51676409e-09, -1.21392684e-06]), array([ 8.00383849e-07, -1.27680358e-07,  1.04411788e-06, ...,\n",
      "       -6.89742274e-07,  1.33288660e-06,  6.94847330e-06])]\n"
     ]
    }
   ],
   "source": [
    "print(pta.get_residuals())"
   ]
  },
  {
   "cell_type": "code",
   "execution_count": 27,
   "id": "ea756d54",
   "metadata": {},
   "outputs": [
    {
     "data": {
      "text/plain": [
       "['Glitch_1_log10_f0',\n",
       " 'Glitch_1_log10_h',\n",
       " 'Glitch_1_phase0',\n",
       " 'Glitch_1_psr_idx',\n",
       " 'Glitch_1_t0',\n",
       " 'Glitch_1_tau']"
      ]
     },
     "execution_count": 27,
     "metadata": {},
     "output_type": "execute_result"
    }
   ],
   "source": [
    "pta.param_names"
   ]
  },
  {
   "cell_type": "code",
   "execution_count": 29,
   "id": "ab50c4c4",
   "metadata": {},
   "outputs": [
    {
     "data": {
      "text/plain": [
       "0.5371120001653811"
      ]
     },
     "execution_count": 29,
     "metadata": {},
     "output_type": "execute_result"
    }
   ],
   "source": [
    "x0[3]"
   ]
  },
  {
   "cell_type": "code",
   "execution_count": 35,
   "id": "a9edf197",
   "metadata": {},
   "outputs": [],
   "source": [
    "import Fast_Burst_likelihood_ent_version as FB_ent\n",
    "import Fast_Burst_likelihood as FB"
   ]
  },
  {
   "cell_type": "code",
   "execution_count": 36,
   "id": "ad173bda",
   "metadata": {},
   "outputs": [
    {
     "name": "stdout",
     "output_type": "stream",
     "text": [
      "Nvecs arary:  [[1.69852389e-12 1.12772641e-10 3.26328092e-12 ... 4.85655692e-12\n",
      " 5.14669141e-13 1.79238956e-12], [6.95185145e-14 1.57784257e-13 2.75345324e-14 ... 1.37317696e-13\n",
      " 6.53510393e-13 3.42658995e-13], [4.94236756e-10 4.03404993e-10 7.90600715e-10 ... 2.03923984e-10\n",
      " 4.69194849e-10 4.02505715e-10], [1.78150121e-13 6.22555077e-13 1.41224754e-13 ... 4.44123286e-11\n",
      " 2.71409648e-11 3.12885720e-11], ...]\n",
      "-24150738.692848988\n",
      "logdet_phi:  15289.165017480458\n",
      "logdet_sigma 4448.60362097284\n",
      "logdet_phi:  25604.746234093782\n",
      "logdet_sigma 8639.86438247935\n",
      "logdet_phi:  10683.994831492373\n",
      "logdet_sigma 2880.4602861881012\n",
      "logdet_phi:  10591.89142777261\n",
      "logdet_sigma 3117.0202293660386\n",
      "287678.36202822253\n"
     ]
    }
   ],
   "source": [
    "FB1 = FB_ent.FastBurst(pta = pta, psrs = psrs, params = d0, Npsr = len(psrs), tref=53000*86400)\n",
    "#FB2 = FB.FastBurst(pta = pta, psrs = psrs, params = d0, Npsr = len(psrs), tref=53000*86400)"
   ]
  },
  {
   "cell_type": "code",
   "execution_count": 37,
   "id": "558c8153",
   "metadata": {},
   "outputs": [
    {
     "data": {
      "text/plain": [
       "475725.0537348674"
      ]
     },
     "execution_count": 37,
     "metadata": {},
     "output_type": "execute_result"
    }
   ],
   "source": [
    " 475725.0537348674"
   ]
  },
  {
   "cell_type": "code",
   "execution_count": 38,
   "id": "5302d9d0",
   "metadata": {},
   "outputs": [
    {
     "name": "stdout",
     "output_type": "stream",
     "text": [
      "Amplitude:  1.2855510128935444e-06\n",
      "Frequency:  5.67798550892742e-09\n",
      "glitch_index:  0.5371120001653811\n",
      "Old Sigma:  [0. 0.]\n",
      "New sigma:  [-3.14046587e-07 -1.24660184e-06]\n",
      "Old M and N:  [[0. 0.]\n",
      " [0. 0.]] [0. 0.]\n",
      "Input time:  433.22629556269334\n",
      "Per pulsar toas:  [ 358.72367538  358.72367538  358.72367538 ... 6051.17056678 6051.17056678\n",
      " 6051.17056678]\n",
      "Cosine:  [9.67138218e-01 9.67138218e-01 9.67138218e-01 ... 5.78261299e-19\n",
      " 5.78261299e-19 5.78261299e-19]\n",
      "Sine:  [-2.26088185e-01 -2.26088185e-01 -2.26088185e-01 ... -1.52310391e-17\n",
      " -1.52310391e-17 -1.52310391e-17]\n",
      "Exponential:  [-3436.67262066 -3436.67262066 -3436.67262066 ... -4215.69744073\n",
      " -4215.69744073 -4215.69744073]\n",
      "Per pulsar toas:  [ 267.08925417  267.08925417  267.08925418 ... 6065.13408132 6065.13408135\n",
      " 6065.13408135]\n",
      "Cosine:  [8.42691845e-01 8.42691845e-01 8.42691845e-01 ... 1.01692897e-18\n",
      " 1.01692897e-18 1.01692897e-18]\n",
      "Sine:  [-4.73692570e-01 -4.73692570e-01 -4.73692570e-01 ... -1.25289526e-17\n",
      " -1.25289526e-17 -1.25289526e-17]\n",
      "Exponential:  [-3424.78251474 -3424.78251474 -3424.78251475 ... -4217.7061418\n",
      " -4217.70614181 -4217.70614181]\n",
      "Per pulsar toas:  [1998.28775045 1998.28775045 1998.28775045 ... 6065.20246514 6065.20246535\n",
      " 6065.2024655 ]\n",
      "Cosine:  [5.52313778e-03 5.52313778e-03 5.52313778e-03 ... 1.01860679e-18\n",
      " 1.01860680e-18 1.01860680e-18]\n",
      "Sine:  [-4.92207327e-02 -4.92207327e-02 -4.92207327e-02 ... -1.25169034e-17\n",
      " -1.25169034e-17 -1.25169033e-17]\n",
      "Exponential:  [-3652.89815616 -3652.89815616 -3652.89815616 ... -4217.71598023\n",
      " -4217.71598026 -4217.71598028]\n",
      "Per pulsar toas:  [2758.34779    2758.34779007 2758.34779014 ... 6051.41471054 6051.41471054\n",
      " 6051.41471054]\n",
      "Cosine:  [8.34945697e-04 8.34945696e-04 8.34945696e-04 ... 5.87741730e-19\n",
      " 5.87741730e-19 5.87741730e-19]\n",
      "Sine:  [ 1.01775367e-03  1.01775367e-03  1.01775366e-03 ... -1.51794247e-17\n",
      " -1.51794247e-17 -1.51794247e-17]\n",
      "Exponential:  [-3755.37248041 -3755.37248042 -3755.37248043 ... -4215.73255756\n",
      " -4215.73255756 -4215.73255756]\n",
      "New M and N:  [[ 1.15065613e+14 -4.17122446e+13]\n",
      " [-4.17122446e+13  6.63799330e+13]] [-2.29136269e+08 -2.21680571e+07]\n",
      "adding in resres_logdet 287678.36202822253\n",
      "0\n",
      "1\n",
      "adding the signal at 1\n"
     ]
    },
    {
     "data": {
      "text/plain": [
       "285302.890035331"
      ]
     },
     "execution_count": 38,
     "metadata": {},
     "output_type": "execute_result"
    }
   ],
   "source": [
    "FB1.get_lnlikelihood(10**(x0[1]), x0[2], 10**(x0[0]), (3.15*10**7)*x0[5], (3.15*10**7)*x0[4], x0[3])"
   ]
  },
  {
   "cell_type": "code",
   "execution_count": 33,
   "id": "150daec4",
   "metadata": {},
   "outputs": [
    {
     "name": "stdout",
     "output_type": "stream",
     "text": [
      "Amplitude:  4.258573214906627e-06\n",
      "Frequency:  9.818791332648557e-08\n",
      "glitch_index:  0.02993512229379247\n",
      "Old Sigma:  [0. 0.]\n",
      "New sigma:  [-3.69111611e-07 -4.24254669e-06]\n",
      "Old M and N:  [[0. 0.]\n",
      " [0. 0.]] [0. 0.]\n",
      "Input time:  592.8745928115762\n",
      "Per pulsar toas:  [ 394.85368635  394.85368641  394.85368641 ... 6067.37530852 6067.37530852\n",
      " 6067.37530852]\n",
      "Cosine:  [-4.20982018e-01 -4.20982021e-01 -4.20982021e-01 ... -5.70972603e-05\n",
      " -5.70972603e-05 -5.70972603e-05]\n",
      "Sine:  [8.93140714e-01 8.93140713e-01 8.93140713e-01 ... 2.15445657e-05\n",
      " 2.15445657e-05 2.15445657e-05]\n",
      "Exponential:  [ -902.75732599  -902.75732599  -902.75732599 ... -1107.14286197\n",
      " -1107.14286197 -1107.14286197]\n",
      "Per pulsar toas:  [2972.08141782 2972.08141786 2972.08141793 ... 5942.92773218 5942.92773218\n",
      " 5942.92773222]\n",
      "Cosine:  [ 6.45851716e-02  6.45851713e-02  6.45851707e-02 ... -7.15209358e-05\n",
      " -7.15209358e-05 -7.15209359e-05]\n",
      "Sine:  [1.46332714e-01 1.46332714e-01 1.46332714e-01 ... 6.16057866e-05\n",
      " 6.16057866e-05 6.16057865e-05]\n",
      "Exponential:  [ -993.03391754  -993.03391754  -993.03391754 ... -1102.4353526\n",
      " -1102.4353526  -1102.4353526 ]\n",
      "Per pulsar toas:  [4755.05880652 4755.05880655 4755.05880658 ... 6056.51249574 6056.5124958\n",
      " 6056.5124958 ]\n",
      "Cosine:  [-1.34050467e-03 -1.34050468e-03 -1.34050468e-03 ... -3.74131310e-05\n",
      " -3.74131312e-05 -3.74131312e-05]\n",
      "Sine:  [3.40935147e-03 3.40935146e-03 3.40935146e-03 ... 5.12094133e-05\n",
      " 5.12094132e-05 5.12094132e-05]\n",
      "Exponential:  [-1058.00629134 -1058.00629134 -1058.00629135 ... -1106.73155214\n",
      " -1106.73155214 -1106.73155214]\n",
      "Per pulsar toas:  [4221.64778504 4221.64778504 4221.64778504 ... 5957.92539828 5957.92539828\n",
      " 5957.92539828]\n",
      "Cosine:  [ 3.02294581e-03  3.02294581e-03  3.02294581e-03 ... -8.92597056e-05\n",
      " -8.92597056e-05 -8.92597056e-05]\n",
      "Sine:  [-1.37410594e-02 -1.37410594e-02 -1.37410594e-02 ... -7.90795412e-06\n",
      " -7.90795412e-06 -7.90795412e-06]\n",
      "Exponential:  [-1038.35277084 -1038.35277084 -1038.35277084 ... -1103.00214153\n",
      " -1103.00214153 -1103.00214153]\n",
      "New M and N:  [[ 2.85690253e+13 -3.32290033e+12]\n",
      " [-3.32290033e+12  4.65299867e+13]] [ 1890011.5301834  19784538.82636971]\n",
      "reseres:  26231.60217154314\n",
      "logdet:  -1013534.7193202538\n",
      "skipped  1\n",
      "reseres:  10961.766258115347\n",
      "logdet:  -1013534.7193202538\n",
      "skipped  2\n",
      "reseres:  2397.5420754356282\n",
      "logdet:  -1013534.7193202538\n",
      "skipped  3\n",
      "reseres:  8689.090279274567\n",
      "logdet:  -1013534.7193202538\n"
     ]
    },
    {
     "data": {
      "text/plain": [
       "482127.23089051904"
      ]
     },
     "execution_count": 33,
     "metadata": {},
     "output_type": "execute_result"
    }
   ],
   "source": [
    "FB2.get_lnlikelihood(10**(x0[1]), x0[2], 10**(x0[0]), (3.15*10**7)*x0[5], (3.15*10**7)*x0[4], x0[3])"
   ]
  },
  {
   "cell_type": "code",
   "execution_count": 34,
   "id": "8604e45b",
   "metadata": {},
   "outputs": [
    {
     "data": {
      "text/plain": [
       "482127.23089051904"
      ]
     },
     "execution_count": 34,
     "metadata": {},
     "output_type": "execute_result"
    }
   ],
   "source": [
    "482127.23089051904 #Bence version"
   ]
  },
  {
   "cell_type": "code",
   "execution_count": 35,
   "id": "d72c342e",
   "metadata": {},
   "outputs": [
    {
     "data": {
      "text/plain": [
       "448629.5379522237"
      ]
     },
     "execution_count": 35,
     "metadata": {},
     "output_type": "execute_result"
    }
   ],
   "source": [
    "448629.5379522237 #Enterprise version"
   ]
  },
  {
   "cell_type": "code",
   "execution_count": null,
   "id": "cd4f383e",
   "metadata": {},
   "outputs": [],
   "source": []
  }
 ],
 "metadata": {
  "kernelspec": {
   "display_name": "Python 3 (ipykernel)",
   "language": "python",
   "name": "python3"
  },
  "language_info": {
   "codemirror_mode": {
    "name": "ipython",
    "version": 3
   },
   "file_extension": ".py",
   "mimetype": "text/x-python",
   "name": "python",
   "nbconvert_exporter": "python",
   "pygments_lexer": "ipython3",
   "version": "3.9.12"
  }
 },
 "nbformat": 4,
 "nbformat_minor": 5
}
