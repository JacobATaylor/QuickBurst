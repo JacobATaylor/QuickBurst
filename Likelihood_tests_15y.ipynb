{
 "cells": [
  {
   "cell_type": "code",
   "execution_count": 37,
   "id": "3435406f",
   "metadata": {},
   "outputs": [
    {
     "name": "stdout",
     "output_type": "stream",
     "text": [
      "The autoreload extension is already loaded. To reload it, use:\n",
      "  %reload_ext autoreload\n",
      "The line_profiler extension is already loaded. To reload it, use:\n",
      "  %reload_ext line_profiler\n"
     ]
    }
   ],
   "source": [
    "#chack for updated files\\n,\n",
    "%load_ext autoreload\n",
    "%autoreload 2\n",
    "#import packages\n",
    "from __future__ import division\n",
    "\n",
    "%load_ext line_profiler\n",
    "import numpy as np\n",
    "import glob, json\n",
    "import pickle\n",
    "import os as os_pack\n",
    "import matplotlib.pyplot as plt\n",
    "import corner\n",
    "#%matplotlib inline\\n\",\n",
    "%config InlineBackend.figure_format = 'retina'\n",
    "import healpy as hp\n",
    "import os, glob, json, pickle\n",
    "import matplotlib.pyplot as plt\n",
    "import numpy as np\n",
    "import scipy.linalg as sl\n",
    "import enterprise\n",
    "from enterprise.pulsar import Pulsar\n",
    "import enterprise.signals.parameter as parameter\n",
    "from enterprise.signals import utils\n",
    "from enterprise.signals import signal_base\n",
    "from enterprise.signals import selections\n",
    "from enterprise.signals.selections import Selection\n",
    "from enterprise.signals import white_signals\n",
    "from enterprise.signals import gp_signals\n",
    "from enterprise.signals import deterministic_signals\n",
    "import enterprise.constants as const\n",
    "from enterprise_extensions import blocks\n",
    "from enterprise_extensions import models as ee_models\n",
    "from enterprise_extensions import model_utils as ee_model_utils\n",
    "from enterprise_extensions import model_orfs\n",
    "from enterprise_extensions.frequentist import optimal_statistic as opt_stat\n",
    "from enterprise_extensions import sampler as ee_sampler\n",
    "from enterprise.signals.signal_base import LogLikelihood\n",
    "import enterprise_wavelets as models\n",
    "from enterprise.signals.deterministic_signals import Deterministic\n",
    "from enterprise.signals.parameter import function\n",
    "from la_forge.core import Core\n",
    "from la_forge.diagnostics import plot_chains\n",
    "from la_forge import rednoise\n",
    "import la_forge\n",
    "import corner\n",
    "from PTMCMCSampler.PTMCMCSampler import PTSampler as ptmcmc\n",
    "import re\n",
    "#style\n",
    "    \n",
    "#import Fast_Burst_likelihood as FB"
   ]
  },
  {
   "cell_type": "code",
   "execution_count": 2,
   "id": "bc002bf6",
   "metadata": {
    "scrolled": true
   },
   "outputs": [
    {
     "name": "stdout",
     "output_type": "stream",
     "text": [
      "['B1855+09', 'B1937+21', 'B1953+29', 'J0023+0923', 'J0030+0451', 'J0340+4130', 'J0406+3039', 'J0437-4715', 'J0509+0856', 'J0557+1551', 'J0605+3757', 'J0610-2100', 'J0613-0200', 'J0636+5128', 'J0645+5158', 'J0709+0458', 'J0740+6620', 'J0931-1902', 'J1012+5307', 'J1012-4235', 'J1022+1001', 'J1024-0719', 'J1125+7819', 'J1312+0051', 'J1453+1902', 'J1455-3330', 'J1600-3053', 'J1614-2230', 'J1630+3734', 'J1640+2224', 'J1643-1224', 'J1705-1903', 'J1713+0747', 'J1719-1438', 'J1730-2304', 'J1738+0333', 'J1741+1351', 'J1744-1134', 'J1745+1017', 'J1747-4036', 'J1751-2857', 'J1802-2124', 'J1811-2405', 'J1832-0836', 'J1843-1113', 'J1853+1303', 'J1903+0327', 'J1909-3744', 'J1910+1256', 'J1911+1347', 'J1918-0642', 'J1923+2515', 'J1944+0907', 'J1946+3417', 'J2010-1323', 'J2017+0603', 'J2033+1734', 'J2043+1711', 'J2124-3358', 'J2145-0750', 'J2214+3000', 'J2229+2643', 'J2234+0611', 'J2234+0944', 'J2302+4442', 'J2317+1439', 'J2322+2057']\n",
      "15.515060297068947\n",
      "15.802872967471835\n",
      "11.08458774068679\n",
      "8.97542529762611\n",
      "15.460752938661816\n",
      "8.097196263848735\n",
      "3.5471797714338695\n",
      "4.73231500896138\n",
      "3.547176454921115\n",
      "4.544545768066009\n",
      "3.351669877701738\n",
      "3.351332802504801\n",
      "14.974608138667145\n",
      "6.267600017162317\n",
      "8.819664981732053\n",
      "4.544600441698622\n",
      "6.2825807126420985\n",
      "7.064395594678241\n",
      "15.461020148266723\n",
      "3.3484892691048764\n",
      "5.525883855281643\n",
      "10.420998637038\n",
      "6.267484026443831\n",
      "4.5420013054637725\n",
      "6.972040209055308\n",
      "15.599069825125945\n",
      "12.417100259795715\n",
      "11.489362319509043\n",
      "3.4441530091993893\n",
      "15.400871896156167\n",
      "15.64303593505724\n",
      "3.707296899543094\n",
      "15.474183117075478\n",
      "3.42752834883019\n",
      "3.4274871884122784\n",
      "10.684934520686538\n",
      "10.964860102320921\n",
      "15.601884230034855\n",
      "4.525794410976626\n",
      "8.08384617766982\n",
      "3.438574395731195\n",
      "3.4413590991110756\n",
      "3.4413346606806323\n",
      "7.062189325034446\n",
      "3.4413306702518764\n",
      "9.04866882776844\n",
      "10.684905101087312\n",
      "15.422789287449298\n",
      "11.375133055440951\n",
      "6.958436334614769\n",
      "15.409057684397863\n",
      "8.923489893124517\n",
      "12.402865995623591\n",
      "5.708107182414299\n",
      "10.486940574100116\n",
      "8.287559592937024\n",
      "6.93928781432221\n",
      "9.01050953125313\n",
      "3.4467133447486744\n",
      "15.468496605274158\n",
      "8.382797400273494\n",
      "6.996666235082007\n",
      "6.507203734364886\n",
      "7.067212494863125\n",
      "8.097084560285172\n",
      "15.575011219985463\n",
      "5.422724973700821\n"
     ]
    }
   ],
   "source": [
    "#Loading in pickle and noise files\n",
    "pint_pickle = '/home/reyna/OS_15yr/15yr_data/v1p1_de440_pint_bipm2019.pkl'\n",
    "noise_file = '/home/reyna/OS_15yr/15yr_data/v1p1_wn_dict.json'\n",
    "#psrlist = np.loadtxt('/home/reyna/15yr_v1p0/15yr_v1-20211001T235643Z-001/15yr_v1/psrlist_15yr_pint.txt', dtype = str)\n",
    "with open(noise_file, 'r') as h:\n",
    "    noise_params = json.load(h)\n",
    "with open(pint_pickle,'rb') as f:\n",
    "    allpsrs = pickle.load(f)\n",
    "psrs = []\n",
    "for ii,p in enumerate(allpsrs):\n",
    "    psrs.append(p)\n",
    "#Temporary to get code to not crash\n",
    "psrs = psrs[0:]\n",
    "psrlist = [psr.name for psr in psrs]\n",
    "print(psrlist)\n",
    "for i in range(len(psrs)):\n",
    "    print((max(psrs[i].toas) - min(psrs[i].toas))/(3.17*10**(7)))"
   ]
  },
  {
   "cell_type": "code",
   "execution_count": 3,
   "id": "ca824bd6",
   "metadata": {},
   "outputs": [],
   "source": [
    "glitches = []\n",
    "N_glitches = 5\n",
    "for i in range(N_glitches):\n",
    "    log10_f0 = parameter.Uniform(np.log10(3.5e-9), np.log10(1e-7))(\"Glitch_\"+str(i)+'_'+'log10_f0')\n",
    "    phase0 = parameter.Uniform(0, 2*np.pi)(\"Glitch_\"+str(i)+'_'+'phase0')\n",
    "    tau = parameter.Uniform(0.2, 5)(\"Glitch_\"+str(i)+'_'+'tau')\n",
    "    t0 = parameter.Uniform(0.0, 10.0)(\"Glitch_\"+str(i)+'_'+'t0')\n",
    "    psr_idx = parameter.Uniform(-0.5, len(psrs)-0.5)(\"Glitch_\"+str(i)+'_'+'psr_idx')\n",
    "    log10_h = parameter.LinearExp(-10.5, -9)(\"Glitch_\"+str(i)+'_'+'log10_h')\n",
    "    glitch_wf = models.glitch_delay(log10_h = log10_h, tau = tau, log10_f0 = log10_f0, t0 = t0, phase0 = phase0, tref=53000*86400,\n",
    "                                            psr_float_idx = psr_idx, pulsars=psrs)\n",
    "    glitches.append(deterministic_signals.Deterministic(glitch_wf, name='Glitch'+str(i) ))"
   ]
  },
  {
   "cell_type": "code",
   "execution_count": 4,
   "id": "813d3b32",
   "metadata": {},
   "outputs": [],
   "source": [
    "#wavelet models\n",
    "wavelets = [] #added \"wavelet_\" to names to help with seperation\n",
    "N_wavelets = 5\n",
    "for i in range(N_wavelets):\n",
    "    log10_f0 = parameter.Uniform(np.log10(3.5e-9), np.log10(1e-7))(\"wavelet_\"+str(i)+'_'+'log10_f0')\n",
    "    cos_gwtheta = parameter.Uniform(-1, 1)(\"wavelet_\"+str(i)+'_'+'cos_gwtheta')\n",
    "    gwphi = parameter.Uniform(0, 2*np.pi)(\"wavelet_\"+str(i)+'_'+'gwphi')\n",
    "    psi = parameter.Uniform(0, np.pi)(\"wavelet_\"+str(i)+'_'+'gw_psi')\n",
    "    phase0 = parameter.Uniform(0, 2*np.pi)(\"wavelet_\"+str(i)+'_'+'phase0')\n",
    "    phase0_cross = parameter.Uniform(0, 2*np.pi)(\"wavelet_\"+str(i)+'_'+'phase0_cross')\n",
    "    tau = parameter.Uniform(0.2, 5)(\"wavelet_\"+str(i)+'_'+'tau')\n",
    "    t0 = parameter.Uniform(0.0, 10.0)(\"wavelet_\"+str(i)+'_'+'t0')\n",
    "    log10_h = parameter.LinearExp(-18,-11)(\"wavelet_\"+str(i)+'_'+'log10_h')\n",
    "    log10_h_cross = parameter.LinearExp(-18,-11)(\"wavelet_\"+str(i)+'_'+'log10_h_cross')\n",
    "    wavelet_wf = models.wavelet_delay(cos_gwtheta=cos_gwtheta, gwphi=gwphi, log10_h = log10_h, log10_h2=log10_h_cross,\n",
    "                                      tau = tau, log10_f0 = log10_f0, t0 = t0, phase0 = phase0, phase02=phase0_cross,\n",
    "                                      epsilon = None, psi=psi, tref=53000*86400)\n",
    "    wavelets.append(deterministic_signals.Deterministic(wavelet_wf, name='wavelet'+str(i)))"
   ]
  },
  {
   "cell_type": "code",
   "execution_count": 65,
   "id": "a75bcaec",
   "metadata": {},
   "outputs": [],
   "source": [
    "tm = gp_signals.TimingModel(use_svd=True)\n",
    "wn = blocks.white_noise_block(vary=False, inc_ecorr=False)\n",
    "\n",
    "Tspan = ee_model_utils.get_tspan(psrs)\n",
    "rn = blocks.red_noise_block(psd='powerlaw', prior = 'log-uniform', Tspan=Tspan, components = 30)\n",
    "\n",
    "#s = base_model\n",
    "s = tm + wn + rn\n",
    "for i in range(N_glitches):\n",
    "    s += glitches[i]\n",
    "for j in range(N_wavelets):\n",
    "    s += wavelets[j]\n",
    "model = []\n",
    "for p in psrs:\n",
    "    model.append(s(p))\n",
    "with open(noise_file, 'r') as fp:\n",
    "    noisedict = json.load(fp)\n",
    "    pta = signal_base.PTA(model)\n",
    "    pta.set_default_params(noisedict)"
   ]
  },
  {
   "cell_type": "code",
   "execution_count": 70,
   "id": "63e4a9b3",
   "metadata": {},
   "outputs": [],
   "source": [
    "d0_15y = parameter.sample(pta.params)\n",
    "x0_15y = np.array([d0_15y[par.name] for par in pta.params])"
   ]
  },
  {
   "cell_type": "code",
   "execution_count": 7,
   "id": "9050c17a",
   "metadata": {},
   "outputs": [],
   "source": [
    "d0_15y;"
   ]
  },
  {
   "cell_type": "code",
   "execution_count": 29,
   "id": "130e3239",
   "metadata": {},
   "outputs": [],
   "source": [
    "d0_sample = parameter.sample(pta.params)"
   ]
  },
  {
   "cell_type": "code",
   "execution_count": 30,
   "id": "f158d5ac",
   "metadata": {
    "collapsed": true
   },
   "outputs": [],
   "source": [
    "d0_15y_2 = {'Glitch_0_log10_f0': d0_15y['Glitch_0_log10_f0'],\n",
    "         'Glitch_0_log10_h': d0_sample['Glitch_0_log10_h'],\n",
    "         'Glitch_0_phase0': d0_sample['Glitch_0_phase0'],\n",
    "         'Glitch_0_psr_idx': d0_15y['Glitch_0_psr_idx'],\n",
    "         'Glitch_0_t0': d0_15y['Glitch_0_t0'],\n",
    "         'Glitch_0_tau': d0_15y['Glitch_0_tau'],\n",
    "         'Glitch_1_log10_f0': d0_15y['Glitch_1_log10_f0'],\n",
    "         'Glitch_1_log10_h': d0_sample['Glitch_1_log10_h'],\n",
    "         'Glitch_1_phase0': d0_sample['Glitch_1_phase0'],\n",
    "         'Glitch_1_psr_idx':d0_15y['Glitch_1_psr_idx'],\n",
    "         'Glitch_1_t0': d0_15y['Glitch_1_t0'],\n",
    "         'Glitch_1_tau': d0_15y['Glitch_1_tau'],\n",
    "         'Glitch_2_log10_f0': d0_15y['Glitch_2_log10_f0'],\n",
    "         'Glitch_2_log10_h': d0_sample['Glitch_2_log10_h'],\n",
    "         'Glitch_2_phase0': d0_sample['Glitch_2_phase0'],\n",
    "         'Glitch_2_psr_idx': d0_15y['Glitch_2_psr_idx'],\n",
    "         'Glitch_2_t0': d0_15y['Glitch_2_t0'],\n",
    "         'Glitch_2_tau': d0_15y['Glitch_2_tau'],\n",
    "         'Glitch_3_log10_f0': d0_15y['Glitch_3_log10_f0'],\n",
    "         'Glitch_3_log10_h': d0_sample['Glitch_3_log10_h'],\n",
    "         'Glitch_3_phase0': d0_sample['Glitch_3_phase0'],\n",
    "         'Glitch_3_psr_idx': d0_15y['Glitch_3_psr_idx'],\n",
    "         'Glitch_3_t0': d0_15y['Glitch_3_t0'],\n",
    "         'Glitch_3_tau': d0_15y['Glitch_3_tau'],\n",
    "         'Glitch_4_log10_f0': d0_15y['Glitch_4_log10_f0'],\n",
    "         'Glitch_4_log10_h': d0_sample['Glitch_4_log10_h'],\n",
    "         'Glitch_4_phase0': d0_sample['Glitch_4_phase0'],\n",
    "         'Glitch_4_psr_idx': d0_15y['Glitch_4_psr_idx'],\n",
    "         'Glitch_4_t0': d0_15y['Glitch_4_t0'],\n",
    "         'Glitch_4_tau': d0_15y['Glitch_4_tau'],\n",
    "         'wavelet_0_cos_gwtheta': d0_sample['wavelet_0_cos_gwtheta'],\n",
    "         'wavelet_0_gw_psi': d0_sample['wavelet_0_gw_psi'],\n",
    "         'wavelet_0_gwphi': d0_sample['wavelet_0_gwphi'],\n",
    "         'wavelet_0_log10_f0': d0_15y['wavelet_0_log10_f0'],\n",
    "         'wavelet_0_log10_h': d0_sample['wavelet_0_log10_h'],\n",
    "         'wavelet_0_log10_h_cross': d0_sample['wavelet_0_log10_h_cross'],\n",
    "         'wavelet_0_phase0': d0_sample['wavelet_0_phase0'],\n",
    "         'wavelet_0_phase0_cross': d0_sample['wavelet_0_phase0_cross'],\n",
    "         'wavelet_0_t0': d0_15y['wavelet_0_t0'],\n",
    "         'wavelet_0_tau': d0_15y['wavelet_0_tau'],\n",
    "         'wavelet_1_cos_gwtheta': d0_sample['wavelet_1_cos_gwtheta'],\n",
    "         'wavelet_1_gw_psi': d0_sample['wavelet_1_gw_psi'],\n",
    "         'wavelet_1_gwphi': d0_sample['wavelet_1_gwphi'],\n",
    "         'wavelet_1_log10_f0': d0_15y['wavelet_1_log10_f0'],\n",
    "         'wavelet_1_log10_h': d0_sample['wavelet_1_log10_h'],\n",
    "         'wavelet_1_log10_h_cross': d0_sample['wavelet_1_log10_h_cross'],\n",
    "         'wavelet_1_phase0': d0_sample['wavelet_1_phase0'],\n",
    "         'wavelet_1_phase0_cross': d0_sample['wavelet_1_phase0_cross'],\n",
    "         'wavelet_1_t0': d0_15y['wavelet_1_t0'],\n",
    "         'wavelet_1_tau':d0_15y['wavelet_1_tau'],\n",
    "         'wavelet_2_cos_gwtheta': d0_sample['wavelet_2_cos_gwtheta'],\n",
    "         'wavelet_2_gw_psi': d0_sample['wavelet_2_gw_psi'],\n",
    "         'wavelet_2_gwphi': d0_sample['wavelet_2_gwphi'],\n",
    "         'wavelet_2_log10_f0': d0_15y['wavelet_2_log10_f0'],\n",
    "         'wavelet_2_log10_h': d0_sample['wavelet_2_log10_h'],\n",
    "         'wavelet_2_log10_h_cross': d0_sample['wavelet_2_log10_h_cross'],\n",
    "         'wavelet_2_phase0': d0_sample['wavelet_2_phase0'],\n",
    "         'wavelet_2_phase0_cross': d0_sample['wavelet_2_phase0_cross'],\n",
    "         'wavelet_2_t0': d0_15y['wavelet_2_t0'],\n",
    "         'wavelet_2_tau': d0_15y['wavelet_2_tau'],\n",
    "         'wavelet_3_cos_gwtheta': d0_sample['wavelet_3_cos_gwtheta'],\n",
    "         'wavelet_3_gw_psi': d0_sample['wavelet_3_gw_psi'],\n",
    "         'wavelet_3_gwphi': d0_sample['wavelet_3_gwphi'],\n",
    "         'wavelet_3_log10_f0': d0_15y['wavelet_3_log10_f0'],\n",
    "         'wavelet_3_log10_h': d0_sample['wavelet_3_log10_h'],\n",
    "         'wavelet_3_log10_h_cross': d0_sample['wavelet_3_log10_h_cross'],\n",
    "         'wavelet_3_phase0': d0_sample['wavelet_3_phase0'],\n",
    "         'wavelet_3_phase0_cross': d0_sample['wavelet_3_phase0_cross'],\n",
    "         'wavelet_3_t0': d0_15y['wavelet_3_t0'],\n",
    "         'wavelet_3_tau': d0_15y['wavelet_3_tau'],\n",
    "         'wavelet_4_cos_gwtheta': d0_sample['wavelet_4_cos_gwtheta'],\n",
    "         'wavelet_4_gw_psi': d0_sample['wavelet_4_gw_psi'],\n",
    "         'wavelet_4_gwphi': d0_sample['wavelet_4_gwphi'],\n",
    "         'wavelet_4_log10_f0': d0_15y['wavelet_4_log10_f0'],\n",
    "         'wavelet_4_log10_h': d0_sample['wavelet_4_log10_h'],\n",
    "         'wavelet_4_log10_h_cross': d0_sample['wavelet_4_log10_h_cross'],\n",
    "         'wavelet_4_phase0': d0_sample['wavelet_4_phase0'],\n",
    "         'wavelet_4_phase0_cross': d0_sample['wavelet_4_phase0_cross'],\n",
    "         'wavelet_4_t0': d0_15y['wavelet_4_t0'],\n",
    "         'wavelet_4_tau': d0_15y['wavelet_4_tau']}"
   ]
  },
  {
   "cell_type": "code",
   "execution_count": 31,
   "id": "b0206c18",
   "metadata": {},
   "outputs": [],
   "source": [
    "x0_15y_2 = np.array([d0_15y_2[par.name] for par in pta.params])"
   ]
  },
  {
   "cell_type": "code",
   "execution_count": 71,
   "id": "a9edf197",
   "metadata": {},
   "outputs": [
    {
     "name": "stdout",
     "output_type": "stream",
     "text": [
      "rNr_logdet: -16598725.321112186\n",
      "rNr_logdet_?: -16598725.321112186\n",
      "logdet_array: -10024.54688890752\n",
      "logdet_array: -17122.30735642901\n",
      "logdet_array: -6844.288541920788\n",
      "logdet_array: -6992.007475921232\n",
      "logdet_array: -18045.20928965675\n",
      "logdet_array: -6917.256091074548\n",
      "logdet_array: -3202.7003098246864\n",
      "logdet_array: -2982.0453410196365\n",
      "logdet_array: -3018.8246192321894\n",
      "logdet_array: -3209.7590642034693\n",
      "logdet_array: -2318.8901170312847\n",
      "logdet_array: -3242.8361309509837\n",
      "logdet_array: -11570.733179518706\n",
      "logdet_array: -5558.125071975919\n",
      "logdet_array: -7398.754209271707\n",
      "logdet_array: -3796.7718244318726\n",
      "logdet_array: -7674.8419421732215\n",
      "logdet_array: -5847.342972885166\n",
      "logdet_array: -11612.620124669094\n",
      "logdet_array: -2432.8837352173596\n",
      "logdet_array: -4509.321556657592\n",
      "logdet_array: -8746.875013056386\n",
      "logdet_array: -5526.60540712311\n",
      "logdet_array: -3596.8520827575094\n",
      "logdet_array: -4538.3323465985195\n",
      "logdet_array: -10057.986809248989\n",
      "logdet_array: -12087.062585177458\n",
      "logdet_array: -9873.936369500589\n",
      "logdet_array: -3048.5742173073295\n",
      "logdet_array: -18538.918930104912\n",
      "logdet_array: -12653.777241142545\n",
      "logdet_array: -3787.998414297215\n",
      "logdet_array: -25905.601565137193\n",
      "logdet_array: -3272.1376021399255\n",
      "logdet_array: -3258.292647406787\n",
      "logdet_array: -7093.5738938424365\n",
      "logdet_array: -8020.617003791413\n",
      "logdet_array: -10942.169224622878\n",
      "logdet_array: -3779.490375034149\n",
      "logdet_array: -6779.387097518236\n",
      "logdet_array: -3417.36000625307\n",
      "logdet_array: -3482.5969095034015\n",
      "logdet_array: -3718.5315721189795\n",
      "logdet_array: -6059.839920127589\n",
      "logdet_array: -2941.2640609465516\n",
      "logdet_array: -6769.115163927245\n",
      "logdet_array: -8035.058123255053\n",
      "logdet_array: -21082.173507122076\n",
      "logdet_array: -7787.6858134388585\n",
      "logdet_array: -4841.097914604491\n",
      "logdet_array: -10852.745226538904\n",
      "logdet_array: -5897.480180770065\n",
      "logdet_array: -6823.274333455849\n",
      "logdet_array: -5330.215682733549\n",
      "logdet_array: -9012.345361049447\n",
      "logdet_array: -6506.897026544483\n",
      "logdet_array: -4919.179879329846\n",
      "logdet_array: -14894.347475313753\n",
      "logdet_array: -2915.4068280882466\n",
      "logdet_array: -10743.886512363028\n",
      "logdet_array: -6583.285145802994\n",
      "logdet_array: -5483.796784862424\n",
      "logdet_array: -5034.603159058396\n",
      "logdet_array: -5219.408573150883\n",
      "logdet_array: -7391.489530307295\n",
      "logdet_array: -19447.064328739303\n",
      "logdet_array: -4132.791310463815\n"
     ]
    },
    {
     "data": {
      "text/plain": [
       "7579774.2566050235"
      ]
     },
     "execution_count": 71,
     "metadata": {},
     "output_type": "execute_result"
    }
   ],
   "source": [
    "pta.get_lnlikelihood(x0_15y)"
   ]
  },
  {
   "cell_type": "code",
   "execution_count": 32,
   "id": "48161e3c",
   "metadata": {},
   "outputs": [],
   "source": [
    "%lprun -f pta.get_lnlikelihood pta.get_lnlikelihood(x0_15y_2)"
   ]
  },
  {
   "cell_type": "code",
   "execution_count": 75,
   "id": "843baf19",
   "metadata": {},
   "outputs": [],
   "source": [
    "import Fast_Burst_likelihood as FB"
   ]
  },
  {
   "cell_type": "code",
   "execution_count": 78,
   "id": "7d9fb193",
   "metadata": {},
   "outputs": [],
   "source": [
    "FB_15y = FB.FastBurst(pta = pta, psrs = psrs, params = d0_15y, Npsr = len(psrs), tref=53000*86400, Nglitch = N_glitches, Nwavelet = N_wavelets)"
   ]
  },
  {
   "cell_type": "code",
   "execution_count": 72,
   "id": "1c1a5e3c",
   "metadata": {},
   "outputs": [
    {
     "data": {
      "text/plain": [
       "7954357.582108737"
      ]
     },
     "execution_count": 72,
     "metadata": {},
     "output_type": "execute_result"
    }
   ],
   "source": [
    "FB_15y.get_lnlikelihood(x0_15y)"
   ]
  },
  {
   "cell_type": "code",
   "execution_count": 36,
   "id": "30de1b8b",
   "metadata": {
    "scrolled": true
   },
   "outputs": [],
   "source": [
    "%lprun -f FB_15y.get_lnlikelihood FB_15y.get_lnlikelihood(x0_15y_2)"
   ]
  },
  {
   "cell_type": "code",
   "execution_count": 124,
   "id": "481e6dbc",
   "metadata": {},
   "outputs": [
    {
     "data": {
      "text/plain": [
       "numpy.ndarray"
      ]
     },
     "execution_count": 124,
     "metadata": {},
     "output_type": "execute_result"
    }
   ],
   "source": []
  },
  {
   "cell_type": "code",
   "execution_count": 23,
   "id": "fa9d7a12",
   "metadata": {},
   "outputs": [
    {
     "name": "stdout",
     "output_type": "stream",
     "text": [
      "run  0\n",
      "run  1\n",
      "run  2\n",
      "run  3\n",
      "run  4\n",
      "run  5\n",
      "run  6\n",
      "run  7\n",
      "run  8\n",
      "run  9\n",
      "run  10\n",
      "run  11\n",
      "run  12\n",
      "run  13\n",
      "run  14\n",
      "run  15\n",
      "run  16\n",
      "run  17\n",
      "run  18\n",
      "run  19\n"
     ]
    }
   ],
   "source": [
    "NN = 20\n",
    "\n",
    "log_L_Ent_15y = []\n",
    "log_L_Fast_15y = []\n",
    "#amplitudes = []\n",
    "\n",
    "for n in range(NN):\n",
    "    #amplitudes.append(i*0.5e-6)\n",
    "    d0_15y = parameter.sample(pta.params)\n",
    "    x0_15y = np.array([d0_15y[par.name] for par in pta.params])\n",
    "    \n",
    "    log_L_Ent_15y.append(pta.get_lnlikelihood(x0_15y))\n",
    "    log_L_Fast_15y.append(FB_15y.get_lnlikelihood(x0_15y))\n",
    "    print('run ',n)"
   ]
  },
  {
   "cell_type": "code",
   "execution_count": 24,
   "id": "2b722634",
   "metadata": {},
   "outputs": [],
   "source": [
    "log_L_Ent_15y = np.array(log_L_Ent_15y)\n",
    "log_L_Fast_15y = np.array(log_L_Fast_15y)"
   ]
  },
  {
   "cell_type": "code",
   "execution_count": 25,
   "id": "a5dd0f50",
   "metadata": {},
   "outputs": [
    {
     "data": {
      "text/plain": [
       "array([7575416.29155469, 7575421.66490965, 7575432.73911041,\n",
       "       7575421.57784297, 7575421.70613818, 7575421.76351192,\n",
       "       7575421.75760355, 7575421.6483746 , 7575421.64841964,\n",
       "       7575421.80685817, 7575421.35193167, 7575421.60998657,\n",
       "       7575422.71313912, 7575421.7119539 , 7575421.7399012 ,\n",
       "       7575421.75377052, 7575421.73716363, 7575421.71456322,\n",
       "       7575421.68939598, 7575421.69705234])"
      ]
     },
     "execution_count": 25,
     "metadata": {},
     "output_type": "execute_result"
    }
   ],
   "source": [
    "log_L_Fast_15y"
   ]
  },
  {
   "cell_type": "code",
   "execution_count": 26,
   "id": "c2438b31",
   "metadata": {},
   "outputs": [
    {
     "data": {
      "text/plain": [
       "array([7575416.29155467, 7575421.66490964, 7575432.73911039,\n",
       "       7575421.57784295, 7575421.70613813, 7575421.7635119 ,\n",
       "       7575421.75760355, 7575421.64837455, 7575421.64841968,\n",
       "       7575421.80685816, 7575421.35193164, 7575421.60998655,\n",
       "       7575422.71313912, 7575421.7119539 , 7575421.7399012 ,\n",
       "       7575421.7537705 , 7575421.73716362, 7575421.71456323,\n",
       "       7575421.689396  , 7575421.69705234])"
      ]
     },
     "execution_count": 26,
     "metadata": {},
     "output_type": "execute_result"
    }
   ],
   "source": [
    "log_L_Ent_15y"
   ]
  },
  {
   "cell_type": "code",
   "execution_count": 27,
   "id": "0f3175ab",
   "metadata": {},
   "outputs": [
    {
     "data": {
      "text/plain": [
       "Text(0.5, 1.0, 'lnlikelihood comparisons FullFB 15y dataset')"
      ]
     },
     "execution_count": 27,
     "metadata": {},
     "output_type": "execute_result"
    },
    {
     "data": {
      "image/png": "[encoded data removed]",
      "text/plain": [
       "<Figure size 432x288 with 1 Axes>"
      ]
     },
     "metadata": {
      "image/png": {
       "height": 277,
       "width": 391
      },
      "needs_background": "light"
     },
     "output_type": "display_data"
    }
   ],
   "source": [
    "plt.plot(log_L_Ent_15y, log_L_Ent_15y, ls='--', marker='.', color='xkcd:blue', label = 'Ent')\n",
    "plt.plot(log_L_Ent_15y, log_L_Fast_15y, ls='', marker='.', color='xkcd:green', label = 'FastB')\n",
    "plt.legend(loc='upper left')\n",
    "plt.xlabel(\"ent log(like)\")\n",
    "plt.ylabel(\"fast log(likelihood)\")\n",
    "plt.title('lnlikelihood comparisons FullFB 15y dataset')\n",
    "#plt.savefig('/home/reyna/BayesHopperBurst/testing plots/FullFastBurst_15y_lnlikedif.png')"
   ]
  },
  {
   "cell_type": "code",
   "execution_count": 28,
   "id": "1e33a36f",
   "metadata": {},
   "outputs": [
    {
     "data": {
      "text/plain": [
       "Text(0.5, 1.0, 'val dif for randome samples 15y')"
      ]
     },
     "execution_count": 28,
     "metadata": {},
     "output_type": "execute_result"
    },
    {
     "data": {
      "image/png": "[encoded data removed]",
      "text/plain": [
       "<Figure size 432x288 with 1 Axes>"
      ]
     },
     "metadata": {
      "image/png": {
       "height": 277,
       "width": 384
      },
      "needs_background": "light"
     },
     "output_type": "display_data"
    }
   ],
   "source": [
    "plt.plot(np.exp(log_L_Fast_15y - log_L_Ent_15y), ls='', marker='.', color='xkcd:blue')\n",
    "#plt.gca().axhline(0.1, ls='--', color='xkcd:green')\n",
    "plt.xlabel(\"index\")\n",
    "plt.ylabel(\"delta log(likelihood)\")\n",
    "plt.title('val dif for randome samples 15y')\n",
    "#plt.savefig('/home/reyna/BayesHopperBurst/testing plots/FullFastBurst_15y_precentdif.png')"
   ]
  },
  {
   "cell_type": "code",
   "execution_count": 121,
   "id": "c8afce4a",
   "metadata": {},
   "outputs": [],
   "source": [
    "FB_15y = FB.FastBurst(pta = pta, psrs = psrs, params = d0_15y, Npsr = len(psrs), tref=53000*86400, Nglitch = N_glitches, Nwavelet = N_wavelets)"
   ]
  },
  {
   "cell_type": "code",
   "execution_count": 123,
   "id": "5928e4e6",
   "metadata": {},
   "outputs": [
    {
     "name": "stdout",
     "output_type": "stream",
     "text": [
      "run  0\n",
      "run  1\n",
      "run  2\n",
      "run  3\n",
      "run  4\n",
      "run  5\n",
      "run  6\n",
      "run  7\n",
      "run  8\n",
      "run  9\n",
      "run  10\n",
      "run  11\n",
      "run  12\n",
      "run  13\n",
      "run  14\n",
      "run  15\n",
      "run  16\n",
      "run  17\n",
      "run  18\n",
      "run  19\n",
      "run  20\n",
      "run  21\n",
      "run  22\n",
      "run  23\n",
      "run  24\n",
      "run  25\n",
      "run  26\n",
      "run  27\n",
      "run  28\n",
      "run  29\n",
      "run  30\n",
      "run  31\n",
      "run  32\n",
      "run  33\n",
      "run  34\n",
      "run  35\n",
      "run  36\n",
      "run  37\n",
      "run  38\n",
      "run  39\n",
      "run  40\n",
      "run  41\n",
      "run  42\n",
      "run  43\n",
      "run  44\n",
      "run  45\n",
      "run  46\n",
      "run  47\n",
      "run  48\n",
      "run  49\n",
      "run  50\n",
      "run  51\n",
      "run  52\n",
      "run  53\n",
      "run  54\n",
      "run  55\n",
      "run  56\n",
      "run  57\n",
      "run  58\n",
      "run  59\n",
      "run  60\n",
      "run  61\n",
      "run  62\n",
      "run  63\n",
      "run  64\n",
      "run  65\n",
      "run  66\n",
      "run  67\n",
      "run  68\n",
      "run  69\n",
      "run  70\n",
      "run  71\n",
      "run  72\n",
      "run  73\n",
      "run  74\n",
      "run  75\n",
      "run  76\n",
      "run  77\n",
      "run  78\n",
      "run  79\n",
      "run  80\n",
      "run  81\n",
      "run  82\n",
      "run  83\n",
      "run  84\n",
      "run  85\n",
      "run  86\n",
      "run  87\n",
      "run  88\n",
      "run  89\n",
      "run  90\n",
      "run  91\n",
      "run  92\n",
      "run  93\n",
      "run  94\n",
      "run  95\n",
      "run  96\n",
      "run  97\n",
      "run  98\n",
      "run  99\n"
     ]
    }
   ],
   "source": [
    "#%%prun\n",
    "NN = 100\n",
    "\n",
    "log_L_Ent_15y_shaped = []\n",
    "log_L_Fast_15y_shaped = []\n",
    "#amplitudes = []\n",
    "\n",
    "for n in range(NN):\n",
    "    #amplitudes.append(i*0.5e-6)\n",
    "    d0_sample = parameter.sample(pta.params)\n",
    "    d0_15y = {'Glitch_0_log10_f0': -7.381053872965667,\n",
    "         'Glitch_0_log10_h': d0_sample['Glitch_0_log10_h'],\n",
    "         'Glitch_0_phase0': d0_sample['Glitch_0_phase0'],\n",
    "         'Glitch_0_psr_idx': 38.011596738366116,\n",
    "         'Glitch_0_t0': 8.543543293559296,\n",
    "         'Glitch_0_tau': 2.2979795405051506,\n",
    "         'Glitch_1_log10_f0': -8.000188906431541,\n",
    "         'Glitch_1_log10_h': d0_sample['Glitch_1_log10_h'],\n",
    "         'Glitch_1_phase0': d0_sample['Glitch_1_phase0'],\n",
    "         'Glitch_1_psr_idx': 3.568970889187356,\n",
    "         'Glitch_1_t0': 4.4969284682672,\n",
    "         'Glitch_1_tau': 3.870961316921214,\n",
    "         'Glitch_2_log10_f0': -7.3756025819950475,\n",
    "         'Glitch_2_log10_h': d0_sample['Glitch_2_log10_h'],\n",
    "         'Glitch_2_phase0': d0_sample['Glitch_2_phase0'],\n",
    "         'Glitch_2_psr_idx': 48.94345835351979,\n",
    "         'Glitch_2_t0': 6.283803062549344,\n",
    "         'Glitch_2_tau': 3.197059464396122,\n",
    "         'Glitch_3_log10_f0': -8.31994904230876,\n",
    "         'Glitch_3_log10_h': d0_sample['Glitch_3_log10_h'],\n",
    "         'Glitch_3_phase0': d0_sample['Glitch_3_phase0'],\n",
    "         'Glitch_3_psr_idx': 33.142068869701944,\n",
    "         'Glitch_3_t0': 4.7591270550245195,\n",
    "         'Glitch_3_tau': 0.9232166575188985,\n",
    "         'Glitch_4_log10_f0': -7.365199900056618,\n",
    "         'Glitch_4_log10_h': d0_sample['Glitch_4_log10_h'],\n",
    "         'Glitch_4_phase0': d0_sample['Glitch_4_phase0'],\n",
    "         'Glitch_4_psr_idx': 30.356721284144207,\n",
    "         'Glitch_4_t0': 8.803472193066767,\n",
    "         'Glitch_4_tau': 2.6373388106153803,\n",
    "         'wavelet_0_cos_gwtheta': d0_sample['wavelet_0_cos_gwtheta'],\n",
    "         'wavelet_0_gw_psi': d0_sample['wavelet_0_gw_psi'],\n",
    "         'wavelet_0_gwphi': d0_sample['wavelet_0_gwphi'],\n",
    "         'wavelet_0_log10_f0': -7.5526178776621,\n",
    "         'wavelet_0_log10_h': d0_sample['wavelet_0_log10_h'],\n",
    "         'wavelet_0_log10_h_cross': d0_sample['wavelet_0_log10_h_cross'],\n",
    "         'wavelet_0_phase0': d0_sample['wavelet_0_phase0'],\n",
    "         'wavelet_0_phase0_cross': d0_sample['wavelet_0_phase0_cross'],\n",
    "         'wavelet_0_t0': 9.347287310865399,\n",
    "         'wavelet_0_tau': 3.5547669917713836,\n",
    "         'wavelet_1_cos_gwtheta': d0_sample['wavelet_1_cos_gwtheta'],\n",
    "         'wavelet_1_gw_psi': d0_sample['wavelet_1_gw_psi'],\n",
    "         'wavelet_1_gwphi': d0_sample['wavelet_1_gwphi'],\n",
    "         'wavelet_1_log10_f0': -7.5526178776621,\n",
    "         'wavelet_1_log10_h': d0_sample['wavelet_1_log10_h'],\n",
    "         'wavelet_1_log10_h_cross': d0_sample['wavelet_1_log10_h_cross'],\n",
    "         'wavelet_1_phase0': d0_sample['wavelet_1_phase0'],\n",
    "         'wavelet_1_phase0_cross': d0_sample['wavelet_1_phase0_cross'],\n",
    "         'wavelet_1_t0': 6.5939970174540665,\n",
    "         'wavelet_1_tau': 3.653058549369535,\n",
    "         'wavelet_2_cos_gwtheta': d0_sample['wavelet_2_cos_gwtheta'],\n",
    "         'wavelet_2_gw_psi': d0_sample['wavelet_2_gw_psi'],\n",
    "         'wavelet_2_gwphi': d0_sample['wavelet_2_gwphi'],\n",
    "         'wavelet_2_log10_f0': -7.5526178776621,\n",
    "         'wavelet_2_log10_h': d0_sample['wavelet_2_log10_h'],\n",
    "         'wavelet_2_log10_h_cross': d0_sample['wavelet_2_log10_h_cross'],\n",
    "         'wavelet_2_phase0': d0_sample['wavelet_2_phase0'],\n",
    "         'wavelet_2_phase0_cross': d0_sample['wavelet_2_phase0_cross'],\n",
    "         'wavelet_2_t0': 0.44878491814705823,\n",
    "         'wavelet_2_tau': 1.028397080808293,\n",
    "         'wavelet_3_cos_gwtheta': d0_sample['wavelet_3_cos_gwtheta'],\n",
    "         'wavelet_3_gw_psi': d0_sample['wavelet_3_gw_psi'],\n",
    "         'wavelet_3_gwphi': d0_sample['wavelet_3_gwphi'],\n",
    "         'wavelet_3_log10_f0': -7.5526178776621,\n",
    "         'wavelet_3_log10_h': d0_sample['wavelet_3_log10_h'],\n",
    "         'wavelet_3_log10_h_cross': d0_sample['wavelet_3_log10_h_cross'],\n",
    "         'wavelet_3_phase0': d0_sample['wavelet_3_phase0'],\n",
    "         'wavelet_3_phase0_cross': d0_sample['wavelet_3_phase0_cross'],\n",
    "         'wavelet_3_t0': 4.871070880746532,\n",
    "         'wavelet_3_tau': 2.820987177759732,\n",
    "         'wavelet_4_cos_gwtheta': d0_sample['wavelet_4_cos_gwtheta'],\n",
    "         'wavelet_4_gw_psi': d0_sample['wavelet_4_gw_psi'],\n",
    "         'wavelet_4_gwphi': d0_sample['wavelet_4_gwphi'],\n",
    "         'wavelet_4_log10_f0': -7.5526178776621,\n",
    "         'wavelet_4_log10_h': d0_sample['wavelet_4_log10_h'],\n",
    "         'wavelet_4_log10_h_cross': d0_sample['wavelet_4_log10_h_cross'],\n",
    "         'wavelet_4_phase0': d0_sample['wavelet_4_phase0'],\n",
    "         'wavelet_4_phase0_cross': d0_sample['wavelet_4_phase0_cross'],\n",
    "         'wavelet_4_t0': 5.992563315492056,\n",
    "         'wavelet_4_tau': 3.7437489504610784}\n",
    "    x0_15y = np.array([d0_15y[par.name] for par in pta.params])\n",
    "\n",
    "    \n",
    "    #log_L_Ent_15y_shaped.append(pta.get_lnlikelihood(x0_15y))\n",
    "    log_L_Fast_15y_shaped.append(FB_15y.get_lnlikelihood(x0_15y))\n",
    "    print('run ',n)\n",
    "    \n",
    "#log_L_Ent_15y_shaped = np.array(log_L_Ent_15y_shaped)\n",
    "log_L_Fast_15y_shaped = np.array(log_L_Fast_15y_shaped)"
   ]
  },
  {
   "cell_type": "code",
   "execution_count": 118,
   "id": "a2472c74",
   "metadata": {},
   "outputs": [
    {
     "data": {
      "text/plain": [
       "Text(0.5, 1.0, 'lnlikelihood comparisons FullFB 15y dataset')"
      ]
     },
     "execution_count": 118,
     "metadata": {},
     "output_type": "execute_result"
    },
    {
     "data": {
      "image/png": "[encoded data removed]",
      "text/plain": [
       "<Figure size 432x288 with 1 Axes>"
      ]
     },
     "metadata": {
      "image/png": {
       "height": 277,
       "width": 385
      },
      "needs_background": "light"
     },
     "output_type": "display_data"
    }
   ],
   "source": [
    "plt.plot(log_L_Ent_15y_shaped, log_L_Ent_15y_shaped, ls='--', marker='.', color='xkcd:blue', label = 'Ent')\n",
    "plt.plot(log_L_Ent_15y_shaped, log_L_Fast_15y_shaped, ls='', marker='.', color='xkcd:green', label = 'FastB')\n",
    "plt.legend(loc='upper left')\n",
    "plt.xlabel(\"ent log(like)\")\n",
    "plt.ylabel(\"fast log(likelihood)\")\n",
    "plt.title('lnlikelihood comparisons FullFB 15y dataset')\n",
    "#plt.savefig('/home/reyna/BayesHopperBurst/testing plots/FullFastBurst_15y_lnlikedif.png')"
   ]
  },
  {
   "cell_type": "code",
   "execution_count": 119,
   "id": "0246e783",
   "metadata": {},
   "outputs": [
    {
     "data": {
      "text/plain": [
       "Text(0.5, 1.0, 'val dif for randome samples 15y')"
      ]
     },
     "execution_count": 119,
     "metadata": {},
     "output_type": "execute_result"
    },
    {
     "data": {
      "image/png": "[encoded data removed]",
      "text/plain": [
       "<Figure size 432x288 with 1 Axes>"
      ]
     },
     "metadata": {
      "image/png": {
       "height": 277,
       "width": 393
      },
      "needs_background": "light"
     },
     "output_type": "display_data"
    }
   ],
   "source": [
    "plt.plot(np.exp(log_L_Fast_15y_shaped - log_L_Ent_15y_shaped), ls='', marker='.', color='xkcd:blue')\n",
    "#plt.gca().axhline(0.1, ls='--', color='xkcd:green')\n",
    "plt.xlabel(\"index\")\n",
    "plt.ylabel(\"delta log(likelihood)\")\n",
    "plt.title('val dif for randome samples 15y')\n",
    "#plt.savefig('/home/reyna/BayesHopperBurst/testing plots/FullFastBurst_15y_precentdif.png')"
   ]
  },
  {
   "cell_type": "code",
   "execution_count": null,
   "id": "4daa0d92",
   "metadata": {},
   "outputs": [],
   "source": []
  }
 ],
 "metadata": {
  "kernelspec": {
   "display_name": "Python 3 (ipykernel)",
   "language": "python",
   "name": "python3"
  },
  "language_info": {
   "codemirror_mode": {
    "name": "ipython",
    "version": 3
   },
   "file_extension": ".py",
   "mimetype": "text/x-python",
   "name": "python",
   "nbconvert_exporter": "python",
   "pygments_lexer": "ipython3",
   "version": "3.9.12"
  },
  "toc": {
   "base_numbering": 1,
   "nav_menu": {},
   "number_sections": true,
   "sideBar": true,
   "skip_h1_title": false,
   "title_cell": "Table of Contents",
   "title_sidebar": "Contents",
   "toc_cell": false,
   "toc_position": {},
   "toc_section_display": true,
   "toc_window_display": false
  }
 },
 "nbformat": 4,
 "nbformat_minor": 5
}
