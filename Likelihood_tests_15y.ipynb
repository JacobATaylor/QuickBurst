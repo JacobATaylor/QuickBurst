{
 "cells": [
  {
   "cell_type": "code",
   "execution_count": 1,
   "id": "24da418d",
   "metadata": {},
   "outputs": [
    {
     "name": "stderr",
     "output_type": "stream",
     "text": [
      "/tmp/ipykernel_18552/956813560.py:1: DeprecationWarning: Importing display from IPython.core.display is deprecated since IPython 7.14, please import from IPython display\n",
      "  from IPython.core.display import display, HTML\n"
     ]
    },
    {
     "data": {
      "text/html": [
       "<style>.container { width:99% !important; }</style>"
      ],
      "text/plain": [
       "<IPython.core.display.HTML object>"
      ]
     },
     "metadata": {},
     "output_type": "display_data"
    }
   ],
   "source": [
    "from IPython.core.display import display, HTML\n",
    "display(HTML(\"<style>.container { width:99% !important; }</style>\"))"
   ]
  },
  {
   "cell_type": "code",
   "execution_count": 2,
   "id": "3435406f",
   "metadata": {},
   "outputs": [
    {
     "name": "stderr",
     "output_type": "stream",
     "text": [
      "\n",
      "WARNING: version mismatch between CFITSIO header (v4.000999999999999) and linked library (v4.01).\n",
      "\n",
      "\n",
      "WARNING: version mismatch between CFITSIO header (v4.000999999999999) and linked library (v4.01).\n",
      "\n",
      "\n",
      "WARNING: version mismatch between CFITSIO header (v4.000999999999999) and linked library (v4.01).\n",
      "\n",
      "WARNING: AstropyDeprecationWarning: The private astropy._erfa module has been made into its own package, pyerfa, which is a dependency of astropy and can be imported directly using \"import erfa\" [astropy._erfa]\n"
     ]
    }
   ],
   "source": [
    "#chack for updated files\\n,\n",
    "%load_ext autoreload\n",
    "%autoreload 2\n",
    "#import packages\n",
    "from __future__ import division\n",
    "\n",
    "%load_ext line_profiler\n",
    "import numpy as np\n",
    "import glob, json\n",
    "import pickle\n",
    "import os as os_pack\n",
    "import matplotlib.pyplot as plt\n",
    "import corner\n",
    "%matplotlib inline\n",
    "%config InlineBackend.figure_format = 'retina'\n",
    "import healpy as hp\n",
    "import os, glob, json, pickle\n",
    "import matplotlib.pyplot as plt\n",
    "import numpy as np\n",
    "import scipy.linalg as sl\n",
    "import enterprise\n",
    "from enterprise.pulsar import Pulsar\n",
    "import enterprise.signals.parameter as parameter\n",
    "from enterprise.signals import utils\n",
    "from enterprise.signals import signal_base\n",
    "from enterprise.signals import selections\n",
    "from enterprise.signals.selections import Selection\n",
    "from enterprise.signals import white_signals\n",
    "from enterprise.signals import gp_signals\n",
    "from enterprise.signals import deterministic_signals\n",
    "import enterprise.constants as const\n",
    "from enterprise_extensions import blocks\n",
    "from enterprise_extensions import models as ee_models\n",
    "from enterprise_extensions import model_utils as ee_model_utils\n",
    "from enterprise_extensions import model_orfs\n",
    "from enterprise_extensions.frequentist import optimal_statistic as opt_stat\n",
    "from enterprise_extensions import sampler as ee_sampler\n",
    "from enterprise.signals.signal_base import LogLikelihood\n",
    "import enterprise_wavelets as models\n",
    "from enterprise.signals.deterministic_signals import Deterministic\n",
    "from enterprise.signals.parameter import function\n",
    "from la_forge.core import Core\n",
    "from la_forge.diagnostics import plot_chains\n",
    "from la_forge import rednoise\n",
    "import la_forge\n",
    "import corner\n",
    "from PTMCMCSampler.PTMCMCSampler import PTSampler as ptmcmc\n",
    "import re\n",
    "#style\n",
    "    \n",
    "#import Fast_Burst_likelihood as FB"
   ]
  },
  {
   "cell_type": "code",
   "execution_count": 3,
   "id": "c3a70514",
   "metadata": {},
   "outputs": [],
   "source": [
    "def figsize(scale):\n",
    "    fig_width_pt = 513.17 #469.755                  # Get this from LaTeX using \\the\\textwidth\n",
    "    inches_per_pt = 1.0/72.27                       # Convert pt to inch\n",
    "    golden_mean = (np.sqrt(5.0)-1.0)/2.0            # Aesthetic ratio (you could change this)\n",
    "    fig_width = fig_width_pt*inches_per_pt*scale    # width in inches\n",
    "    fig_height = fig_width*golden_mean              # height in inches\n",
    "    fig_size = [2 * fig_width,2 * fig_height]       #1* scaling factor for 2 collem paper\n",
    "    return fig_size\n",
    "plt.rcParams.update(plt.rcParamsDefault)\n",
    "\n",
    "params = {'backend': 'pdf',\n",
    "        'axes.labelsize': 10,\n",
    "        'lines.markersize': 4,\n",
    "        'font.size': 10,\n",
    "        'xtick.major.size':6,\n",
    "        'xtick.minor.size':3,  \n",
    "        'ytick.major.size':6,\n",
    "        'ytick.minor.size':3, \n",
    "        'xtick.major.width':0.5,\n",
    "        'ytick.major.width':0.5,\n",
    "        'xtick.minor.width':0.5,\n",
    "        'ytick.minor.width':0.5,\n",
    "        'lines.markeredgewidth':1,\n",
    "        'axes.linewidth':1.2,\n",
    "        'legend.fontsize': 7,\n",
    "        'xtick.labelsize': 10,\n",
    "        'ytick.labelsize': 10,\n",
    "        'savefig.dpi':200,\n",
    "        'path.simplify':True,\n",
    "        'font.family': 'serif',\n",
    "        #'font.serif':'Times',\n",
    "        #'text.latex.preamble': [r'\\usepackage{amsmath}'],\n",
    "        #'text.usetex':True,\n",
    "        'figure.figsize': figsize(0.5)}\n",
    "#plt.style.use('dark_background')\n",
    "plt.style.use('default')\n",
    "plt.rcParams.update(params)"
   ]
  },
  {
   "cell_type": "code",
   "execution_count": 4,
   "id": "bc002bf6",
   "metadata": {
    "scrolled": true
   },
   "outputs": [
    {
     "name": "stdout",
     "output_type": "stream",
     "text": [
      "['B1855+09', 'B1937+21', 'B1953+29', 'J0023+0923', 'J0030+0451', 'J0340+4130', 'J0406+3039', 'J0437-4715', 'J0509+0856', 'J0557+1551', 'J0605+3757', 'J0610-2100', 'J0613-0200', 'J0636+5128', 'J0645+5158', 'J0709+0458', 'J0740+6620', 'J0931-1902', 'J1012+5307', 'J1012-4235', 'J1022+1001', 'J1024-0719', 'J1125+7819', 'J1312+0051', 'J1453+1902', 'J1455-3330', 'J1600-3053', 'J1614-2230', 'J1630+3734', 'J1640+2224', 'J1643-1224', 'J1705-1903', 'J1713+0747', 'J1719-1438', 'J1730-2304', 'J1738+0333', 'J1741+1351', 'J1744-1134', 'J1745+1017', 'J1747-4036', 'J1751-2857', 'J1802-2124', 'J1811-2405', 'J1832-0836', 'J1843-1113', 'J1853+1303', 'J1903+0327', 'J1909-3744', 'J1910+1256', 'J1911+1347', 'J1918-0642', 'J1923+2515', 'J1944+0907', 'J1946+3417', 'J2010-1323', 'J2017+0603', 'J2033+1734', 'J2043+1711', 'J2124-3358', 'J2145-0750', 'J2214+3000', 'J2229+2643', 'J2234+0611', 'J2234+0944', 'J2302+4442', 'J2317+1439', 'J2322+2057']\n",
      "15.515060297068947\n",
      "15.802872967471835\n",
      "11.08458774068679\n",
      "8.97542529762611\n",
      "15.460752938661816\n",
      "8.097196263848735\n",
      "3.5471797714338695\n",
      "4.73231500896138\n",
      "3.547176454921115\n",
      "4.544545768066009\n",
      "3.351669877701738\n",
      "3.351332802504801\n",
      "14.974608138667145\n",
      "6.267600017162317\n",
      "8.819664981732053\n",
      "4.544600441698622\n",
      "6.2825807126420985\n",
      "7.064395594678241\n",
      "15.461020148266723\n",
      "3.3484892691048764\n",
      "5.525883855281643\n",
      "10.420998637038\n",
      "6.267484026443831\n",
      "4.5420013054637725\n",
      "6.972040209055308\n",
      "15.599069825125945\n",
      "12.417100259795715\n",
      "11.489362319509043\n",
      "3.4441530091993893\n",
      "15.400871896156167\n",
      "15.64303593505724\n",
      "3.707296899543094\n",
      "15.474183117075478\n",
      "3.42752834883019\n",
      "3.4274871884122784\n",
      "10.684934520686538\n",
      "10.964860102320921\n",
      "15.601884230034855\n",
      "4.525794410976626\n",
      "8.08384617766982\n",
      "3.438574395731195\n",
      "3.4413590991110756\n",
      "3.4413346606806323\n",
      "7.062189325034446\n",
      "3.4413306702518764\n",
      "9.04866882776844\n",
      "10.684905101087312\n",
      "15.422789287449298\n",
      "11.375133055440951\n",
      "6.958436334614769\n",
      "15.409057684397863\n",
      "8.923489893124517\n",
      "12.402865995623591\n",
      "5.708107182414299\n",
      "10.486940574100116\n",
      "8.287559592937024\n",
      "6.93928781432221\n",
      "9.01050953125313\n",
      "3.4467133447486744\n",
      "15.468496605274158\n",
      "8.382797400273494\n",
      "6.996666235082007\n",
      "6.507203734364886\n",
      "7.067212494863125\n",
      "8.097084560285172\n",
      "15.575011219985463\n",
      "5.422724973700821\n"
     ]
    }
   ],
   "source": [
    "#Loading in pickle and noise files\n",
    "pint_pickle = '/home/reyna/OS_15yr/15yr_data/v1p1_de440_pint_bipm2019.pkl'\n",
    "noise_file = '/home/reyna/OS_15yr/15yr_data/v1p1_wn_dict.json'\n",
    "#psrlist = np.loadtxt('/home/reyna/15yr_v1p0/15yr_v1-20211001T235643Z-001/15yr_v1/psrlist_15yr_pint.txt', dtype = str)\n",
    "with open(noise_file, 'r') as h:\n",
    "    noise_params = json.load(h)\n",
    "with open(pint_pickle,'rb') as f:\n",
    "    allpsrs = pickle.load(f)\n",
    "psrs = []\n",
    "for ii,p in enumerate(allpsrs):\n",
    "    psrs.append(p)\n",
    "#Temporary to get code to not crash\n",
    "psrs = psrs[0:]\n",
    "psrlist = [psr.name for psr in psrs]\n",
    "print(psrlist)\n",
    "for i in range(len(psrs)):\n",
    "    print((max(psrs[i].toas) - min(psrs[i].toas))/(3.17*10**(7)))"
   ]
  },
  {
   "cell_type": "code",
   "execution_count": 5,
   "id": "ca824bd6",
   "metadata": {},
   "outputs": [],
   "source": [
    "glitches = []\n",
    "N_glitches = 5\n",
    "for i in range(N_glitches):\n",
    "    log10_f0 = parameter.Uniform(np.log10(3.5e-9), np.log10(1e-7))(\"Glitch_\"+str(i)+'_'+'log10_f0')\n",
    "    phase0 = parameter.Uniform(0, 2*np.pi)(\"Glitch_\"+str(i)+'_'+'phase0')\n",
    "    tau = parameter.Uniform(0.2, 5)(\"Glitch_\"+str(i)+'_'+'tau')\n",
    "    t0 = parameter.Uniform(0.0, 10.0)(\"Glitch_\"+str(i)+'_'+'t0')\n",
    "    psr_idx = parameter.Uniform(-0.5, len(psrs)-0.5)(\"Glitch_\"+str(i)+'_'+'psr_idx')\n",
    "    log10_h = parameter.LinearExp(-10.5, -9)(\"Glitch_\"+str(i)+'_'+'log10_h')\n",
    "    glitch_wf = models.glitch_delay(log10_h = log10_h, tau = tau, log10_f0 = log10_f0, t0 = t0, phase0 = phase0, tref=53000*86400,\n",
    "                                            psr_float_idx = psr_idx, pulsars=psrs)\n",
    "    glitches.append(deterministic_signals.Deterministic(glitch_wf, name='Glitch'+str(i) ))"
   ]
  },
  {
   "cell_type": "code",
   "execution_count": 6,
   "id": "813d3b32",
   "metadata": {},
   "outputs": [],
   "source": [
    "#wavelet models\n",
    "wavelets = [] #added \"wavelet_\" to names to help with seperation\n",
    "N_wavelets = 5\n",
    "for i in range(N_wavelets):\n",
    "    log10_f0 = parameter.Uniform(np.log10(3.5e-9), np.log10(1e-7))(\"wavelet_\"+str(i)+'_'+'log10_f0')\n",
    "    cos_gwtheta = parameter.Uniform(-1, 1)(\"wavelet_\"+str(i)+'_'+'cos_gwtheta')\n",
    "    gwphi = parameter.Uniform(0, 2*np.pi)(\"wavelet_\"+str(i)+'_'+'gwphi')\n",
    "    psi = parameter.Uniform(0, np.pi)(\"wavelet_\"+str(i)+'_'+'gw_psi')\n",
    "    phase0 = parameter.Uniform(0, 2*np.pi)(\"wavelet_\"+str(i)+'_'+'phase0')\n",
    "    phase0_cross = parameter.Uniform(0, 2*np.pi)(\"wavelet_\"+str(i)+'_'+'phase0_cross')\n",
    "    tau = parameter.Uniform(0.2, 5)(\"wavelet_\"+str(i)+'_'+'tau')\n",
    "    t0 = parameter.Uniform(0.0, 10.0)(\"wavelet_\"+str(i)+'_'+'t0')\n",
    "    log10_h = parameter.LinearExp(-18,-11)(\"wavelet_\"+str(i)+'_'+'log10_h')\n",
    "    log10_h_cross = parameter.LinearExp(-18,-11)(\"wavelet_\"+str(i)+'_'+'log10_h_cross')\n",
    "    wavelet_wf = models.wavelet_delay(cos_gwtheta=cos_gwtheta, gwphi=gwphi, log10_h = log10_h, log10_h2=log10_h_cross,\n",
    "                                      tau = tau, log10_f0 = log10_f0, t0 = t0, phase0 = phase0, phase02=phase0_cross,\n",
    "                                      epsilon = None, psi=psi, tref=53000*86400)\n",
    "    wavelets.append(deterministic_signals.Deterministic(wavelet_wf, name='wavelet'+str(i)))"
   ]
  },
  {
   "cell_type": "code",
   "execution_count": 7,
   "id": "a75bcaec",
   "metadata": {},
   "outputs": [],
   "source": [
    "tm = gp_signals.TimingModel(use_svd=True)\n",
    "wn = blocks.white_noise_block(vary=False, inc_ecorr=False)\n",
    "\n",
    "Tspan = ee_model_utils.get_tspan(psrs)\n",
    "rn = blocks.red_noise_block(psd='powerlaw', prior = 'log-uniform', Tspan=Tspan, components = 30)\n",
    "\n",
    "fgamma = 13./3.\n",
    "vary_gamma = parameter.Uniform(0,7)('gw_gamma')\n",
    "log10_A = parameter.Uniform(-18,-11)('gw_log10_A')\n",
    "com_comp = 14  \n",
    "pl = utils.powerlaw(log10_A=log10_A, gamma = vary_gamma)\n",
    "crn = gp_signals.FourierBasisGP(spectrum=pl, components = com_comp, Tspan=Tspan, name='gw')\n",
    "\n",
    "#s = base_model\n",
    "s = tm + wn #+ crn + rn\n",
    "for i in range(N_glitches):\n",
    "    s += glitches[i]\n",
    "for j in range(N_wavelets):\n",
    "    s += wavelets[j]\n",
    "model = []\n",
    "for p in psrs:\n",
    "    model.append(s(p))\n",
    "with open(noise_file, 'r') as fp:\n",
    "    noisedict = json.load(fp)\n",
    "    pta = signal_base.PTA(model)\n",
    "    pta.set_default_params(noisedict)"
   ]
  },
  {
   "cell_type": "code",
   "execution_count": 8,
   "id": "63e4a9b3",
   "metadata": {},
   "outputs": [],
   "source": [
    "d0_15y = parameter.sample(pta.params)\n",
    "x0_15y = np.array([d0_15y[par.name] for par in pta.params])"
   ]
  },
  {
   "cell_type": "code",
   "execution_count": 23,
   "id": "a52ee48d",
   "metadata": {},
   "outputs": [
    {
     "data": {
      "text/plain": [
       "[Glitch_0_log10_f0:Uniform(pmin=-8.455931955649724, pmax=-7.0),\n",
       " Glitch_0_log10_h:LinearExp(pmin=-10.5, pmax=-9),\n",
       " Glitch_0_phase0:Uniform(pmin=0, pmax=6.283185307179586),\n",
       " Glitch_0_psr_idx:Uniform(pmin=-0.5, pmax=66.5),\n",
       " Glitch_0_t0:Uniform(pmin=0.0, pmax=10.0),\n",
       " Glitch_0_tau:Uniform(pmin=0.2, pmax=5),\n",
       " Glitch_1_log10_f0:Uniform(pmin=-8.455931955649724, pmax=-7.0),\n",
       " Glitch_1_log10_h:LinearExp(pmin=-10.5, pmax=-9),\n",
       " Glitch_1_phase0:Uniform(pmin=0, pmax=6.283185307179586),\n",
       " Glitch_1_psr_idx:Uniform(pmin=-0.5, pmax=66.5),\n",
       " Glitch_1_t0:Uniform(pmin=0.0, pmax=10.0),\n",
       " Glitch_1_tau:Uniform(pmin=0.2, pmax=5),\n",
       " Glitch_2_log10_f0:Uniform(pmin=-8.455931955649724, pmax=-7.0),\n",
       " Glitch_2_log10_h:LinearExp(pmin=-10.5, pmax=-9),\n",
       " Glitch_2_phase0:Uniform(pmin=0, pmax=6.283185307179586),\n",
       " Glitch_2_psr_idx:Uniform(pmin=-0.5, pmax=66.5),\n",
       " Glitch_2_t0:Uniform(pmin=0.0, pmax=10.0),\n",
       " Glitch_2_tau:Uniform(pmin=0.2, pmax=5),\n",
       " Glitch_3_log10_f0:Uniform(pmin=-8.455931955649724, pmax=-7.0),\n",
       " Glitch_3_log10_h:LinearExp(pmin=-10.5, pmax=-9),\n",
       " Glitch_3_phase0:Uniform(pmin=0, pmax=6.283185307179586),\n",
       " Glitch_3_psr_idx:Uniform(pmin=-0.5, pmax=66.5),\n",
       " Glitch_3_t0:Uniform(pmin=0.0, pmax=10.0),\n",
       " Glitch_3_tau:Uniform(pmin=0.2, pmax=5),\n",
       " Glitch_4_log10_f0:Uniform(pmin=-8.455931955649724, pmax=-7.0),\n",
       " Glitch_4_log10_h:LinearExp(pmin=-10.5, pmax=-9),\n",
       " Glitch_4_phase0:Uniform(pmin=0, pmax=6.283185307179586),\n",
       " Glitch_4_psr_idx:Uniform(pmin=-0.5, pmax=66.5),\n",
       " Glitch_4_t0:Uniform(pmin=0.0, pmax=10.0),\n",
       " Glitch_4_tau:Uniform(pmin=0.2, pmax=5),\n",
       " wavelet_0_cos_gwtheta:Uniform(pmin=-1, pmax=1),\n",
       " wavelet_0_gw_psi:Uniform(pmin=0, pmax=3.141592653589793),\n",
       " wavelet_0_gwphi:Uniform(pmin=0, pmax=6.283185307179586),\n",
       " wavelet_0_log10_f0:Uniform(pmin=-8.455931955649724, pmax=-7.0),\n",
       " wavelet_0_log10_h:LinearExp(pmin=-18, pmax=-11),\n",
       " wavelet_0_log10_h_cross:LinearExp(pmin=-18, pmax=-11),\n",
       " wavelet_0_phase0:Uniform(pmin=0, pmax=6.283185307179586),\n",
       " wavelet_0_phase0_cross:Uniform(pmin=0, pmax=6.283185307179586),\n",
       " wavelet_0_t0:Uniform(pmin=0.0, pmax=10.0),\n",
       " wavelet_0_tau:Uniform(pmin=0.2, pmax=5),\n",
       " wavelet_1_cos_gwtheta:Uniform(pmin=-1, pmax=1),\n",
       " wavelet_1_gw_psi:Uniform(pmin=0, pmax=3.141592653589793),\n",
       " wavelet_1_gwphi:Uniform(pmin=0, pmax=6.283185307179586),\n",
       " wavelet_1_log10_f0:Uniform(pmin=-8.455931955649724, pmax=-7.0),\n",
       " wavelet_1_log10_h:LinearExp(pmin=-18, pmax=-11),\n",
       " wavelet_1_log10_h_cross:LinearExp(pmin=-18, pmax=-11),\n",
       " wavelet_1_phase0:Uniform(pmin=0, pmax=6.283185307179586),\n",
       " wavelet_1_phase0_cross:Uniform(pmin=0, pmax=6.283185307179586),\n",
       " wavelet_1_t0:Uniform(pmin=0.0, pmax=10.0),\n",
       " wavelet_1_tau:Uniform(pmin=0.2, pmax=5),\n",
       " wavelet_2_cos_gwtheta:Uniform(pmin=-1, pmax=1),\n",
       " wavelet_2_gw_psi:Uniform(pmin=0, pmax=3.141592653589793),\n",
       " wavelet_2_gwphi:Uniform(pmin=0, pmax=6.283185307179586),\n",
       " wavelet_2_log10_f0:Uniform(pmin=-8.455931955649724, pmax=-7.0),\n",
       " wavelet_2_log10_h:LinearExp(pmin=-18, pmax=-11),\n",
       " wavelet_2_log10_h_cross:LinearExp(pmin=-18, pmax=-11),\n",
       " wavelet_2_phase0:Uniform(pmin=0, pmax=6.283185307179586),\n",
       " wavelet_2_phase0_cross:Uniform(pmin=0, pmax=6.283185307179586),\n",
       " wavelet_2_t0:Uniform(pmin=0.0, pmax=10.0),\n",
       " wavelet_2_tau:Uniform(pmin=0.2, pmax=5),\n",
       " wavelet_3_cos_gwtheta:Uniform(pmin=-1, pmax=1),\n",
       " wavelet_3_gw_psi:Uniform(pmin=0, pmax=3.141592653589793),\n",
       " wavelet_3_gwphi:Uniform(pmin=0, pmax=6.283185307179586),\n",
       " wavelet_3_log10_f0:Uniform(pmin=-8.455931955649724, pmax=-7.0),\n",
       " wavelet_3_log10_h:LinearExp(pmin=-18, pmax=-11),\n",
       " wavelet_3_log10_h_cross:LinearExp(pmin=-18, pmax=-11),\n",
       " wavelet_3_phase0:Uniform(pmin=0, pmax=6.283185307179586),\n",
       " wavelet_3_phase0_cross:Uniform(pmin=0, pmax=6.283185307179586),\n",
       " wavelet_3_t0:Uniform(pmin=0.0, pmax=10.0),\n",
       " wavelet_3_tau:Uniform(pmin=0.2, pmax=5),\n",
       " wavelet_4_cos_gwtheta:Uniform(pmin=-1, pmax=1),\n",
       " wavelet_4_gw_psi:Uniform(pmin=0, pmax=3.141592653589793),\n",
       " wavelet_4_gwphi:Uniform(pmin=0, pmax=6.283185307179586),\n",
       " wavelet_4_log10_f0:Uniform(pmin=-8.455931955649724, pmax=-7.0),\n",
       " wavelet_4_log10_h:LinearExp(pmin=-18, pmax=-11),\n",
       " wavelet_4_log10_h_cross:LinearExp(pmin=-18, pmax=-11),\n",
       " wavelet_4_phase0:Uniform(pmin=0, pmax=6.283185307179586),\n",
       " wavelet_4_phase0_cross:Uniform(pmin=0, pmax=6.283185307179586),\n",
       " wavelet_4_t0:Uniform(pmin=0.0, pmax=10.0),\n",
       " wavelet_4_tau:Uniform(pmin=0.2, pmax=5)]"
      ]
     },
     "execution_count": 23,
     "metadata": {},
     "output_type": "execute_result"
    }
   ],
   "source": [
    "pta.params"
   ]
  },
  {
   "cell_type": "code",
   "execution_count": 10,
   "id": "24ac2243",
   "metadata": {},
   "outputs": [],
   "source": [
    "d0_15y_2 = parameter.sample(pta.params)"
   ]
  },
  {
   "cell_type": "code",
   "execution_count": 11,
   "id": "f158d5ac",
   "metadata": {},
   "outputs": [],
   "source": [
    "for n in range(N_glitches):\n",
    "    d0_15y_2['Glitch_'+str(n)+'_log10_f0'] = d0_15y['Glitch_'+str(n)+'_log10_f0']\n",
    "    d0_15y_2['Glitch_'+str(n)+'_psr_idx'] = d0_15y['Glitch_'+str(n)+'_psr_idx']\n",
    "    d0_15y_2['Glitch_'+str(n)+'_t0'] = d0_15y['Glitch_'+str(n)+'_t0']\n",
    "    d0_15y_2['Glitch_'+str(n)+'_tau'] = d0_15y['Glitch_'+str(n)+'_tau']\n",
    "for w in range(N_wavelets):\n",
    "    d0_15y_2['wavelet_'+str(w)+'_log10_f0'] = d0_15y['wavelet_'+str(w)+'_log10_f0']\n",
    "    d0_15y_2['wavelet_'+str(w)+'_t0'] = d0_15y['wavelet_'+str(w)+'_t0']\n",
    "    d0_15y_2['wavelet_'+str(w)+'_tau'] = d0_15y['wavelet_'+str(w)+'_tau']"
   ]
  },
  {
   "cell_type": "code",
   "execution_count": 12,
   "id": "b0206c18",
   "metadata": {},
   "outputs": [],
   "source": [
    "x0_15y_2 = np.array([d0_15y_2[par.name] for par in pta.params])"
   ]
  },
  {
   "cell_type": "code",
   "execution_count": 88,
   "id": "a9edf197",
   "metadata": {},
   "outputs": [],
   "source": [
    "%lprun -f pta.get_lnlikelihood pta.get_lnlikelihood(x0_15y)"
   ]
  },
  {
   "cell_type": "code",
   "execution_count": 94,
   "id": "48161e3c",
   "metadata": {},
   "outputs": [],
   "source": [
    "%lprun -f pta.get_lnlikelihood pta.get_lnlikelihood(x0_15y_2)"
   ]
  },
  {
   "cell_type": "code",
   "execution_count": 98,
   "id": "d6cf8014",
   "metadata": {},
   "outputs": [],
   "source": [
    "import Fast_Burst_likelihood as FB"
   ]
  },
  {
   "cell_type": "code",
   "execution_count": 96,
   "id": "61acd756",
   "metadata": {},
   "outputs": [],
   "source": [
    "rn = False\n",
    "FB_15y = FB.FastBurst(pta = pta, psrs = psrs, params = d0_15y, Npsr = len(psrs), tref=53000*86400, Nglitch = N_glitches, Nwavelet = N_wavelets, rn_vary = rn)"
   ]
  },
  {
   "cell_type": "code",
   "execution_count": 97,
   "id": "86331a10",
   "metadata": {},
   "outputs": [],
   "source": [
    "%lprun -f FB_15y.get_lnlikelihood FB_15y.get_lnlikelihood(x0_15y)"
   ]
  },
  {
   "cell_type": "code",
   "execution_count": 56,
   "id": "543dd175",
   "metadata": {},
   "outputs": [
    {
     "name": "stdout",
     "output_type": "stream",
     "text": [
      "63.4 µs ± 1.08 µs per loop (mean ± std. dev. of 7 runs, 10,000 loops each)\n"
     ]
    }
   ],
   "source": [
    "%timeit FB_15y.get_lnlikelihood(x0_15y_2)"
   ]
  },
  {
   "cell_type": "code",
   "execution_count": 57,
   "id": "30de1b8b",
   "metadata": {
    "scrolled": true
   },
   "outputs": [],
   "source": [
    "%lprun -f FB_15y.get_lnlikelihood FB_15y.get_lnlikelihood(x0_15y_2)"
   ]
  },
  {
   "cell_type": "code",
   "execution_count": 72,
   "id": "9e8cbcf5",
   "metadata": {
    "scrolled": true
   },
   "outputs": [
    {
     "name": "stdout",
     "output_type": "stream",
     "text": [
      "run  0\n",
      "run  1\n",
      "run  2\n",
      "run  3\n",
      "run  4\n",
      "run  5\n",
      "run  6\n",
      "run  7\n",
      "run  8\n",
      "run  9\n",
      "run  10\n",
      "run  11\n",
      "run  12\n",
      "run  13\n",
      "run  14\n",
      "run  15\n",
      "run  16\n",
      "run  17\n",
      "run  18\n",
      "run  19\n"
     ]
    }
   ],
   "source": [
    "NN = 20\n",
    "\n",
    "log_L_Ent_15y = []\n",
    "log_L_Fast_15y = []\n",
    "#amplitudes = []\n",
    "\n",
    "for n in range(NN):\n",
    "    #amplitudes.append(i*0.5e-6)\n",
    "    d0_15y = parameter.sample(pta.params)\n",
    "    x0_15y = np.array([d0_15y[par.name] for par in pta.params])\n",
    "    \n",
    "    log_L_Ent_15y.append(pta.get_lnlikelihood(x0_15y))\n",
    "    log_L_Fast_15y.append(FB_15y.get_lnlikelihood(x0_15y))\n",
    "    print('run ',n)"
   ]
  },
  {
   "cell_type": "code",
   "execution_count": 73,
   "id": "f61fd377",
   "metadata": {},
   "outputs": [],
   "source": [
    "log_L_Ent_15y = np.array(log_L_Ent_15y)\n",
    "log_L_Fast_15y = np.array(log_L_Fast_15y)"
   ]
  },
  {
   "cell_type": "code",
   "execution_count": 74,
   "id": "36fab59a",
   "metadata": {},
   "outputs": [
    {
     "data": {
      "image/png": "[encoded data removed]",
      "text/plain": [
       "<Figure size 710.073x438.849 with 1 Axes>"
      ]
     },
     "metadata": {
      "image/png": {
       "height": 424,
       "width": 624
      }
     },
     "output_type": "display_data"
    }
   ],
   "source": [
    "plt.figure()\n",
    "plt.plot(log_L_Ent_15y, log_L_Ent_15y, ls='--', marker='.', color='xkcd:blue', label = 'Ent')\n",
    "plt.plot(log_L_Ent_15y, log_L_Fast_15y, ls='', marker='.', color='xkcd:green', label = 'FastB')\n",
    "plt.legend(loc='upper left')\n",
    "plt.xlabel(\"ent log(like)\")\n",
    "plt.ylabel(\"fast log(likelihood)\")\n",
    "plt.title('lnlikelihood comparisons FullFB 15y dataset')\n",
    "#plt.savefig('/home/reyna/BayesHopperBurst/testing plots/FullFastBurst_15y_lnlikedif.pdf')\n",
    "plt.show()"
   ]
  },
  {
   "cell_type": "code",
   "execution_count": 75,
   "id": "5d5add3d",
   "metadata": {},
   "outputs": [
    {
     "data": {
      "image/png": "[encoded data removed]",
      "text/plain": [
       "<Figure size 710.073x438.849 with 1 Axes>"
      ]
     },
     "metadata": {
      "image/png": {
       "height": 424,
       "width": 622
      }
     },
     "output_type": "display_data"
    }
   ],
   "source": [
    "plt.plot(log_L_Fast_15y,np.exp(log_L_Fast_15y - log_L_Ent_15y)-1, ls='', marker='o', color='xkcd:blue')\n",
    "#plt.hlines(y = 0, xmin = 0, xmax = 50, ls = '--', color = 'black')\n",
    "#plt.gca().axhline(0.1, ls='--', color='xkcd:green')\n",
    "plt.xlabel(\"Sampling index\")\n",
    "#plt.xscale('log')\n",
    "plt.ylabel(\"Likelihood fractional difference\")\n",
    "plt.title('15y Fixed RN Likelihood Ratio')\n",
    "#plt.savefig('/home/reyna/BayesHopperBurst/testing plots/15y_like_dif_RN_fixed.pdf', transparent=True)\n",
    "plt.show()"
   ]
  },
  {
   "cell_type": "code",
   "execution_count": 217,
   "id": "e07512c5",
   "metadata": {},
   "outputs": [
    {
     "data": {
      "text/plain": [
       "array([-5.88597171e-05, -3.14757294e-02,  3.15960719e-03, -3.74510587e-04,\n",
       "        2.56172584e-03,  1.86877361e+00,  3.95107463e-03, -4.82185972e-01,\n",
       "        1.63424143e-04,  2.62747881e-03,  1.26856640e+00,  4.61364136e-01,\n",
       "        4.52718456e-02, -6.91764698e-01, -1.30117558e-02, -3.66185919e-03,\n",
       "       -8.66731390e-03, -5.17505579e-01,  2.01258531e-02, -1.24064745e-02])"
      ]
     },
     "execution_count": 217,
     "metadata": {},
     "output_type": "execute_result"
    }
   ],
   "source": [
    "np.exp(log_L_Fast_15y - log_L_Ent_15y)-1"
   ]
  },
  {
   "cell_type": "code",
   "execution_count": 218,
   "id": "fc174040",
   "metadata": {},
   "outputs": [
    {
     "data": {
      "text/plain": [
       "array([7957928.81077643, 7956298.51421408, 7956914.35981946,\n",
       "       7939994.60790684, 7957902.0161521 , 7892979.39598267,\n",
       "       7950904.11544481, 7955141.1117899 , 7937419.91981984,\n",
       "       7954647.08090582, 7867712.38403108, 7958372.75330197,\n",
       "       7958489.19622281, 7575634.73628175, 7958941.25543993,\n",
       "       7956775.86110597, 7952457.30782962, 7575456.35610329,\n",
       "       7939127.5419339 , 7958435.94640814])"
      ]
     },
     "execution_count": 218,
     "metadata": {},
     "output_type": "execute_result"
    }
   ],
   "source": [
    "log_L_Fast_15y"
   ]
  },
  {
   "cell_type": "code",
   "execution_count": 121,
   "id": "1dccebde",
   "metadata": {},
   "outputs": [],
   "source": [
    "FB_15y = FB.FastBurst(pta = pta, psrs = psrs, params = d0_15y, Npsr = len(psrs), tref=53000*86400, Nglitch = N_glitches, Nwavelet = N_wavelets)"
   ]
  },
  {
   "cell_type": "code",
   "execution_count": 176,
   "id": "94f483c0",
   "metadata": {},
   "outputs": [
    {
     "name": "stdout",
     "output_type": "stream",
     "text": [
      "run  0\n",
      "run  1\n",
      "run  2\n",
      "run  3\n",
      "run  4\n",
      "run  5\n",
      "run  6\n",
      "run  7\n",
      "run  8\n",
      "run  9\n",
      "run  10\n",
      "run  11\n",
      "run  12\n",
      "run  13\n",
      "run  14\n",
      "run  15\n",
      "run  16\n",
      "run  17\n",
      "run  18\n",
      "run  19\n",
      "run  20\n",
      "run  21\n",
      "run  22\n",
      "run  23\n",
      "run  24\n",
      "run  25\n",
      "run  26\n",
      "run  27\n",
      "run  28\n",
      "run  29\n"
     ]
    }
   ],
   "source": [
    "#%%prun\n",
    "NN = 30\n",
    "\n",
    "log_L_Ent_15y_shaped = []\n",
    "log_L_Fast_15y_shaped = []\n",
    "\n",
    "for s in range(NN):\n",
    "    d0_15y_2 = parameter.sample(pta.params)\n",
    "    for n in range(N_glitches):\n",
    "        d0_15y_2['Glitch_'+str(n)+'_log10_f0'] = d0_15y['Glitch_'+str(n)+'_log10_f0']\n",
    "        d0_15y_2['Glitch_'+str(n)+'_psr_idx'] = d0_15y['Glitch_'+str(n)+'_psr_idx']\n",
    "        d0_15y_2['Glitch_'+str(n)+'_t0'] = d0_15y['Glitch_'+str(n)+'_t0']\n",
    "        d0_15y_2['Glitch_'+str(n)+'_tau'] = d0_15y['Glitch_'+str(n)+'_tau']\n",
    "    for w in range(N_wavelets):\n",
    "        d0_15y_2['wavelet_'+str(w)+'_log10_f0'] = d0_15y['wavelet_'+str(w)+'_log10_f0']\n",
    "        d0_15y_2['wavelet_'+str(w)+'_t0'] = d0_15y['wavelet_'+str(w)+'_t0']\n",
    "        d0_15y_2['wavelet_'+str(w)+'_tau'] = d0_15y['wavelet_'+str(w)+'_tau']\n",
    "    x0_15y_2 = np.array([d0_15y_2[par.name] for par in pta.params])\n",
    "\n",
    "    log_L_Ent_15y_shaped.append(pta.get_lnlikelihood(x0_15y_2))\n",
    "    log_L_Fast_15y_shaped.append(FB_15y.get_lnlikelihood(x0_15y_2))\n",
    "    print('run ',s)\n",
    "    \n",
    "log_L_Ent_15y_shaped = np.array(log_L_Ent_15y_shaped)\n",
    "log_L_Fast_15y_shaped = np.array(log_L_Fast_15y_shaped)"
   ]
  },
  {
   "cell_type": "code",
   "execution_count": 177,
   "id": "a2472c74",
   "metadata": {},
   "outputs": [
    {
     "data": {
      "text/plain": [
       "Text(0.5, 1.0, 'lnlikelihood comparisons FullFB 15y dataset')"
      ]
     },
     "execution_count": 177,
     "metadata": {},
     "output_type": "execute_result"
    },
    {
     "data": {
      "image/png": "[encoded data removed]",
      "text/plain": [
       "<Figure size 432x288 with 1 Axes>"
      ]
     },
     "metadata": {
      "image/png": {
       "height": 277,
       "width": 391
      },
      "needs_background": "light"
     },
     "output_type": "display_data"
    }
   ],
   "source": [
    "plt.plot(log_L_Ent_15y_shaped, log_L_Ent_15y_shaped, ls='--', marker='.', color='xkcd:blue', label = 'Ent')\n",
    "plt.plot(log_L_Ent_15y_shaped, log_L_Fast_15y_shaped, ls='', marker='.', color='xkcd:green', label = 'FastB')\n",
    "plt.legend(loc='upper left')\n",
    "plt.xlabel(\"ent log(like)\")\n",
    "plt.ylabel(\"fast log(likelihood)\")\n",
    "plt.title('lnlikelihood comparisons FullFB 15y dataset')\n",
    "#plt.savefig('/home/reyna/BayesHopperBurst/testing plots/FullFastBurst_15y_lnlikedif.png')"
   ]
  },
  {
   "cell_type": "code",
   "execution_count": 27,
   "id": "0246e783",
   "metadata": {},
   "outputs": [
    {
     "ename": "NameError",
     "evalue": "name 'log_L_Fast_15y_shaped' is not defined",
     "output_type": "error",
     "traceback": [
      "\u001b[0;31m---------------------------------------------------------------------------\u001b[0m",
      "\u001b[0;31mNameError\u001b[0m                                 Traceback (most recent call last)",
      "Input \u001b[0;32mIn [27]\u001b[0m, in \u001b[0;36m<cell line: 1>\u001b[0;34m()\u001b[0m\n\u001b[0;32m----> 1\u001b[0m plt\u001b[38;5;241m.\u001b[39mplot(np\u001b[38;5;241m.\u001b[39mexp(\u001b[43mlog_L_Fast_15y_shaped\u001b[49m \u001b[38;5;241m-\u001b[39m log_L_Ent_15y_shaped), ls\u001b[38;5;241m=\u001b[39m\u001b[38;5;124m'\u001b[39m\u001b[38;5;124m'\u001b[39m, marker\u001b[38;5;241m=\u001b[39m\u001b[38;5;124m'\u001b[39m\u001b[38;5;124m.\u001b[39m\u001b[38;5;124m'\u001b[39m, color\u001b[38;5;241m=\u001b[39m\u001b[38;5;124m'\u001b[39m\u001b[38;5;124mxkcd:blue\u001b[39m\u001b[38;5;124m'\u001b[39m)\n\u001b[1;32m      2\u001b[0m \u001b[38;5;66;03m#plt.gca().axhline(0.1, ls='--', color='xkcd:green')\u001b[39;00m\n\u001b[1;32m      3\u001b[0m plt\u001b[38;5;241m.\u001b[39mxlabel(\u001b[38;5;124m\"\u001b[39m\u001b[38;5;124mindex\u001b[39m\u001b[38;5;124m\"\u001b[39m)\n",
      "\u001b[0;31mNameError\u001b[0m: name 'log_L_Fast_15y_shaped' is not defined"
     ]
    }
   ],
   "source": [
    "plt.plot(np.exp(log_L_Fast_15y_shaped - log_L_Ent_15y_shaped), ls='', marker='.', color='xkcd:blue')\n",
    "#plt.gca().axhline(0.1, ls='--', color='xkcd:green')\n",
    "plt.xlabel(\"index\")\n",
    "plt.ylabel(\"delta log(likelihood)\")\n",
    "plt.title('val dif for randome samples 15y')\n",
    "#plt.savefig('/home/reyna/BayesHopperBurst/testing plots/FullFastBurst_15y_precentdif.png')\n",
    "plt.show()"
   ]
  },
  {
   "cell_type": "code",
   "execution_count": 33,
   "id": "4daa0d92",
   "metadata": {
    "scrolled": true
   },
   "outputs": [
    {
     "name": "stdout",
     "output_type": "stream",
     "text": [
      "[B1855+09_efac:Uniform(pmin=0.01, pmax=10.0), B1937+21_efac:Uniform(pmin=0.01, pmax=10.0), B1953+29_efac:Uniform(pmin=0.01, pmax=10.0), Glitch_0_log10_f0:Uniform(pmin=-8.455931955649724, pmax=-7.0), Glitch_0_log10_h:LinearExp(pmin=-10.0, pmax=-5), Glitch_0_phase0:Uniform(pmin=0, pmax=6.283185307179586), Glitch_0_psr_idx:Uniform(pmin=-0.5, pmax=66.5), Glitch_0_t0:Uniform(pmin=0.0, pmax=10), Glitch_0_tau:Uniform(pmin=0.2, pmax=5), Glitch_1_log10_f0:Uniform(pmin=-8.455931955649724, pmax=-7.0), Glitch_1_log10_h:LinearExp(pmin=-10.0, pmax=-5), Glitch_1_phase0:Uniform(pmin=0, pmax=6.283185307179586), Glitch_1_psr_idx:Uniform(pmin=-0.5, pmax=66.5), Glitch_1_t0:Uniform(pmin=0.0, pmax=10), Glitch_1_tau:Uniform(pmin=0.2, pmax=5), Glitch_2_log10_f0:Uniform(pmin=-8.455931955649724, pmax=-7.0), Glitch_2_log10_h:LinearExp(pmin=-10.0, pmax=-5), Glitch_2_phase0:Uniform(pmin=0, pmax=6.283185307179586), Glitch_2_psr_idx:Uniform(pmin=-0.5, pmax=66.5), Glitch_2_t0:Uniform(pmin=0.0, pmax=10), Glitch_2_tau:Uniform(pmin=0.2, pmax=5), Glitch_3_log10_f0:Uniform(pmin=-8.455931955649724, pmax=-7.0), Glitch_3_log10_h:LinearExp(pmin=-10.0, pmax=-5), Glitch_3_phase0:Uniform(pmin=0, pmax=6.283185307179586), Glitch_3_psr_idx:Uniform(pmin=-0.5, pmax=66.5), Glitch_3_t0:Uniform(pmin=0.0, pmax=10), Glitch_3_tau:Uniform(pmin=0.2, pmax=5), Glitch_4_log10_f0:Uniform(pmin=-8.455931955649724, pmax=-7.0), Glitch_4_log10_h:LinearExp(pmin=-10.0, pmax=-5), Glitch_4_phase0:Uniform(pmin=0, pmax=6.283185307179586), Glitch_4_psr_idx:Uniform(pmin=-0.5, pmax=66.5), Glitch_4_t0:Uniform(pmin=0.0, pmax=10), Glitch_4_tau:Uniform(pmin=0.2, pmax=5), J0023+0923_efac:Uniform(pmin=0.01, pmax=10.0), J0030+0451_efac:Uniform(pmin=0.01, pmax=10.0), J0340+4130_efac:Uniform(pmin=0.01, pmax=10.0), J0406+3039_efac:Uniform(pmin=0.01, pmax=10.0), J0437-4715_efac:Uniform(pmin=0.01, pmax=10.0), J0509+0856_efac:Uniform(pmin=0.01, pmax=10.0), J0557+1551_efac:Uniform(pmin=0.01, pmax=10.0), J0605+3757_efac:Uniform(pmin=0.01, pmax=10.0), J0610-2100_efac:Uniform(pmin=0.01, pmax=10.0), J0613-0200_efac:Uniform(pmin=0.01, pmax=10.0), J0636+5128_efac:Uniform(pmin=0.01, pmax=10.0), J0645+5158_efac:Uniform(pmin=0.01, pmax=10.0), J0709+0458_efac:Uniform(pmin=0.01, pmax=10.0), J0740+6620_efac:Uniform(pmin=0.01, pmax=10.0), J0931-1902_efac:Uniform(pmin=0.01, pmax=10.0), J1012+5307_efac:Uniform(pmin=0.01, pmax=10.0), J1012-4235_efac:Uniform(pmin=0.01, pmax=10.0), J1022+1001_efac:Uniform(pmin=0.01, pmax=10.0), J1024-0719_efac:Uniform(pmin=0.01, pmax=10.0), J1125+7819_efac:Uniform(pmin=0.01, pmax=10.0), J1312+0051_efac:Uniform(pmin=0.01, pmax=10.0), J1453+1902_efac:Uniform(pmin=0.01, pmax=10.0), J1455-3330_efac:Uniform(pmin=0.01, pmax=10.0), J1600-3053_efac:Uniform(pmin=0.01, pmax=10.0), J1614-2230_efac:Uniform(pmin=0.01, pmax=10.0), J1630+3734_efac:Uniform(pmin=0.01, pmax=10.0), J1640+2224_efac:Uniform(pmin=0.01, pmax=10.0), J1643-1224_efac:Uniform(pmin=0.01, pmax=10.0), J1705-1903_efac:Uniform(pmin=0.01, pmax=10.0), J1713+0747_efac:Uniform(pmin=0.01, pmax=10.0), J1719-1438_efac:Uniform(pmin=0.01, pmax=10.0), J1730-2304_efac:Uniform(pmin=0.01, pmax=10.0), J1738+0333_efac:Uniform(pmin=0.01, pmax=10.0), J1741+1351_efac:Uniform(pmin=0.01, pmax=10.0), J1744-1134_efac:Uniform(pmin=0.01, pmax=10.0), J1745+1017_efac:Uniform(pmin=0.01, pmax=10.0), J1747-4036_efac:Uniform(pmin=0.01, pmax=10.0), J1751-2857_efac:Uniform(pmin=0.01, pmax=10.0), J1802-2124_efac:Uniform(pmin=0.01, pmax=10.0), J1811-2405_efac:Uniform(pmin=0.01, pmax=10.0), J1832-0836_efac:Uniform(pmin=0.01, pmax=10.0), J1843-1113_efac:Uniform(pmin=0.01, pmax=10.0), J1853+1303_efac:Uniform(pmin=0.01, pmax=10.0), J1903+0327_efac:Uniform(pmin=0.01, pmax=10.0), J1909-3744_efac:Uniform(pmin=0.01, pmax=10.0), J1910+1256_efac:Uniform(pmin=0.01, pmax=10.0), J1911+1347_efac:Uniform(pmin=0.01, pmax=10.0), J1918-0642_efac:Uniform(pmin=0.01, pmax=10.0), J1923+2515_efac:Uniform(pmin=0.01, pmax=10.0), J1944+0907_efac:Uniform(pmin=0.01, pmax=10.0), J1946+3417_efac:Uniform(pmin=0.01, pmax=10.0), J2010-1323_efac:Uniform(pmin=0.01, pmax=10.0), J2017+0603_efac:Uniform(pmin=0.01, pmax=10.0), J2033+1734_efac:Uniform(pmin=0.01, pmax=10.0), J2043+1711_efac:Uniform(pmin=0.01, pmax=10.0), J2124-3358_efac:Uniform(pmin=0.01, pmax=10.0), J2145-0750_efac:Uniform(pmin=0.01, pmax=10.0), J2214+3000_efac:Uniform(pmin=0.01, pmax=10.0), J2229+2643_efac:Uniform(pmin=0.01, pmax=10.0), J2234+0611_efac:Uniform(pmin=0.01, pmax=10.0), J2234+0944_efac:Uniform(pmin=0.01, pmax=10.0), J2302+4442_efac:Uniform(pmin=0.01, pmax=10.0), J2317+1439_efac:Uniform(pmin=0.01, pmax=10.0), J2322+2057_efac:Uniform(pmin=0.01, pmax=10.0), wavelet_0_cos_gwtheta:Uniform(pmin=-1, pmax=1), wavelet_0_gw_psi:Uniform(pmin=0, pmax=3.141592653589793), wavelet_0_gwphi:Uniform(pmin=0, pmax=6.283185307179586), wavelet_0_log10_f0:Uniform(pmin=-8.455931955649724, pmax=-7.0), wavelet_0_log10_h:LinearExp(pmin=-10.0, pmax=-5), wavelet_0_log10_h_cross:LinearExp(pmin=-10.0, pmax=-5), wavelet_0_phase0:Uniform(pmin=0, pmax=6.283185307179586), wavelet_0_phase0_cross:Uniform(pmin=0, pmax=6.283185307179586), wavelet_0_t0:Uniform(pmin=0.0, pmax=10), wavelet_0_tau:Uniform(pmin=0.2, pmax=5), wavelet_1_cos_gwtheta:Uniform(pmin=-1, pmax=1), wavelet_1_gw_psi:Uniform(pmin=0, pmax=3.141592653589793), wavelet_1_gwphi:Uniform(pmin=0, pmax=6.283185307179586), wavelet_1_log10_f0:Uniform(pmin=-8.455931955649724, pmax=-7.0), wavelet_1_log10_h:LinearExp(pmin=-10.0, pmax=-5), wavelet_1_log10_h_cross:LinearExp(pmin=-10.0, pmax=-5), wavelet_1_phase0:Uniform(pmin=0, pmax=6.283185307179586), wavelet_1_phase0_cross:Uniform(pmin=0, pmax=6.283185307179586), wavelet_1_t0:Uniform(pmin=0.0, pmax=10), wavelet_1_tau:Uniform(pmin=0.2, pmax=5), wavelet_2_cos_gwtheta:Uniform(pmin=-1, pmax=1), wavelet_2_gw_psi:Uniform(pmin=0, pmax=3.141592653589793), wavelet_2_gwphi:Uniform(pmin=0, pmax=6.283185307179586), wavelet_2_log10_f0:Uniform(pmin=-8.455931955649724, pmax=-7.0), wavelet_2_log10_h:LinearExp(pmin=-10.0, pmax=-5), wavelet_2_log10_h_cross:LinearExp(pmin=-10.0, pmax=-5), wavelet_2_phase0:Uniform(pmin=0, pmax=6.283185307179586), wavelet_2_phase0_cross:Uniform(pmin=0, pmax=6.283185307179586), wavelet_2_t0:Uniform(pmin=0.0, pmax=10), wavelet_2_tau:Uniform(pmin=0.2, pmax=5), wavelet_3_cos_gwtheta:Uniform(pmin=-1, pmax=1), wavelet_3_gw_psi:Uniform(pmin=0, pmax=3.141592653589793), wavelet_3_gwphi:Uniform(pmin=0, pmax=6.283185307179586), wavelet_3_log10_f0:Uniform(pmin=-8.455931955649724, pmax=-7.0), wavelet_3_log10_h:LinearExp(pmin=-10.0, pmax=-5), wavelet_3_log10_h_cross:LinearExp(pmin=-10.0, pmax=-5), wavelet_3_phase0:Uniform(pmin=0, pmax=6.283185307179586), wavelet_3_phase0_cross:Uniform(pmin=0, pmax=6.283185307179586), wavelet_3_t0:Uniform(pmin=0.0, pmax=10), wavelet_3_tau:Uniform(pmin=0.2, pmax=5), wavelet_4_cos_gwtheta:Uniform(pmin=-1, pmax=1), wavelet_4_gw_psi:Uniform(pmin=0, pmax=3.141592653589793), wavelet_4_gwphi:Uniform(pmin=0, pmax=6.283185307179586), wavelet_4_log10_f0:Uniform(pmin=-8.455931955649724, pmax=-7.0), wavelet_4_log10_h:LinearExp(pmin=-10.0, pmax=-5), wavelet_4_log10_h_cross:LinearExp(pmin=-10.0, pmax=-5), wavelet_4_phase0:Uniform(pmin=0, pmax=6.283185307179586), wavelet_4_phase0_cross:Uniform(pmin=0, pmax=6.283185307179586), wavelet_4_t0:Uniform(pmin=0.0, pmax=10), wavelet_4_tau:Uniform(pmin=0.2, pmax=5)]\n",
      "Using 2 temperature chains with a geometric spacing of 2.000. Temperature ladder is:\n",
      " [1. 2.]\n",
      "Dynamic temperature adjustment: OFF\n",
      "Prior on number of wavelets:  [0.16666667 0.16666667 0.16666667 0.16666667 0.16666667 0.16666667]\n",
      "Prior on number of glitches:  [0.16666667 0.16666667 0.16666667 0.16666667 0.16666667 0.16666667]\n",
      "-----\n",
      "149\n",
      "67\n",
      "67\n",
      "-----\n",
      "Initial beta (1/T) ladder is:\n",
      " [1.  0.5]\n",
      "Starting with n_wavelet= 3\n",
      "Starting with n_glitch= 1\n",
      "0\n",
      "[ 3.00000000e+00  1.00000000e+00  9.78112460e+00  9.37450770e+00\n",
      "  9.23515260e+00  3.30921719e+00  7.65815677e+00  8.73980337e+00\n",
      "  6.58359000e+00  2.52579491e-01  6.68238970e+00  7.24791131e+00\n",
      "  9.78112460e+00  9.37450770e+00  9.23515260e+00  7.25840786e+00\n",
      "  6.30880689e+00  9.05795398e+00  9.03344862e+00  6.93330967e+00\n",
      "  8.91435984e+00  3.97382211e+00  9.78112460e+00  9.37450770e+00\n",
      "  9.23515260e+00  7.61340771e+00  6.32728422e+00  7.61128264e+00\n",
      "  3.73929299e+00  2.89041693e+00  1.99236366e+00  5.32951624e+00\n",
      "  0.00000000e+00  0.00000000e+00  0.00000000e+00  0.00000000e+00\n",
      "  0.00000000e+00  0.00000000e+00  0.00000000e+00  0.00000000e+00\n",
      "  0.00000000e+00  0.00000000e+00  0.00000000e+00  0.00000000e+00\n",
      "  0.00000000e+00  0.00000000e+00  0.00000000e+00  0.00000000e+00\n",
      "  0.00000000e+00  0.00000000e+00  0.00000000e+00  0.00000000e+00\n",
      "  4.03936508e+00  3.92840119e+00  6.72624016e+00 -8.32119536e+00\n",
      " -5.28647630e+00  2.57083696e+00  0.00000000e+00  0.00000000e+00\n",
      "  0.00000000e+00  0.00000000e+00  0.00000000e+00  0.00000000e+00\n",
      "  0.00000000e+00  0.00000000e+00  0.00000000e+00  0.00000000e+00\n",
      "  0.00000000e+00  0.00000000e+00  0.00000000e+00  0.00000000e+00\n",
      "  0.00000000e+00  0.00000000e+00  0.00000000e+00  0.00000000e+00\n",
      "  0.00000000e+00  0.00000000e+00  0.00000000e+00  0.00000000e+00\n",
      "  0.00000000e+00  0.00000000e+00  3.91175497e-01  3.52609426e+00\n",
      "  4.56424573e+00  8.40657971e-01  7.31880823e+00  7.18030364e+00\n",
      "  6.08022727e+00  4.69923700e+00  9.55659583e+00  3.14493160e+00\n",
      "  1.01567124e+00  2.13737837e+00  8.05075089e+00  8.08350557e+00\n",
      "  5.36762603e+00  9.92986566e+00  8.39829607e+00  8.42838647e+00\n",
      "  3.81169440e+00  1.69286705e+00  4.84416096e+00  5.57389630e+00\n",
      "  8.07322830e+00  4.64168087e+00  9.71237335e+00  7.18872022e-01\n",
      "  1.28657567e+00  3.69668199e+00  7.17824968e+00  4.14282465e+00\n",
      "  4.59845287e+00  2.38109054e+00  5.57941580e+00  6.09399573e+00\n",
      "  2.23425300e+00  2.71711890e+00  2.02725485e+00 -3.02562642e-01\n",
      "  3.03245021e+00  4.35106505e+00 -7.90570724e+00 -5.22019011e+00\n",
      " -5.37754232e+00  3.38535336e+00  1.54146056e+00  6.03389551e+00\n",
      "  1.23058067e+00  5.39497418e-03  2.85132024e+00  6.78360099e-01\n",
      " -8.31941904e+00 -5.29939241e+00 -5.37938388e+00  4.03220695e+00\n",
      "  1.11727175e+00  3.81731526e+00  1.74703030e+00 -1.28860383e-01\n",
      "  1.80454229e+00  1.13346265e+00 -8.16434711e+00 -5.40903910e+00\n",
      " -5.49036560e+00  2.74108218e+00  6.84322793e-01  8.51339712e+00\n",
      "  4.97574159e+00]\n"
     ]
    },
    {
     "name": "stdout",
     "output_type": "stream",
     "text": [
      "[ 9.78112460e+00  9.37450770e+00  9.23515260e+00  3.30921719e+00\n",
      "  7.65815677e+00  8.73980337e+00  6.58359000e+00  2.52579491e-01\n",
      "  6.68238970e+00  7.24791131e+00  9.78112460e+00  9.37450770e+00\n",
      "  9.23515260e+00  7.25840786e+00  6.30880689e+00  9.05795398e+00\n",
      "  9.03344862e+00  6.93330967e+00  8.91435984e+00  3.97382211e+00\n",
      "  9.78112460e+00  9.37450770e+00  9.23515260e+00  7.61340771e+00\n",
      "  6.32728422e+00  7.61128264e+00  3.73929299e+00  2.89041693e+00\n",
      "  1.99236366e+00  5.32951624e+00  4.03936508e+00  3.92840119e+00\n",
      "  6.72624016e+00 -8.32119536e+00 -5.28647630e+00  2.57083696e+00\n",
      "  3.91175497e-01  3.52609426e+00  4.56424573e+00  8.40657971e-01\n",
      "  7.31880823e+00  7.18030364e+00  6.08022727e+00  4.69923700e+00\n",
      "  9.55659583e+00  3.14493160e+00  1.01567124e+00  2.13737837e+00\n",
      "  8.05075089e+00  8.08350557e+00  5.36762603e+00  9.92986566e+00\n",
      "  8.39829607e+00  8.42838647e+00  3.81169440e+00  1.69286705e+00\n",
      "  4.84416096e+00  5.57389630e+00  8.07322830e+00  4.64168087e+00\n",
      "  9.71237335e+00  7.18872022e-01  1.28657567e+00  3.69668199e+00\n",
      "  7.17824968e+00  4.14282465e+00  4.59845287e+00  2.38109054e+00\n",
      "  5.57941580e+00  6.09399573e+00  2.23425300e+00  2.71711890e+00\n",
      "  2.02725485e+00 -3.02562642e-01  3.03245021e+00  4.35106505e+00\n",
      " -7.90570724e+00 -5.22019011e+00 -5.37754232e+00  3.38535336e+00\n",
      "  1.54146056e+00  6.03389551e+00  1.23058067e+00  5.39497418e-03\n",
      "  2.85132024e+00  6.78360099e-01 -8.31941904e+00 -5.29939241e+00\n",
      " -5.37938388e+00  4.03220695e+00  1.11727175e+00  3.81731526e+00\n",
      "  1.74703030e+00 -1.28860383e-01  1.80454229e+00  1.13346265e+00\n",
      " -8.16434711e+00 -5.40903910e+00 -5.49036560e+00  2.74108218e+00\n",
      "  6.84322793e-01  8.51339712e+00  4.97574159e+00]\n",
      "-3.4620906898483394e+26\n",
      "-inf\n",
      "1\n",
      "[ 3.          1.          6.83385761  7.84136691  4.9339211   5.45939661\n",
      "  5.62508079  0.46494911  3.98828333  2.45039931  9.49864529  0.17970245\n",
      "  6.83385761  7.84136691  4.9339211   7.13824922  2.33191839  4.07188631\n",
      "  4.14253011  6.30936925  2.78438636  0.90246512  6.83385761  7.84136691\n",
      "  4.9339211   5.2536735   3.52652926  9.31247789  3.61806465  6.88418641\n",
      "  3.62609907  8.27685192  0.          0.          0.          0.\n",
      "  0.          0.          0.          0.          0.          0.\n",
      "  0.          0.          0.          0.          0.          0.\n",
      "  0.          0.          0.          0.          9.60059343  9.93260847\n",
      "  9.0838125  -8.18213666 -5.38963521  2.25727566  0.          0.\n",
      "  0.          0.          0.          0.          0.          0.\n",
      "  0.          0.          0.          0.          0.          0.\n",
      "  0.          0.          0.          0.          0.          0.\n",
      "  0.          0.          0.          0.          0.60608718  4.310094\n",
      "  8.10377928  8.2590713   7.06490788  7.50008024  8.53794357  8.92389554\n",
      "  6.33052337  6.74216962  9.79613892  1.62041456  4.38955512  1.3203053\n",
      "  0.0996456   4.91185645  2.75247208  7.7659845   8.89901852  7.72642341\n",
      "  4.22533117  5.6453666   9.84221891  1.05466157  0.97202604  3.38077728\n",
      "  7.51062754  8.72550697  9.68769922  0.53441759  9.70606088  6.35124836\n",
      "  3.60763331  0.46149312  1.64632436  8.89413887  7.94743982  0.42939419\n",
      "  1.04015371  2.97376991 -7.88226402 -5.08638374 -5.19433977  3.75207767\n",
      "  4.21127489  6.69364284  3.96352783 -0.44405649  1.21812643  1.97131667\n",
      " -7.19978005 -5.32314013 -5.98826695  5.85514894  0.44918121  8.87973124\n",
      "  3.95985083  0.29717284  2.26797939  2.14006434 -8.30083934 -5.14148059\n",
      " -5.13274428  0.02796125  5.34038197  2.41790688  2.57349206]\n",
      "[ 6.83385761  7.84136691  4.9339211   5.45939661  5.62508079  0.46494911\n",
      "  3.98828333  2.45039931  9.49864529  0.17970245  6.83385761  7.84136691\n",
      "  4.9339211   7.13824922  2.33191839  4.07188631  4.14253011  6.30936925\n",
      "  2.78438636  0.90246512  6.83385761  7.84136691  4.9339211   5.2536735\n",
      "  3.52652926  9.31247789  3.61806465  6.88418641  3.62609907  8.27685192\n",
      "  9.60059343  9.93260847  9.0838125  -8.18213666 -5.38963521  2.25727566\n",
      "  0.60608718  4.310094    8.10377928  8.2590713   7.06490788  7.50008024\n",
      "  8.53794357  8.92389554  6.33052337  6.74216962  9.79613892  1.62041456\n",
      "  4.38955512  1.3203053   0.0996456   4.91185645  2.75247208  7.7659845\n",
      "  8.89901852  7.72642341  4.22533117  5.6453666   9.84221891  1.05466157\n",
      "  0.97202604  3.38077728  7.51062754  8.72550697  9.68769922  0.53441759\n",
      "  9.70606088  6.35124836  3.60763331  0.46149312  1.64632436  8.89413887\n",
      "  7.94743982  0.42939419  1.04015371  2.97376991 -7.88226402 -5.08638374\n",
      " -5.19433977  3.75207767  4.21127489  6.69364284  3.96352783 -0.44405649\n",
      "  1.21812643  1.97131667 -7.19978005 -5.32314013 -5.98826695  5.85514894\n",
      "  0.44918121  8.87973124  3.95985083  0.29717284  2.26797939  2.14006434\n",
      " -8.30083934 -5.14148059 -5.13274428  0.02796125  5.34038197  2.41790688\n",
      "  2.57349206]\n",
      "-2.317343436885377e+24\n",
      "-inf\n",
      "fish n_source 1: dim 67: params len 103: offset 36\n",
      "Changed some nan elements in the Fisher matrix to 1.0\n",
      "fish n_source 1: dim 67: params len 103: offset 36\n",
      "Changed some nan elements in the Fisher matrix to 1.0\n",
      "Percentage of steps doing different jumps:\n",
      "PT swaps: 20.00%\n",
      "RJ moves: 0.00%\n",
      "Glitch RJ moves: 0.00%\n",
      "GWB-switches: 0.00%\n",
      "Tau-scan-proposals: 0.00%\n",
      "Glitch tau-scan-proposals: 0.00%\n",
      "Jumps along Fisher eigendirections: 80.00%\n",
      "Noise jump: 0.00%\n",
      "Progress: 0.00% Acceptance fraction #columns: chain number; rows: proposal type (glitch_RJ, glitch_tauscan, wavelet_RJ, wavelet_tauscan, GWB_RJ, PT, fisher, noise_jump):\n",
      "[[nan nan]\n",
      " [nan nan]\n",
      " [nan nan]\n",
      " [nan nan]\n",
      " [nan nan]\n",
      " [nan nan]\n",
      " [nan nan]\n",
      " [nan nan]]\n",
      "[nan]\n",
      "fish n_source 3: dim 10: params len 103: offset 0\n",
      "Changed some nan elements in the Fisher matrix to 1.0\n",
      "Changed some nan elements in the Fisher matrix to 1.0\n",
      "Changed some nan elements in the Fisher matrix to 1.0\n",
      "fish n_source 1: dim 6: params len 103: offset 30\n",
      "Changed some nan elements in the Fisher matrix to 1.0\n",
      "fish n_source 1: dim 67: params len 103: offset 36\n",
      "Changed some nan elements in the Fisher matrix to 1.0\n",
      "fish n_source 3: dim 10: params len 103: offset 0\n",
      "Changed some nan elements in the Fisher matrix to 1.0\n",
      "Changed some nan elements in the Fisher matrix to 1.0\n",
      "Changed some nan elements in the Fisher matrix to 1.0\n",
      "fish n_source 1: dim 6: params len 103: offset 30\n",
      "Changed some nan elements in the Fisher matrix to 1.0\n",
      "fish n_source 1: dim 67: params len 103: offset 36\n",
      "Changed some nan elements in the Fisher matrix to 1.0\n"
     ]
    }
   ],
   "source": [
    "import QuickBurst_MCMC\n",
    "N=int(2)\n",
    "\n",
    "T_max = 2 #8\n",
    "n_chain = 2 #10\n",
    "\n",
    "#ts_file = \"/home/reyna/BayesHopperBurst/BenceData/with_burst/tauscan_12p5yr-like_real4_RN.pkl\"\n",
    "#glitch_ts_file = \"/home/reyna/BayesHopperBurst/BenceData/with_burst/glitch_tauscan_12p5yr-like_real4_RN.pkl.pkl\"\n",
    "\n",
    "#noisedict_file = \"/home/reyna/BayesHopperBurst/BenceData/with_burst/params_simulated.json\"\n",
    "#RN_start_file = \"../12p5yr-like_data/RN_start_values.npz\"\n",
    "\n",
    "savefile = \"/home/reyna/BayesHopperBurst/QuickBurst/Testing/chain_test1.npz\" #only saving a chain\n",
    "\n",
    "samples, acc_fraction, swap_record, rj_record, ptas, log_likelihood, betas, PT_acc = QuickBurst_MCMC.run_bhb(N, T_max, n_chain, psrs,\n",
    "                                                                    max_n_wavelet=5,\n",
    "                                                                    min_n_wavelet=0,\n",
    "                                                                    n_wavelet_start=3,\n",
    "                                                                    RJ_weight=0,\n",
    "                                                                    glitch_RJ_weight=0,\n",
    "                                                                    regular_weight=4,\n",
    "                                                                    noise_jump_weight=0,\n",
    "                                                                    PT_swap_weight=1,\n",
    "                                                                    tau_scan_proposal_weight=0,\n",
    "                                                                    glitch_tau_scan_proposal_weight=0,\n",
    "                                                                    gwb_switch_weight=0,\n",
    "                                                                    #tau_scan_file=ts_file,\n",
    "                                                                    #glitch_tau_scan_file=glitch_ts_file,\n",
    "                                                                    #gwb_log_amp_range=[-18,-15],\n",
    "                                                                    rn_log_amp_range=[-18,-15],\n",
    "                                                                    wavelet_log_amp_range=[-10.0,-5],\n",
    "                                                                    per_psr_rn_log_amp_range=[-18,-15],\n",
    "                                                                    prior_recovery=False,\n",
    "                                                                    #gwb_amp_prior='log-uniform',\n",
    "                                                                    rn_amp_prior='log-uniform',\n",
    "                                                                    wavelet_amp_prior='uniform',\n",
    "                                                                    per_psr_rn_amp_prior='log-uniform',\n",
    "                                                                    #gwb_on_prior=0.975,\n",
    "                                                                    max_n_glitch=5,\n",
    "                                                                    n_glitch_start=1,\n",
    "                                                                    glitch_log_amp_range=[-10.0,-5],\n",
    "                                                                    glitch_amp_prior='uniform',\n",
    "                                                                    t0_max=10,\n",
    "                                                                    draw_from_prior_weight=0, de_weight=0,\n",
    "                                                                    vary_white_noise=True,\n",
    "                                                                    include_gwb=False,\n",
    "                                                                    include_rn=False, vary_rn=False,\n",
    "                                                                    include_equad_ecorr=False,\n",
    "                                                                    wn_backend_selection=False,\n",
    "                                                                    noisedict_file=noise_file,\n",
    "                                                                    include_per_psr_rn=False,\n",
    "                                                                    vary_per_psr_rn=False,\n",
    "                                                                    #resume_from=None,\n",
    "                                                                    #per_psr_rn_start_file=RN_start_file,\n",
    "                                                                    savefile=savefile, save_every_n=1)\n",
    "\n",
    "np.savez(savefile, samples=samples, acc_fraction=acc_fraction, swap_record=swap_record, log_likelihood=log_likelihood)"
   ]
  },
  {
   "cell_type": "code",
   "execution_count": 32,
   "id": "58e1adf9",
   "metadata": {},
   "outputs": [
    {
     "name": "stdout",
     "output_type": "stream",
     "text": [
      "[B1855+09_efac:Uniform(pmin=0.01, pmax=10.0), B1937+21_efac:Uniform(pmin=0.01, pmax=10.0), B1953+29_efac:Uniform(pmin=0.01, pmax=10.0), Glitch_0_log10_f0:Uniform(pmin=-8.455931955649724, pmax=-7.0), Glitch_0_log10_h:LinearExp(pmin=-10.0, pmax=-5), Glitch_0_phase0:Uniform(pmin=0, pmax=6.283185307179586), Glitch_0_psr_idx:Uniform(pmin=-0.5, pmax=66.5), Glitch_0_t0:Uniform(pmin=0.0, pmax=10), Glitch_0_tau:Uniform(pmin=0.2, pmax=5), Glitch_1_log10_f0:Uniform(pmin=-8.455931955649724, pmax=-7.0), Glitch_1_log10_h:LinearExp(pmin=-10.0, pmax=-5), Glitch_1_phase0:Uniform(pmin=0, pmax=6.283185307179586), Glitch_1_psr_idx:Uniform(pmin=-0.5, pmax=66.5), Glitch_1_t0:Uniform(pmin=0.0, pmax=10), Glitch_1_tau:Uniform(pmin=0.2, pmax=5), Glitch_2_log10_f0:Uniform(pmin=-8.455931955649724, pmax=-7.0), Glitch_2_log10_h:LinearExp(pmin=-10.0, pmax=-5), Glitch_2_phase0:Uniform(pmin=0, pmax=6.283185307179586), Glitch_2_psr_idx:Uniform(pmin=-0.5, pmax=66.5), Glitch_2_t0:Uniform(pmin=0.0, pmax=10), Glitch_2_tau:Uniform(pmin=0.2, pmax=5), Glitch_3_log10_f0:Uniform(pmin=-8.455931955649724, pmax=-7.0), Glitch_3_log10_h:LinearExp(pmin=-10.0, pmax=-5), Glitch_3_phase0:Uniform(pmin=0, pmax=6.283185307179586), Glitch_3_psr_idx:Uniform(pmin=-0.5, pmax=66.5), Glitch_3_t0:Uniform(pmin=0.0, pmax=10), Glitch_3_tau:Uniform(pmin=0.2, pmax=5), Glitch_4_log10_f0:Uniform(pmin=-8.455931955649724, pmax=-7.0), Glitch_4_log10_h:LinearExp(pmin=-10.0, pmax=-5), Glitch_4_phase0:Uniform(pmin=0, pmax=6.283185307179586), Glitch_4_psr_idx:Uniform(pmin=-0.5, pmax=66.5), Glitch_4_t0:Uniform(pmin=0.0, pmax=10), Glitch_4_tau:Uniform(pmin=0.2, pmax=5), J0023+0923_efac:Uniform(pmin=0.01, pmax=10.0), J0030+0451_efac:Uniform(pmin=0.01, pmax=10.0), J0340+4130_efac:Uniform(pmin=0.01, pmax=10.0), J0406+3039_efac:Uniform(pmin=0.01, pmax=10.0), J0437-4715_efac:Uniform(pmin=0.01, pmax=10.0), J0509+0856_efac:Uniform(pmin=0.01, pmax=10.0), J0557+1551_efac:Uniform(pmin=0.01, pmax=10.0), J0605+3757_efac:Uniform(pmin=0.01, pmax=10.0), J0610-2100_efac:Uniform(pmin=0.01, pmax=10.0), J0613-0200_efac:Uniform(pmin=0.01, pmax=10.0), J0636+5128_efac:Uniform(pmin=0.01, pmax=10.0), J0645+5158_efac:Uniform(pmin=0.01, pmax=10.0), J0709+0458_efac:Uniform(pmin=0.01, pmax=10.0), J0740+6620_efac:Uniform(pmin=0.01, pmax=10.0), J0931-1902_efac:Uniform(pmin=0.01, pmax=10.0), J1012+5307_efac:Uniform(pmin=0.01, pmax=10.0), J1012-4235_efac:Uniform(pmin=0.01, pmax=10.0), J1022+1001_efac:Uniform(pmin=0.01, pmax=10.0), J1024-0719_efac:Uniform(pmin=0.01, pmax=10.0), J1125+7819_efac:Uniform(pmin=0.01, pmax=10.0), J1312+0051_efac:Uniform(pmin=0.01, pmax=10.0), J1453+1902_efac:Uniform(pmin=0.01, pmax=10.0), J1455-3330_efac:Uniform(pmin=0.01, pmax=10.0), J1600-3053_efac:Uniform(pmin=0.01, pmax=10.0), J1614-2230_efac:Uniform(pmin=0.01, pmax=10.0), J1630+3734_efac:Uniform(pmin=0.01, pmax=10.0), J1640+2224_efac:Uniform(pmin=0.01, pmax=10.0), J1643-1224_efac:Uniform(pmin=0.01, pmax=10.0), J1705-1903_efac:Uniform(pmin=0.01, pmax=10.0), J1713+0747_efac:Uniform(pmin=0.01, pmax=10.0), J1719-1438_efac:Uniform(pmin=0.01, pmax=10.0), J1730-2304_efac:Uniform(pmin=0.01, pmax=10.0), J1738+0333_efac:Uniform(pmin=0.01, pmax=10.0), J1741+1351_efac:Uniform(pmin=0.01, pmax=10.0), J1744-1134_efac:Uniform(pmin=0.01, pmax=10.0), J1745+1017_efac:Uniform(pmin=0.01, pmax=10.0), J1747-4036_efac:Uniform(pmin=0.01, pmax=10.0), J1751-2857_efac:Uniform(pmin=0.01, pmax=10.0), J1802-2124_efac:Uniform(pmin=0.01, pmax=10.0), J1811-2405_efac:Uniform(pmin=0.01, pmax=10.0), J1832-0836_efac:Uniform(pmin=0.01, pmax=10.0), J1843-1113_efac:Uniform(pmin=0.01, pmax=10.0), J1853+1303_efac:Uniform(pmin=0.01, pmax=10.0), J1903+0327_efac:Uniform(pmin=0.01, pmax=10.0), J1909-3744_efac:Uniform(pmin=0.01, pmax=10.0), J1910+1256_efac:Uniform(pmin=0.01, pmax=10.0), J1911+1347_efac:Uniform(pmin=0.01, pmax=10.0), J1918-0642_efac:Uniform(pmin=0.01, pmax=10.0), J1923+2515_efac:Uniform(pmin=0.01, pmax=10.0), J1944+0907_efac:Uniform(pmin=0.01, pmax=10.0), J1946+3417_efac:Uniform(pmin=0.01, pmax=10.0), J2010-1323_efac:Uniform(pmin=0.01, pmax=10.0), J2017+0603_efac:Uniform(pmin=0.01, pmax=10.0), J2033+1734_efac:Uniform(pmin=0.01, pmax=10.0), J2043+1711_efac:Uniform(pmin=0.01, pmax=10.0), J2124-3358_efac:Uniform(pmin=0.01, pmax=10.0), J2145-0750_efac:Uniform(pmin=0.01, pmax=10.0), J2214+3000_efac:Uniform(pmin=0.01, pmax=10.0), J2229+2643_efac:Uniform(pmin=0.01, pmax=10.0), J2234+0611_efac:Uniform(pmin=0.01, pmax=10.0), J2234+0944_efac:Uniform(pmin=0.01, pmax=10.0), J2302+4442_efac:Uniform(pmin=0.01, pmax=10.0), J2317+1439_efac:Uniform(pmin=0.01, pmax=10.0), J2322+2057_efac:Uniform(pmin=0.01, pmax=10.0), wavelet_0_cos_gwtheta:Uniform(pmin=-1, pmax=1), wavelet_0_gw_psi:Uniform(pmin=0, pmax=3.141592653589793), wavelet_0_gwphi:Uniform(pmin=0, pmax=6.283185307179586), wavelet_0_log10_f0:Uniform(pmin=-8.455931955649724, pmax=-7.0), wavelet_0_log10_h:LinearExp(pmin=-10.0, pmax=-5), wavelet_0_log10_h_cross:LinearExp(pmin=-10.0, pmax=-5), wavelet_0_phase0:Uniform(pmin=0, pmax=6.283185307179586), wavelet_0_phase0_cross:Uniform(pmin=0, pmax=6.283185307179586), wavelet_0_t0:Uniform(pmin=0.0, pmax=10), wavelet_0_tau:Uniform(pmin=0.2, pmax=5), wavelet_1_cos_gwtheta:Uniform(pmin=-1, pmax=1), wavelet_1_gw_psi:Uniform(pmin=0, pmax=3.141592653589793), wavelet_1_gwphi:Uniform(pmin=0, pmax=6.283185307179586), wavelet_1_log10_f0:Uniform(pmin=-8.455931955649724, pmax=-7.0), wavelet_1_log10_h:LinearExp(pmin=-10.0, pmax=-5), wavelet_1_log10_h_cross:LinearExp(pmin=-10.0, pmax=-5), wavelet_1_phase0:Uniform(pmin=0, pmax=6.283185307179586), wavelet_1_phase0_cross:Uniform(pmin=0, pmax=6.283185307179586), wavelet_1_t0:Uniform(pmin=0.0, pmax=10), wavelet_1_tau:Uniform(pmin=0.2, pmax=5), wavelet_2_cos_gwtheta:Uniform(pmin=-1, pmax=1), wavelet_2_gw_psi:Uniform(pmin=0, pmax=3.141592653589793), wavelet_2_gwphi:Uniform(pmin=0, pmax=6.283185307179586), wavelet_2_log10_f0:Uniform(pmin=-8.455931955649724, pmax=-7.0), wavelet_2_log10_h:LinearExp(pmin=-10.0, pmax=-5), wavelet_2_log10_h_cross:LinearExp(pmin=-10.0, pmax=-5), wavelet_2_phase0:Uniform(pmin=0, pmax=6.283185307179586), wavelet_2_phase0_cross:Uniform(pmin=0, pmax=6.283185307179586), wavelet_2_t0:Uniform(pmin=0.0, pmax=10), wavelet_2_tau:Uniform(pmin=0.2, pmax=5), wavelet_3_cos_gwtheta:Uniform(pmin=-1, pmax=1), wavelet_3_gw_psi:Uniform(pmin=0, pmax=3.141592653589793), wavelet_3_gwphi:Uniform(pmin=0, pmax=6.283185307179586), wavelet_3_log10_f0:Uniform(pmin=-8.455931955649724, pmax=-7.0), wavelet_3_log10_h:LinearExp(pmin=-10.0, pmax=-5), wavelet_3_log10_h_cross:LinearExp(pmin=-10.0, pmax=-5), wavelet_3_phase0:Uniform(pmin=0, pmax=6.283185307179586), wavelet_3_phase0_cross:Uniform(pmin=0, pmax=6.283185307179586), wavelet_3_t0:Uniform(pmin=0.0, pmax=10), wavelet_3_tau:Uniform(pmin=0.2, pmax=5), wavelet_4_cos_gwtheta:Uniform(pmin=-1, pmax=1), wavelet_4_gw_psi:Uniform(pmin=0, pmax=3.141592653589793), wavelet_4_gwphi:Uniform(pmin=0, pmax=6.283185307179586), wavelet_4_log10_f0:Uniform(pmin=-8.455931955649724, pmax=-7.0), wavelet_4_log10_h:LinearExp(pmin=-10.0, pmax=-5), wavelet_4_log10_h_cross:LinearExp(pmin=-10.0, pmax=-5), wavelet_4_phase0:Uniform(pmin=0, pmax=6.283185307179586), wavelet_4_phase0_cross:Uniform(pmin=0, pmax=6.283185307179586), wavelet_4_t0:Uniform(pmin=0.0, pmax=10), wavelet_4_tau:Uniform(pmin=0.2, pmax=5)]\n",
      "Using 2 temperature chains with a geometric spacing of 2.000. Temperature ladder is:\n",
      " [1. 2.]\n",
      "Dynamic temperature adjustment: OFF\n",
      "Prior on number of wavelets:  [0.16666667 0.16666667 0.16666667 0.16666667 0.16666667 0.16666667]\n",
      "Prior on number of glitches:  [0.16666667 0.16666667 0.16666667 0.16666667 0.16666667 0.16666667]\n",
      "-----\n",
      "149\n",
      "67\n",
      "67\n",
      "-----\n",
      "Initial beta (1/T) ladder is:\n",
      " [1.  0.5]\n",
      "Starting with n_wavelet= 3\n",
      "Starting with n_glitch= 1\n",
      "0\n",
      "[ 3.          1.          7.30966907  3.52739299  8.95219465  1.49061349\n",
      "  0.87185084  8.42098274  6.87624939  2.72930881  8.09502453  5.0857903\n",
      "  7.30966907  3.52739299  8.95219465  6.11078779  8.24888352  0.4870795\n",
      "  6.01364956  3.55218776  3.52899706  0.43371652  7.30966907  3.52739299\n",
      "  8.95219465  9.06014237  8.93170983  0.2888962   5.36096883  5.50793593\n",
      "  3.36599657  7.32046074  0.          0.          0.          0.\n",
      "  0.          0.          0.          0.          0.          0.\n",
      "  0.          0.          0.          0.          0.          0.\n",
      "  0.          0.          0.          0.          7.39059038  5.95692204\n",
      "  6.82599923 -7.38765268 -5.06520181  0.36175377  0.          0.\n",
      "  0.          0.          0.          0.          0.          0.\n",
      "  0.          0.          0.          0.          0.          0.\n",
      "  0.          0.          0.          0.          0.          0.\n",
      "  0.          0.          0.          0.          1.23886293  3.69108727\n",
      "  5.75804145  5.69695731  0.44574608  1.1840997   9.8109341   1.56430923\n",
      "  4.06674314  4.45349376  3.13348117  6.95255484  4.77736684  4.3467835\n",
      "  8.21480659  9.20413006  2.5422202   9.85792363  5.92210019  4.84724881\n",
      "  8.60781067  4.11974306  9.56068146  9.14378543  2.78016007  1.34163733\n",
      "  0.29108701  5.95007401  7.94993693  8.60539058  1.26442703  3.46048887\n",
      "  5.62329232  1.11657654  4.72366114  4.68365579  7.31708281 -0.29576483\n",
      "  1.42721063  2.59215185 -7.86123235 -5.07846731 -5.32359754  5.01472074\n",
      "  0.8484443   4.89602097  3.35282232  0.50738514  2.29086022  4.29119032\n",
      " -7.19089024 -5.03525224 -5.01197836  5.38992965  2.9664462   8.9046747\n",
      "  3.79466917  0.5303258   2.44305814  3.94123779 -7.08081263 -6.64767212\n",
      " -5.23493733  3.97885432  4.8833964   1.76335389  4.67628964]\n"
     ]
    },
    {
     "name": "stderr",
     "output_type": "stream",
     "text": [
      "/home/reyna/BayesHopperBurst/QuickBurst/QuickBurst_MCMC.py:228: FutureWarning: arrays to stack must be passed as a \"sequence\" type such as list or tuple. Support for non-sequence iterables such as generators is deprecated as of NumPy 1.16 and will raise an error in the future.\n",
      "/home/reyna/BayesHopperBurst/QuickBurst/QuickBurst_MCMC.py:232: FutureWarning: arrays to stack must be passed as a \"sequence\" type such as list or tuple. Support for non-sequence iterables such as generators is deprecated as of NumPy 1.16 and will raise an error in the future.\n",
      "/home/reyna/BayesHopperBurst/QuickBurst/QuickBurst_MCMC.py:238: FutureWarning: arrays to stack must be passed as a \"sequence\" type such as list or tuple. Support for non-sequence iterables such as generators is deprecated as of NumPy 1.16 and will raise an error in the future.\n"
     ]
    },
    {
     "name": "stdout",
     "output_type": "stream",
     "text": [
      "[ 7.30966907  3.52739299  8.95219465  1.49061349  0.87185084  8.42098274\n",
      "  6.87624939  2.72930881  8.09502453  5.0857903   7.30966907  3.52739299\n",
      "  8.95219465  6.11078779  8.24888352  0.4870795   6.01364956  3.55218776\n",
      "  3.52899706  0.43371652  7.30966907  3.52739299  8.95219465  9.06014237\n",
      "  8.93170983  0.2888962   5.36096883  5.50793593  3.36599657  7.32046074\n",
      "  7.39059038  5.95692204  6.82599923 -7.38765268 -5.06520181  0.36175377\n",
      "  1.23886293  3.69108727  5.75804145  5.69695731  0.44574608  1.1840997\n",
      "  9.8109341   1.56430923  4.06674314  4.45349376  3.13348117  6.95255484\n",
      "  4.77736684  4.3467835   8.21480659  9.20413006  2.5422202   9.85792363\n",
      "  5.92210019  4.84724881  8.60781067  4.11974306  9.56068146  9.14378543\n",
      "  2.78016007  1.34163733  0.29108701  5.95007401  7.94993693  8.60539058\n",
      "  1.26442703  3.46048887  5.62329232  1.11657654  4.72366114  4.68365579\n",
      "  7.31708281 -0.29576483  1.42721063  2.59215185 -7.86123235 -5.07846731\n",
      " -5.32359754  5.01472074  0.8484443   4.89602097  3.35282232  0.50738514\n",
      "  2.29086022  4.29119032 -7.19089024 -5.03525224 -5.01197836  5.38992965\n",
      "  2.9664462   8.9046747   3.79466917  0.5303258   2.44305814  3.94123779\n",
      " -7.08081263 -6.64767212 -5.23493733  3.97885432  4.8833964   1.76335389\n",
      "  4.67628964]\n",
      "-1034752977166677.8\n",
      "-inf\n",
      "1\n",
      "[ 3.          1.          3.10080911  3.21169456  5.50623267  1.07769971\n",
      "  3.68338941  2.94176126  8.52805857  6.55877933  9.05949189  8.93440013\n",
      "  3.10080911  3.21169456  5.50623267  1.76473385  3.4644627   7.55473438\n",
      "  9.86713679  2.70906221  2.49418117  8.83462198  3.10080911  3.21169456\n",
      "  5.50623267  1.15260605  2.88971107  0.96420782  1.12575542  9.18005259\n",
      "  8.08537883  6.29589671  0.          0.          0.          0.\n",
      "  0.          0.          0.          0.          0.          0.\n",
      "  0.          0.          0.          0.          0.          0.\n",
      "  0.          0.          0.          0.          7.46238104  3.2505056\n",
      "  1.83371622 -7.26372289 -5.97581955  0.43093172  0.          0.\n",
      "  0.          0.          0.          0.          0.          0.\n",
      "  0.          0.          0.          0.          0.          0.\n",
      "  0.          0.          0.          0.          0.          0.\n",
      "  0.          0.          0.          0.          3.7250172   2.52489218\n",
      "  1.16331204  5.15123216  3.29692467  0.61727204  2.80409461  5.17584613\n",
      "  3.36668971  8.88656179  9.77851747  8.54046371  3.48856663  1.31316413\n",
      "  1.30964079  1.94052589  1.74374511  6.67892066  3.78097564  3.03632873\n",
      "  6.65877581  9.66479964  5.99161774  3.50616457  1.36709361  5.02593231\n",
      "  3.28211589  2.59098777  9.19676486  8.32121386  2.37153153  4.04451085\n",
      "  1.28006313  5.92417898  9.31321035  9.04409248  3.49049755 -0.85126201\n",
      "  0.64658826  0.43056238 -7.12117712 -5.24595036 -5.05034831  1.40352213\n",
      "  1.3892599   0.08194648  3.1673832  -0.56307247  2.12838104  3.53168203\n",
      " -7.90648355 -5.60945562 -5.2350615   0.48391584  3.27128784  1.6829388\n",
      "  1.87483977  0.04435496  0.47485385  3.24636317 -8.01862153 -5.22710945\n",
      " -5.45445099  2.46185116  4.56878762  0.13161324  1.91007964]\n",
      "[ 3.10080911  3.21169456  5.50623267  1.07769971  3.68338941  2.94176126\n",
      "  8.52805857  6.55877933  9.05949189  8.93440013  3.10080911  3.21169456\n",
      "  5.50623267  1.76473385  3.4644627   7.55473438  9.86713679  2.70906221\n",
      "  2.49418117  8.83462198  3.10080911  3.21169456  5.50623267  1.15260605\n",
      "  2.88971107  0.96420782  1.12575542  9.18005259  8.08537883  6.29589671\n",
      "  7.46238104  3.2505056   1.83371622 -7.26372289 -5.97581955  0.43093172\n",
      "  3.7250172   2.52489218  1.16331204  5.15123216  3.29692467  0.61727204\n",
      "  2.80409461  5.17584613  3.36668971  8.88656179  9.77851747  8.54046371\n",
      "  3.48856663  1.31316413  1.30964079  1.94052589  1.74374511  6.67892066\n",
      "  3.78097564  3.03632873  6.65877581  9.66479964  5.99161774  3.50616457\n",
      "  1.36709361  5.02593231  3.28211589  2.59098777  9.19676486  8.32121386\n",
      "  2.37153153  4.04451085  1.28006313  5.92417898  9.31321035  9.04409248\n",
      "  3.49049755 -0.85126201  0.64658826  0.43056238 -7.12117712 -5.24595036\n",
      " -5.05034831  1.40352213  1.3892599   0.08194648  3.1673832  -0.56307247\n",
      "  2.12838104  3.53168203 -7.90648355 -5.60945562 -5.2350615   0.48391584\n",
      "  3.27128784  1.6829388   1.87483977  0.04435496  0.47485385  3.24636317\n",
      " -8.01862153 -5.22710945 -5.45445099  2.46185116  4.56878762  0.13161324\n",
      "  1.91007964]\n",
      "-6.587139579999037e+17\n",
      "-inf\n",
      "fish n_source 1: dim 67: params len 103: offset 36\n",
      "Changed some nan elements in the Fisher matrix to 1.0\n",
      "fish n_source 1: dim 67: params len 103: offset 36\n"
     ]
    },
    {
     "name": "stderr",
     "output_type": "stream",
     "text": [
      "/home/reyna/BayesHopperBurst/QuickBurst/QuickBurst_MCMC.py:291: ComplexWarning: Casting complex values to real discards the imaginary part\n"
     ]
    },
    {
     "name": "stdout",
     "output_type": "stream",
     "text": [
      "Changed some nan elements in the Fisher matrix to 1.0\n",
      "Percentage of steps doing different jumps:\n",
      "PT swaps: 20.00%\n",
      "RJ moves: 0.00%\n",
      "Glitch RJ moves: 0.00%\n",
      "GWB-switches: 0.00%\n",
      "Tau-scan-proposals: 0.00%\n",
      "Glitch tau-scan-proposals: 0.00%\n",
      "Jumps along Fisher eigendirections: 80.00%\n",
      "Noise jump: 0.00%\n",
      "Progress: 0.00% Acceptance fraction #columns: chain number; rows: proposal type (glitch_RJ, glitch_tauscan, wavelet_RJ, wavelet_tauscan, GWB_RJ, PT, fisher, noise_jump):\n",
      "[[nan nan]\n",
      " [nan nan]\n",
      " [nan nan]\n",
      " [nan nan]\n",
      " [nan nan]\n",
      " [nan nan]\n",
      " [nan nan]\n",
      " [nan nan]]\n",
      "[nan]\n",
      "fish n_source 3: dim 10: params len 103: offset 0\n"
     ]
    },
    {
     "name": "stderr",
     "output_type": "stream",
     "text": [
      "/home/reyna/BayesHopperBurst/QuickBurst/QuickBurst_MCMC.py:409: RuntimeWarning: invalid value encountered in true_divide\n",
      "/home/reyna/BayesHopperBurst/QuickBurst/QuickBurst_MCMC.py:448: RuntimeWarning: Mean of empty slice\n",
      "/home/reyna/BayesHopperBurst/QuickBurst/QuickBurst_MCMC.py:496: RuntimeWarning: invalid value encountered in true_divide\n"
     ]
    },
    {
     "name": "stdout",
     "output_type": "stream",
     "text": [
      "Changed some nan elements in the Fisher matrix to 1.0\n",
      "Changed some nan elements in the Fisher matrix to 1.0\n",
      "Changed some nan elements in the Fisher matrix to 1.0\n",
      "fish n_source 1: dim 6: params len 103: offset 30\n",
      "Changed some nan elements in the Fisher matrix to 1.0\n",
      "fish n_source 1: dim 67: params len 103: offset 36\n",
      "Changed some nan elements in the Fisher matrix to 1.0\n",
      "fish n_source 3: dim 10: params len 103: offset 0\n",
      "Changed some nan elements in the Fisher matrix to 1.0\n",
      "Changed some nan elements in the Fisher matrix to 1.0\n",
      "Changed some nan elements in the Fisher matrix to 1.0\n",
      "fish n_source 1: dim 6: params len 103: offset 30\n",
      "Changed some nan elements in the Fisher matrix to 1.0\n",
      "fish n_source 1: dim 67: params len 103: offset 36\n",
      "Changed some nan elements in the Fisher matrix to 1.0\n"
     ]
    },
    {
     "name": "stderr",
     "output_type": "stream",
     "text": [
      "/home/reyna/BayesHopperBurst/QuickBurst/QuickBurst_MCMC.py:577: RuntimeWarning: invalid value encountered in true_divide\n"
     ]
    }
   ],
   "source": [
    "%lprun -f QuickBurst_MCMC.run_bhb QuickBurst_MCMC.run_bhb(N, T_max, n_chain, psrs,max_n_wavelet=5,min_n_wavelet=0,n_wavelet_start=3,RJ_weight=0,glitch_RJ_weight=0,regular_weight=4,noise_jump_weight=0,PT_swap_weight=1,tau_scan_proposal_weight=0,glitch_tau_scan_proposal_weight=0,gwb_switch_weight=0,rn_log_amp_range=[-18,-15],wavelet_log_amp_range=[-10.0,-5],per_psr_rn_log_amp_range=[-18,-15],prior_recovery=False,rn_amp_prior='log-uniform',wavelet_amp_prior='uniform',per_psr_rn_amp_prior='log-uniform',max_n_glitch=5,n_glitch_start=1,glitch_log_amp_range=[-10.0,-5],glitch_amp_prior='uniform',t0_max=10,draw_from_prior_weight=0, de_weight=0,vary_white_noise=True,include_gwb=False,include_rn=False, vary_rn=False,include_equad_ecorr=False,wn_backend_selection=False,noisedict_file=noise_file,include_per_psr_rn=False,vary_per_psr_rn=False,savefile=savefile, save_every_n=1)"
   ]
  },
  {
   "cell_type": "code",
   "execution_count": 34,
   "id": "0e9c69b5",
   "metadata": {},
   "outputs": [
    {
     "name": "stdout",
     "output_type": "stream",
     "text": [
      "[B1855+09_efac:Uniform(pmin=0.01, pmax=10.0), B1937+21_efac:Uniform(pmin=0.01, pmax=10.0), B1953+29_efac:Uniform(pmin=0.01, pmax=10.0), Glitch_0_log10_f0:Uniform(pmin=-8.455931955649724, pmax=-7.0), Glitch_0_log10_h:LinearExp(pmin=-10.0, pmax=-5), Glitch_0_phase0:Uniform(pmin=0, pmax=6.283185307179586), Glitch_0_psr_idx:Uniform(pmin=-0.5, pmax=66.5), Glitch_0_t0:Uniform(pmin=0.0, pmax=10), Glitch_0_tau:Uniform(pmin=0.2, pmax=5), Glitch_1_log10_f0:Uniform(pmin=-8.455931955649724, pmax=-7.0), Glitch_1_log10_h:LinearExp(pmin=-10.0, pmax=-5), Glitch_1_phase0:Uniform(pmin=0, pmax=6.283185307179586), Glitch_1_psr_idx:Uniform(pmin=-0.5, pmax=66.5), Glitch_1_t0:Uniform(pmin=0.0, pmax=10), Glitch_1_tau:Uniform(pmin=0.2, pmax=5), Glitch_2_log10_f0:Uniform(pmin=-8.455931955649724, pmax=-7.0), Glitch_2_log10_h:LinearExp(pmin=-10.0, pmax=-5), Glitch_2_phase0:Uniform(pmin=0, pmax=6.283185307179586), Glitch_2_psr_idx:Uniform(pmin=-0.5, pmax=66.5), Glitch_2_t0:Uniform(pmin=0.0, pmax=10), Glitch_2_tau:Uniform(pmin=0.2, pmax=5), Glitch_3_log10_f0:Uniform(pmin=-8.455931955649724, pmax=-7.0), Glitch_3_log10_h:LinearExp(pmin=-10.0, pmax=-5), Glitch_3_phase0:Uniform(pmin=0, pmax=6.283185307179586), Glitch_3_psr_idx:Uniform(pmin=-0.5, pmax=66.5), Glitch_3_t0:Uniform(pmin=0.0, pmax=10), Glitch_3_tau:Uniform(pmin=0.2, pmax=5), Glitch_4_log10_f0:Uniform(pmin=-8.455931955649724, pmax=-7.0), Glitch_4_log10_h:LinearExp(pmin=-10.0, pmax=-5), Glitch_4_phase0:Uniform(pmin=0, pmax=6.283185307179586), Glitch_4_psr_idx:Uniform(pmin=-0.5, pmax=66.5), Glitch_4_t0:Uniform(pmin=0.0, pmax=10), Glitch_4_tau:Uniform(pmin=0.2, pmax=5), J0023+0923_efac:Uniform(pmin=0.01, pmax=10.0), J0030+0451_efac:Uniform(pmin=0.01, pmax=10.0), J0340+4130_efac:Uniform(pmin=0.01, pmax=10.0), J0406+3039_efac:Uniform(pmin=0.01, pmax=10.0), J0437-4715_efac:Uniform(pmin=0.01, pmax=10.0), J0509+0856_efac:Uniform(pmin=0.01, pmax=10.0), J0557+1551_efac:Uniform(pmin=0.01, pmax=10.0), J0605+3757_efac:Uniform(pmin=0.01, pmax=10.0), J0610-2100_efac:Uniform(pmin=0.01, pmax=10.0), J0613-0200_efac:Uniform(pmin=0.01, pmax=10.0), J0636+5128_efac:Uniform(pmin=0.01, pmax=10.0), J0645+5158_efac:Uniform(pmin=0.01, pmax=10.0), J0709+0458_efac:Uniform(pmin=0.01, pmax=10.0), J0740+6620_efac:Uniform(pmin=0.01, pmax=10.0), J0931-1902_efac:Uniform(pmin=0.01, pmax=10.0), J1012+5307_efac:Uniform(pmin=0.01, pmax=10.0), J1012-4235_efac:Uniform(pmin=0.01, pmax=10.0), J1022+1001_efac:Uniform(pmin=0.01, pmax=10.0), J1024-0719_efac:Uniform(pmin=0.01, pmax=10.0), J1125+7819_efac:Uniform(pmin=0.01, pmax=10.0), J1312+0051_efac:Uniform(pmin=0.01, pmax=10.0), J1453+1902_efac:Uniform(pmin=0.01, pmax=10.0), J1455-3330_efac:Uniform(pmin=0.01, pmax=10.0), J1600-3053_efac:Uniform(pmin=0.01, pmax=10.0), J1614-2230_efac:Uniform(pmin=0.01, pmax=10.0), J1630+3734_efac:Uniform(pmin=0.01, pmax=10.0), J1640+2224_efac:Uniform(pmin=0.01, pmax=10.0), J1643-1224_efac:Uniform(pmin=0.01, pmax=10.0), J1705-1903_efac:Uniform(pmin=0.01, pmax=10.0), J1713+0747_efac:Uniform(pmin=0.01, pmax=10.0), J1719-1438_efac:Uniform(pmin=0.01, pmax=10.0), J1730-2304_efac:Uniform(pmin=0.01, pmax=10.0), J1738+0333_efac:Uniform(pmin=0.01, pmax=10.0), J1741+1351_efac:Uniform(pmin=0.01, pmax=10.0), J1744-1134_efac:Uniform(pmin=0.01, pmax=10.0), J1745+1017_efac:Uniform(pmin=0.01, pmax=10.0), J1747-4036_efac:Uniform(pmin=0.01, pmax=10.0), J1751-2857_efac:Uniform(pmin=0.01, pmax=10.0), J1802-2124_efac:Uniform(pmin=0.01, pmax=10.0), J1811-2405_efac:Uniform(pmin=0.01, pmax=10.0), J1832-0836_efac:Uniform(pmin=0.01, pmax=10.0), J1843-1113_efac:Uniform(pmin=0.01, pmax=10.0), J1853+1303_efac:Uniform(pmin=0.01, pmax=10.0), J1903+0327_efac:Uniform(pmin=0.01, pmax=10.0), J1909-3744_efac:Uniform(pmin=0.01, pmax=10.0), J1910+1256_efac:Uniform(pmin=0.01, pmax=10.0), J1911+1347_efac:Uniform(pmin=0.01, pmax=10.0), J1918-0642_efac:Uniform(pmin=0.01, pmax=10.0), J1923+2515_efac:Uniform(pmin=0.01, pmax=10.0), J1944+0907_efac:Uniform(pmin=0.01, pmax=10.0), J1946+3417_efac:Uniform(pmin=0.01, pmax=10.0), J2010-1323_efac:Uniform(pmin=0.01, pmax=10.0), J2017+0603_efac:Uniform(pmin=0.01, pmax=10.0), J2033+1734_efac:Uniform(pmin=0.01, pmax=10.0), J2043+1711_efac:Uniform(pmin=0.01, pmax=10.0), J2124-3358_efac:Uniform(pmin=0.01, pmax=10.0), J2145-0750_efac:Uniform(pmin=0.01, pmax=10.0), J2214+3000_efac:Uniform(pmin=0.01, pmax=10.0), J2229+2643_efac:Uniform(pmin=0.01, pmax=10.0), J2234+0611_efac:Uniform(pmin=0.01, pmax=10.0), J2234+0944_efac:Uniform(pmin=0.01, pmax=10.0), J2302+4442_efac:Uniform(pmin=0.01, pmax=10.0), J2317+1439_efac:Uniform(pmin=0.01, pmax=10.0), J2322+2057_efac:Uniform(pmin=0.01, pmax=10.0), wavelet_0_cos_gwtheta:Uniform(pmin=-1, pmax=1), wavelet_0_gw_psi:Uniform(pmin=0, pmax=3.141592653589793), wavelet_0_gwphi:Uniform(pmin=0, pmax=6.283185307179586), wavelet_0_log10_f0:Uniform(pmin=-8.455931955649724, pmax=-7.0), wavelet_0_log10_h:LinearExp(pmin=-10.0, pmax=-5), wavelet_0_log10_h_cross:LinearExp(pmin=-10.0, pmax=-5), wavelet_0_phase0:Uniform(pmin=0, pmax=6.283185307179586), wavelet_0_phase0_cross:Uniform(pmin=0, pmax=6.283185307179586), wavelet_0_t0:Uniform(pmin=0.0, pmax=10), wavelet_0_tau:Uniform(pmin=0.2, pmax=5), wavelet_1_cos_gwtheta:Uniform(pmin=-1, pmax=1), wavelet_1_gw_psi:Uniform(pmin=0, pmax=3.141592653589793), wavelet_1_gwphi:Uniform(pmin=0, pmax=6.283185307179586), wavelet_1_log10_f0:Uniform(pmin=-8.455931955649724, pmax=-7.0), wavelet_1_log10_h:LinearExp(pmin=-10.0, pmax=-5), wavelet_1_log10_h_cross:LinearExp(pmin=-10.0, pmax=-5), wavelet_1_phase0:Uniform(pmin=0, pmax=6.283185307179586), wavelet_1_phase0_cross:Uniform(pmin=0, pmax=6.283185307179586), wavelet_1_t0:Uniform(pmin=0.0, pmax=10), wavelet_1_tau:Uniform(pmin=0.2, pmax=5), wavelet_2_cos_gwtheta:Uniform(pmin=-1, pmax=1), wavelet_2_gw_psi:Uniform(pmin=0, pmax=3.141592653589793), wavelet_2_gwphi:Uniform(pmin=0, pmax=6.283185307179586), wavelet_2_log10_f0:Uniform(pmin=-8.455931955649724, pmax=-7.0), wavelet_2_log10_h:LinearExp(pmin=-10.0, pmax=-5), wavelet_2_log10_h_cross:LinearExp(pmin=-10.0, pmax=-5), wavelet_2_phase0:Uniform(pmin=0, pmax=6.283185307179586), wavelet_2_phase0_cross:Uniform(pmin=0, pmax=6.283185307179586), wavelet_2_t0:Uniform(pmin=0.0, pmax=10), wavelet_2_tau:Uniform(pmin=0.2, pmax=5), wavelet_3_cos_gwtheta:Uniform(pmin=-1, pmax=1), wavelet_3_gw_psi:Uniform(pmin=0, pmax=3.141592653589793), wavelet_3_gwphi:Uniform(pmin=0, pmax=6.283185307179586), wavelet_3_log10_f0:Uniform(pmin=-8.455931955649724, pmax=-7.0), wavelet_3_log10_h:LinearExp(pmin=-10.0, pmax=-5), wavelet_3_log10_h_cross:LinearExp(pmin=-10.0, pmax=-5), wavelet_3_phase0:Uniform(pmin=0, pmax=6.283185307179586), wavelet_3_phase0_cross:Uniform(pmin=0, pmax=6.283185307179586), wavelet_3_t0:Uniform(pmin=0.0, pmax=10), wavelet_3_tau:Uniform(pmin=0.2, pmax=5), wavelet_4_cos_gwtheta:Uniform(pmin=-1, pmax=1), wavelet_4_gw_psi:Uniform(pmin=0, pmax=3.141592653589793), wavelet_4_gwphi:Uniform(pmin=0, pmax=6.283185307179586), wavelet_4_log10_f0:Uniform(pmin=-8.455931955649724, pmax=-7.0), wavelet_4_log10_h:LinearExp(pmin=-10.0, pmax=-5), wavelet_4_log10_h_cross:LinearExp(pmin=-10.0, pmax=-5), wavelet_4_phase0:Uniform(pmin=0, pmax=6.283185307179586), wavelet_4_phase0_cross:Uniform(pmin=0, pmax=6.283185307179586), wavelet_4_t0:Uniform(pmin=0.0, pmax=10), wavelet_4_tau:Uniform(pmin=0.2, pmax=5)]\n",
      "Using 2 temperature chains with a geometric spacing of 2.000. Temperature ladder is:\n",
      " [1. 2.]\n",
      "Dynamic temperature adjustment: OFF\n",
      "Prior on number of wavelets:  [0.16666667 0.16666667 0.16666667 0.16666667 0.16666667 0.16666667]\n",
      "Prior on number of glitches:  [0.16666667 0.16666667 0.16666667 0.16666667 0.16666667 0.16666667]\n",
      "-----\n",
      "149\n",
      "67\n",
      "67\n",
      "-----\n",
      "Initial beta (1/T) ladder is:\n",
      " [1.  0.5]\n",
      "Starting with n_wavelet= 3\n",
      "Starting with n_glitch= 1\n",
      "0\n",
      "[ 3.          1.          6.84606979  1.62894795  1.33988506  2.80609804\n",
      "  0.3947213   5.7024912   1.35282348  3.8206446   8.48423235  3.81410881\n",
      "  6.84606979  1.62894795  1.33988506  0.96050389  5.446025    0.7701854\n",
      "  3.40692607  0.78399871  6.44567692  5.74124313  6.84606979  1.62894795\n",
      "  1.33988506  5.33212343  2.53876679  5.17220308  2.24785844  2.6135915\n",
      "  9.91708694  5.52214754  0.          0.          0.          0.\n",
      "  0.          0.          0.          0.          0.          0.\n",
      "  0.          0.          0.          0.          0.          0.\n",
      "  0.          0.          0.          0.          4.57105479  4.6339821\n",
      "  8.95555375 -7.12141835 -5.28293758  5.49758439  0.          0.\n",
      "  0.          0.          0.          0.          0.          0.\n",
      "  0.          0.          0.          0.          0.          0.\n",
      "  0.          0.          0.          0.          0.          0.\n",
      "  0.          0.          0.          0.          8.35995511  2.00723785\n",
      "  8.25273519  0.68540839  7.85972358  4.37593455  9.1718818   3.02843474\n",
      "  8.63468568  6.62412944  3.0951099   5.34988996  9.60936818  2.21117514\n",
      "  5.09308064  1.72071689  7.3004005   8.28657665  9.18583019  2.61318105\n",
      "  2.53391483  8.15795972  3.29142352  0.80517986  6.03762547  8.34453648\n",
      "  5.34657352  6.52593373  7.02607959  4.42545332  8.24132958  4.4169222\n",
      "  1.68542897  6.22854359  8.50100181  4.68921367  8.15890983  0.41323716\n",
      "  2.22596794  2.1538131  -8.0690996  -5.42608262 -6.07400182  5.7568597\n",
      "  1.28194667  7.51285102  1.8472525  -0.48789715  2.10870446  0.66765765\n",
      " -7.09962343 -5.01069659 -5.13956977  1.98905497  1.44706218  8.19324119\n",
      "  1.25336539  0.53798452  1.13294955  5.79836824 -8.40801888 -5.36642632\n",
      " -6.22348368  0.16009665  5.46138388  5.98536714  1.44383538]\n"
     ]
    },
    {
     "name": "stderr",
     "output_type": "stream",
     "text": [
      "/home/reyna/BayesHopperBurst/QuickBurst/QuickBurst_MCMC.py:228: FutureWarning: arrays to stack must be passed as a \"sequence\" type such as list or tuple. Support for non-sequence iterables such as generators is deprecated as of NumPy 1.16 and will raise an error in the future.\n",
      "/home/reyna/BayesHopperBurst/QuickBurst/QuickBurst_MCMC.py:232: FutureWarning: arrays to stack must be passed as a \"sequence\" type such as list or tuple. Support for non-sequence iterables such as generators is deprecated as of NumPy 1.16 and will raise an error in the future.\n",
      "/home/reyna/BayesHopperBurst/QuickBurst/QuickBurst_MCMC.py:238: FutureWarning: arrays to stack must be passed as a \"sequence\" type such as list or tuple. Support for non-sequence iterables such as generators is deprecated as of NumPy 1.16 and will raise an error in the future.\n"
     ]
    },
    {
     "name": "stdout",
     "output_type": "stream",
     "text": [
      "[ 6.84606979  1.62894795  1.33988506  2.80609804  0.3947213   5.7024912\n",
      "  1.35282348  3.8206446   8.48423235  3.81410881  6.84606979  1.62894795\n",
      "  1.33988506  0.96050389  5.446025    0.7701854   3.40692607  0.78399871\n",
      "  6.44567692  5.74124313  6.84606979  1.62894795  1.33988506  5.33212343\n",
      "  2.53876679  5.17220308  2.24785844  2.6135915   9.91708694  5.52214754\n",
      "  4.57105479  4.6339821   8.95555375 -7.12141835 -5.28293758  5.49758439\n",
      "  8.35995511  2.00723785  8.25273519  0.68540839  7.85972358  4.37593455\n",
      "  9.1718818   3.02843474  8.63468568  6.62412944  3.0951099   5.34988996\n",
      "  9.60936818  2.21117514  5.09308064  1.72071689  7.3004005   8.28657665\n",
      "  9.18583019  2.61318105  2.53391483  8.15795972  3.29142352  0.80517986\n",
      "  6.03762547  8.34453648  5.34657352  6.52593373  7.02607959  4.42545332\n",
      "  8.24132958  4.4169222   1.68542897  6.22854359  8.50100181  4.68921367\n",
      "  8.15890983  0.41323716  2.22596794  2.1538131  -8.0690996  -5.42608262\n",
      " -6.07400182  5.7568597   1.28194667  7.51285102  1.8472525  -0.48789715\n",
      "  2.10870446  0.66765765 -7.09962343 -5.01069659 -5.13956977  1.98905497\n",
      "  1.44706218  8.19324119  1.25336539  0.53798452  1.13294955  5.79836824\n",
      " -8.40801888 -5.36642632 -6.22348368  0.16009665  5.46138388  5.98536714\n",
      "  1.44383538]\n",
      "-1.3182497320571886e+18\n",
      "-inf\n",
      "1\n",
      "[ 3.          1.          6.02391253  5.91080794  5.96753969  3.92154345\n",
      "  0.66096383  2.44778548  9.7261541   2.02518893  3.31335071  2.60348011\n",
      "  6.02391253  5.91080794  5.96753969  8.67213034  8.43589053  7.31268797\n",
      "  3.38607011  7.37933503  8.52395406  3.38954485  6.02391253  5.91080794\n",
      "  5.96753969  0.47290245  4.58498704  5.48329679  8.54107241  3.20071024\n",
      "  0.33334988  3.37210724  0.          0.          0.          0.\n",
      "  0.          0.          0.          0.          0.          0.\n",
      "  0.          0.          0.          0.          0.          0.\n",
      "  0.          0.          0.          0.          2.14263712  6.65812861\n",
      "  5.25469869 -8.32814938 -5.14252304  2.8189019   0.          0.\n",
      "  0.          0.          0.          0.          0.          0.\n",
      "  0.          0.          0.          0.          0.          0.\n",
      "  0.          0.          0.          0.          0.          0.\n",
      "  0.          0.          0.          0.          1.05195583  3.57863292\n",
      "  9.10002213  4.40478519  6.03239006  1.09967217  8.64817773  5.39408595\n",
      "  3.8498396   5.27465554  9.98965907  8.08784466  9.15703825  2.39689553\n",
      "  1.18519911  3.51824828  8.20689641  1.70060668  1.76699444  5.52658411\n",
      "  6.52253755  3.729235    0.25806703  1.11628078  0.77920274  5.0147679\n",
      "  6.63431748  5.40140919  7.39600602  9.71544777  5.56020978  8.36947474\n",
      "  4.10227561  8.76215312  3.96902291  4.88415862  5.21396393 -0.64682629\n",
      "  2.53347704  6.15512129 -7.19284653 -5.37012764 -5.25933004  1.12013344\n",
      "  4.46605881  9.46086523  4.9957056  -0.5970794   1.5124754   0.90992787\n",
      " -7.25527573 -5.55675393 -5.04715956  4.51183743  2.07970872  3.80428041\n",
      "  1.8524748  -0.16694908  3.11122391  4.48139581 -7.92426468 -5.00849162\n",
      " -5.11500995  4.66415541  5.75865353  4.89406061  0.28919352]\n"
     ]
    },
    {
     "name": "stderr",
     "output_type": "stream",
     "text": [
      "/home/reyna/anaconda3/envs/ent/lib/python3.9/site-packages/enterprise/signals/parameter.py:62: RuntimeWarning: divide by zero encountered in log\n"
     ]
    },
    {
     "name": "stdout",
     "output_type": "stream",
     "text": [
      "[ 6.02391253  5.91080794  5.96753969  3.92154345  0.66096383  2.44778548\n",
      "  9.7261541   2.02518893  3.31335071  2.60348011  6.02391253  5.91080794\n",
      "  5.96753969  8.67213034  8.43589053  7.31268797  3.38607011  7.37933503\n",
      "  8.52395406  3.38954485  6.02391253  5.91080794  5.96753969  0.47290245\n",
      "  4.58498704  5.48329679  8.54107241  3.20071024  0.33334988  3.37210724\n",
      "  2.14263712  6.65812861  5.25469869 -8.32814938 -5.14252304  2.8189019\n",
      "  1.05195583  3.57863292  9.10002213  4.40478519  6.03239006  1.09967217\n",
      "  8.64817773  5.39408595  3.8498396   5.27465554  9.98965907  8.08784466\n",
      "  9.15703825  2.39689553  1.18519911  3.51824828  8.20689641  1.70060668\n",
      "  1.76699444  5.52658411  6.52253755  3.729235    0.25806703  1.11628078\n",
      "  0.77920274  5.0147679   6.63431748  5.40140919  7.39600602  9.71544777\n",
      "  5.56020978  8.36947474  4.10227561  8.76215312  3.96902291  4.88415862\n",
      "  5.21396393 -0.64682629  2.53347704  6.15512129 -7.19284653 -5.37012764\n",
      " -5.25933004  1.12013344  4.46605881  9.46086523  4.9957056  -0.5970794\n",
      "  1.5124754   0.90992787 -7.25527573 -5.55675393 -5.04715956  4.51183743\n",
      "  2.07970872  3.80428041  1.8524748  -0.16694908  3.11122391  4.48139581\n",
      " -7.92426468 -5.00849162 -5.11500995  4.66415541  5.75865353  4.89406061\n",
      "  0.28919352]\n",
      "7102659.322225782\n",
      "-inf\n",
      "fish n_source 1: dim 67: params len 103: offset 36\n",
      "Changed some nan elements in the Fisher matrix to 1.0\n",
      "fish n_source 1: dim 67: params len 103: offset 36\n"
     ]
    },
    {
     "name": "stderr",
     "output_type": "stream",
     "text": [
      "/home/reyna/BayesHopperBurst/QuickBurst/QuickBurst_MCMC.py:291: ComplexWarning: Casting complex values to real discards the imaginary part\n"
     ]
    },
    {
     "name": "stdout",
     "output_type": "stream",
     "text": [
      "Changed some nan elements in the Fisher matrix to 1.0\n",
      "Percentage of steps doing different jumps:\n",
      "PT swaps: 20.00%\n",
      "RJ moves: 0.00%\n",
      "Glitch RJ moves: 0.00%\n",
      "GWB-switches: 0.00%\n",
      "Tau-scan-proposals: 0.00%\n",
      "Glitch tau-scan-proposals: 0.00%\n",
      "Jumps along Fisher eigendirections: 80.00%\n",
      "Noise jump: 0.00%\n",
      "Progress: 0.00% Acceptance fraction #columns: chain number; rows: proposal type (glitch_RJ, glitch_tauscan, wavelet_RJ, wavelet_tauscan, GWB_RJ, PT, fisher, noise_jump):\n",
      "[[nan nan]\n",
      " [nan nan]\n",
      " [nan nan]\n",
      " [nan nan]\n",
      " [nan nan]\n",
      " [nan nan]\n",
      " [nan nan]\n",
      " [nan nan]]\n",
      "[nan]\n",
      "fish n_source 3: dim 10: params len 103: offset 0\n"
     ]
    },
    {
     "name": "stderr",
     "output_type": "stream",
     "text": [
      "/home/reyna/BayesHopperBurst/QuickBurst/QuickBurst_MCMC.py:409: RuntimeWarning: invalid value encountered in true_divide\n",
      "/home/reyna/BayesHopperBurst/QuickBurst/QuickBurst_MCMC.py:448: RuntimeWarning: Mean of empty slice\n",
      "/home/reyna/BayesHopperBurst/QuickBurst/QuickBurst_MCMC.py:496: RuntimeWarning: invalid value encountered in true_divide\n"
     ]
    },
    {
     "name": "stdout",
     "output_type": "stream",
     "text": [
      "Changed some nan elements in the Fisher matrix to 1.0\n",
      "Changed some nan elements in the Fisher matrix to 1.0\n",
      "Changed some nan elements in the Fisher matrix to 1.0\n",
      "fish n_source 1: dim 6: params len 103: offset 30\n",
      "Changed some nan elements in the Fisher matrix to 1.0\n",
      "fish n_source 1: dim 67: params len 103: offset 36\n",
      "Changed some nan elements in the Fisher matrix to 1.0\n",
      "fish n_source 3: dim 10: params len 103: offset 0\n",
      "Changed some nan elements in the Fisher matrix to 1.0\n",
      "Changed some nan elements in the Fisher matrix to 1.0\n",
      "Changed some nan elements in the Fisher matrix to 1.0\n",
      "fish n_source 1: dim 6: params len 103: offset 30\n",
      "Changed some nan elements in the Fisher matrix to 1.0\n",
      "fish n_source 1: dim 67: params len 103: offset 36\n",
      "Changed some nan elements in the Fisher matrix to 1.0\n"
     ]
    },
    {
     "name": "stderr",
     "output_type": "stream",
     "text": [
      "/home/reyna/BayesHopperBurst/QuickBurst/QuickBurst_MCMC.py:556: ComplexWarning: Casting complex values to real discards the imaginary part\n",
      "/home/reyna/BayesHopperBurst/QuickBurst/QuickBurst_MCMC.py:577: RuntimeWarning: invalid value encountered in true_divide\n"
     ]
    }
   ],
   "source": [
    "%lprun -f QuickBurst_MCMC.get_fisher_eigenvectors QuickBurst_MCMC.run_bhb(N, T_max, n_chain, psrs,max_n_wavelet=5,min_n_wavelet=0,n_wavelet_start=3,RJ_weight=0,glitch_RJ_weight=0,regular_weight=4,noise_jump_weight=0,PT_swap_weight=1,tau_scan_proposal_weight=0,glitch_tau_scan_proposal_weight=0,gwb_switch_weight=0,rn_log_amp_range=[-18,-15],wavelet_log_amp_range=[-10.0,-5],per_psr_rn_log_amp_range=[-18,-15],prior_recovery=False,rn_amp_prior='log-uniform',wavelet_amp_prior='uniform',per_psr_rn_amp_prior='log-uniform',max_n_glitch=5,n_glitch_start=1,glitch_log_amp_range=[-10.0,-5],glitch_amp_prior='uniform',t0_max=10,draw_from_prior_weight=0, de_weight=0,vary_white_noise=True,include_gwb=False,include_rn=False, vary_rn=False,include_equad_ecorr=False,wn_backend_selection=False,noisedict_file=noise_file,include_per_psr_rn=False,vary_per_psr_rn=False,savefile=savefile, save_every_n=1)"
   ]
  },
  {
   "cell_type": "code",
   "execution_count": null,
   "id": "3afffab8",
   "metadata": {},
   "outputs": [],
   "source": []
  }
 ],
 "metadata": {
  "kernelspec": {
   "display_name": "Python 3 (ipykernel)",
   "language": "python",
   "name": "python3"
  },
  "language_info": {
   "codemirror_mode": {
    "name": "ipython",
    "version": 3
   },
   "file_extension": ".py",
   "mimetype": "text/x-python",
   "name": "python",
   "nbconvert_exporter": "python",
   "pygments_lexer": "ipython3",
   "version": "3.9.12"
  },
  "toc": {
   "base_numbering": 1,
   "nav_menu": {},
   "number_sections": true,
   "sideBar": true,
   "skip_h1_title": false,
   "title_cell": "Table of Contents",
   "title_sidebar": "Contents",
   "toc_cell": false,
   "toc_position": {},
   "toc_section_display": true,
   "toc_window_display": false
  }
 },
 "nbformat": 4,
 "nbformat_minor": 5
}
